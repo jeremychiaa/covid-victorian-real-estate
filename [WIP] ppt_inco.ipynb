{
 "cells": [
  {
   "cell_type": "code",
   "execution_count": null,
   "metadata": {},
   "outputs": [],
   "source": [
    "# Real estate data analysis (after Covid outbreak - February till July 16, 2020 )"
   ]
  },
  {
   "cell_type": "code",
   "execution_count": 1,
   "metadata": {},
   "outputs": [],
   "source": [
    "# import dependencies\n",
    "import pandas as pd\n",
    "import numpy as np\n",
    "import matplotlib.pyplot as plt\n",
    "import seaborn as sns\n",
    "from scipy.stats import linregress"
   ]
  },
  {
   "cell_type": "code",
   "execution_count": 2,
   "metadata": {},
   "outputs": [],
   "source": [
    "# loading property sales data file\n",
    "ppt_df = pd.read_csv('Resources/vic-sales-postcovid.csv')"
   ]
  },
  {
   "cell_type": "code",
   "execution_count": 3,
   "metadata": {},
   "outputs": [],
   "source": [
    "# calculating stats\n",
    "\n",
    "avg_price = ppt_df.price.mean()\n",
    "median_price = ppt_df.price.median()\n",
    "lowest_price = ppt_df.price.min()\n",
    "highest_price = ppt_df.price.max()\n",
    "\n",
    "lowest_priced_sub = ppt_df.loc[ppt_df['price']==lowest_price]['suburb'].values\n",
    "highest_priced_sub = ppt_df.loc[ppt_df['price']==highest_price]['suburb'].values"
   ]
  },
  {
   "cell_type": "code",
   "execution_count": 4,
   "metadata": {},
   "outputs": [
    {
     "name": "stdout",
     "output_type": "stream",
     "text": [
      "--------------------------------------------------------------------\n",
      "The suburb has the lowest price property sold at AU$ 1,000 in ['Werribee' 'Werribee']\n",
      "The suburb has the highest price property sold at AU$ 8,000,000 in ['South Yarra' 'South Yarra']\n",
      "---------------------------------------------------------------------\n"
     ]
    }
   ],
   "source": [
    "# lowest & highest values property sold\n",
    "print('--------------------------------------------------------------------')\n",
    "print(f\"The suburb has the lowest price property sold at AU$ {lowest_price:0,.0f} in {lowest_priced_sub}\");\n",
    "print(f\"The suburb has the highest price property sold at AU$ {highest_price:0,.0f} in {highest_priced_sub}\");\n",
    "print('---------------------------------------------------------------------')"
   ]
  },
  {
   "cell_type": "code",
   "execution_count": 5,
   "metadata": {},
   "outputs": [],
   "source": [
    "# Calculation of IQR and Outliers\n",
    "\n",
    "\n",
    "quartiles = ppt_df.price.quantile([.25,.5,.75])\n",
    "lowerq = quartiles[0.25]\n",
    "upperq = quartiles[0.75]\n",
    "iqr = upperq-lowerq\n",
    "\n",
    "# print(f\"The lower quartile of property price is: {lowerq:0,.0f}\")\n",
    "# print(f\"The upper quartile of property price is: {upperq:0,.0f}\")\n",
    "# print(f\"The interquartile range of property price is: {iqr:0,.0f}\")\n",
    "# print(f\"The median of property price is: {quartiles[0.5]:0,.0f}\")\n",
    "\n",
    "lower_bound = lowerq - (1.5*iqr)\n",
    "upper_bound = upperq + (1.5*iqr)\n",
    "\n",
    "# print(f\"* Values below {lower_bound:0,.0f} could be outliers.\")\n",
    "# print(f\"* Values above {upper_bound:0,.0f} could be outliers.\")"
   ]
  },
  {
   "cell_type": "code",
   "execution_count": 6,
   "metadata": {},
   "outputs": [
    {
     "data": {
      "image/png": "[encoded data removed]",
      "text/plain": [
       "<Figure size 1296x576 with 2 Axes>"
      ]
     },
     "metadata": {
      "needs_background": "light"
     },
     "output_type": "display_data"
    },
    {
     "name": "stdout",
     "output_type": "stream",
     "text": [
      "-------------------------------------------------------\n",
      "The average values of property sold is: AU$ 790,517\n",
      "The median values of property sold is: AU$ 667,000\n",
      "-------------------------------------------------------\n",
      "                                                531,250 is the lower quartile of property price\n",
      "                                                905,000 is the upper quartile of property price\n",
      "                                                373,750 is the interquartile range of property price\n",
      "                                                667,000 is the median of property price\n",
      "\n",
      "              * Values less than -29,375 or greater than 1,465,625 could be outliers.\n"
     ]
    }
   ],
   "source": [
    "# histogram chart\n",
    "\n",
    "plt.figure(figsize=(18,8))\n",
    "\n",
    "plt.subplot(1, 2, 1)\n",
    "\n",
    "plt.hist(ppt_df.price, bins = 80, color = 'blue');\n",
    "plt.ylabel(\"Property Price (AU$ M)\")\n",
    "plt.grid()\n",
    "\n",
    "plt.title('Property Price in Victoria [Feb-Jul 2020]')\n",
    "# boxplot chart\n",
    "\n",
    "plt.subplot(1, 2, 2)\n",
    "\n",
    "plt.boxplot(ppt_df.price);\n",
    "plt.title('Property Price in Victoria [Feb-Jul 2020]')\n",
    "plt.ylabel('Price (AU$ M)')\n",
    "plt.show()\n",
    "\n",
    "print('-------------------------------------------------------')\n",
    "print(f\"The average values of property sold is: AU$ {avg_price:0,.0f}\")\n",
    "print(f\"The median values of property sold is: AU$ {median_price:0,.0f}\")\n",
    "print('-------------------------------------------------------')\n",
    "\n",
    "txt1 = f\"{lowerq:0,.0f}\"\n",
    "txt2 = f\"{upperq:0,.0f}\"\n",
    "txt3 = f\"{iqr:0,.0f}\"\n",
    "txt4 = f\"{quartiles[0.5]:0,.0f}\"\n",
    "print(txt1.rjust(55), \"is the lower quartile of property price\" )\n",
    "print(txt2.rjust(55), \"is the upper quartile of property price\")\n",
    "print(txt3.rjust(55), \"is the interquartile range of property price\")\n",
    "print(txt4.rjust(55), \"is the median of property price\\n\")\n",
    "print(f\"              * Values less than {lower_bound:0,.0f} or greater than {upper_bound:0,.0f} could be outliers.\")\n"
   ]
  },
  {
   "cell_type": "code",
   "execution_count": 7,
   "metadata": {},
   "outputs": [
    {
     "data": {
      "image/png": "[encoded data removed]",
      "text/plain": [
       "<Figure size 432x288 with 1 Axes>"
      ]
     },
     "metadata": {
      "needs_background": "light"
     },
     "output_type": "display_data"
    }
   ],
   "source": [
    "\n",
    "sns.distplot(ppt_df.price, bins = 60, color = 'blue')\n",
    "plt.grid()"
   ]
  },
  {
   "cell_type": "code",
   "execution_count": 8,
   "metadata": {},
   "outputs": [
    {
     "data": {
      "text/plain": [
       "<matplotlib.axes._subplots.AxesSubplot at 0x25b794b34e0>"
      ]
     },
     "execution_count": 8,
     "metadata": {},
     "output_type": "execute_result"
    },
    {
     "data": {
      "image/png": "[encoded data removed]",
      "text/plain": [
       "<Figure size 432x288 with 2 Axes>"
      ]
     },
     "metadata": {
      "needs_background": "light"
     },
     "output_type": "display_data"
    }
   ],
   "source": [
    "sns.heatmap(ppt_df.corr(), annot=True)"
   ]
  },
  {
   "cell_type": "code",
   "execution_count": 9,
   "metadata": {},
   "outputs": [],
   "source": [
    "# removing the properties values less than $5,000\n",
    "rm_index = ppt_df.loc[ppt_df.price < 5000]\n",
    "ppt_df = ppt_df.drop(rm_index.index)"
   ]
  },
  {
   "cell_type": "code",
   "execution_count": 35,
   "metadata": {},
   "outputs": [
    {
     "data": {
      "text/html": [
       "<div>\n",
       "<style scoped>\n",
       "    .dataframe tbody tr th:only-of-type {\n",
       "        vertical-align: middle;\n",
       "    }\n",
       "\n",
       "    .dataframe tbody tr th {\n",
       "        vertical-align: top;\n",
       "    }\n",
       "\n",
       "    .dataframe thead th {\n",
       "        text-align: right;\n",
       "    }\n",
       "</style>\n",
       "<table border=\"1\" class=\"dataframe\">\n",
       "  <thead>\n",
       "    <tr style=\"text-align: right;\">\n",
       "      <th></th>\n",
       "      <th>Local Government Area</th>\n",
       "      <th>Cases</th>\n",
       "      <th>Date</th>\n",
       "    </tr>\n",
       "  </thead>\n",
       "  <tbody>\n",
       "    <tr>\n",
       "      <th>0</th>\n",
       "      <td>STONNINGTON</td>\n",
       "      <td>84</td>\n",
       "      <td>4042020</td>\n",
       "    </tr>\n",
       "    <tr>\n",
       "      <th>1</th>\n",
       "      <td>BANYULE</td>\n",
       "      <td>64</td>\n",
       "      <td>4042020</td>\n",
       "    </tr>\n",
       "    <tr>\n",
       "      <th>2</th>\n",
       "      <td>BOROONDARA</td>\n",
       "      <td>56</td>\n",
       "      <td>4042020</td>\n",
       "    </tr>\n",
       "    <tr>\n",
       "      <th>3</th>\n",
       "      <td>GREATER GEELONG</td>\n",
       "      <td>54</td>\n",
       "      <td>4042020</td>\n",
       "    </tr>\n",
       "    <tr>\n",
       "      <th>4</th>\n",
       "      <td>MORNINGTON PENINSULA</td>\n",
       "      <td>52</td>\n",
       "      <td>4042020</td>\n",
       "    </tr>\n",
       "  </tbody>\n",
       "</table>\n",
       "</div>"
      ],
      "text/plain": [
       "  Local Government Area Cases     Date\n",
       "0           STONNINGTON    84  4042020\n",
       "1               BANYULE    64  4042020\n",
       "2            BOROONDARA    56  4042020\n",
       "3       GREATER GEELONG    54  4042020\n",
       "4  MORNINGTON PENINSULA    52  4042020"
      ]
     },
     "execution_count": 35,
     "metadata": {},
     "output_type": "execute_result"
    }
   ],
   "source": [
    "# loading covid dataset\n",
    "covid_df = pd.read_excel('Resources/covid_data.xlsx')\n",
    "covid_df.head()"
   ]
  },
  {
   "cell_type": "code",
   "execution_count": 40,
   "metadata": {},
   "outputs": [
    {
     "data": {
      "image/png": "[encoded data removed]",
      "text/plain": [
       "<Figure size 864x432 with 1 Axes>"
      ]
     },
     "metadata": {
      "needs_background": "light"
     },
     "output_type": "display_data"
    }
   ],
   "source": [
    "# having a look at the data\n",
    "\n",
    "plt.figure(figsize=(12,6))\n",
    "\n",
    "plt.subplot(1, 2, 1)\n",
    "sns.distplot(covid_df.Cases, bins = 60, color = 'blue')\n",
    "plt.grid()\n",
    "plt.show()\n"
   ]
  },
  {
   "cell_type": "code",
   "execution_count": 18,
   "metadata": {},
   "outputs": [],
   "source": [
    "# convert data to suitable datatype\n",
    "covid_df['Date'] = covid_df['Date'].astype(str)\n",
    "covid_df['Cases'] = covid_df['Cases'].astype(int)\n",
    "\n",
    "# function to store month data\n",
    "covid_df['Month'] = covid_df.Date.apply(lambda x: x[x.rfind('2020')-2:x.rfind('2020')])"
   ]
  },
  {
   "cell_type": "code",
   "execution_count": 26,
   "metadata": {},
   "outputs": [
    {
     "data": {
      "image/png": "[encoded data removed]",
      "text/plain": [
       "<Figure size 1152x576 with 2 Axes>"
      ]
     },
     "metadata": {
      "needs_background": "light"
     },
     "output_type": "display_data"
    }
   ],
   "source": [
    "# property sold chart\n",
    "\n",
    "plt.figure(figsize=(16,8))\n",
    "\n",
    "plt.subplot(1, 2, 1)\n",
    "\n",
    "y_axis = ppt_by_month.suburb\n",
    "x_axis = ppt_by_month.month_sold\n",
    "plt.bar(x_axis, y_axis, color='blue', alpha=0.5, align=\"center\")\n",
    "tick_locations = [v for v in x_axis]\n",
    "plt.xticks(tick_locations, [\"Feb\", \"Mar\", \"Apr\", \"May\", \"Jun\",\"Jul\"])\n",
    "plt.xlim(-1, len(x_axis))\n",
    "plt.ylim(0, max(y_axis)+500)\n",
    "plt.xlabel('Month')\n",
    "plt.ylabel('Property Sold')\n",
    "plt.title('Number of Properties Sold in Victoria [Feb-Jul 2020]')\n",
    "plt.plot(x_axis, y_axis, color='blue')\n",
    "\n",
    "\n",
    "# covid cases chart\n",
    "plt.subplot(1, 2, 2)\n",
    "x_axis = covid_df['Month'].astype(int)\n",
    "y_axis = covid_df.Cases\n",
    " \n",
    "plt.bar(x_axis, y_axis, color='red', alpha=0.5, align=\"center\")\n",
    "tick_locations = [4, 5, 6]\n",
    "plt.xticks(tick_locations, [\"Apr\", \"May\", \"Jun\"])\n",
    "#plt.xlim(5, len(x_axis)+5)\n",
    "#plt.ylim(0, max(y_axis) + 5)\n",
    "plt.xlabel('Month')\n",
    "plt.ylabel('Covid Case')\n",
    "plt.title('Number of Covid Cases in Victoria [April-Jun 2020]')\n",
    "plt.show()\n"
   ]
  },
  {
   "cell_type": "code",
   "execution_count": 10,
   "metadata": {},
   "outputs": [
    {
     "data": {
      "text/html": [
       "<div>\n",
       "<style scoped>\n",
       "    .dataframe tbody tr th:only-of-type {\n",
       "        vertical-align: middle;\n",
       "    }\n",
       "\n",
       "    .dataframe tbody tr th {\n",
       "        vertical-align: top;\n",
       "    }\n",
       "\n",
       "    .dataframe thead th {\n",
       "        text-align: right;\n",
       "    }\n",
       "</style>\n",
       "<table border=\"1\" class=\"dataframe\">\n",
       "  <thead>\n",
       "    <tr style=\"text-align: right;\">\n",
       "      <th></th>\n",
       "      <th>date_sold</th>\n",
       "      <th>Unnamed: 0</th>\n",
       "      <th>price</th>\n",
       "      <th>suburb</th>\n",
       "      <th>city_name</th>\n",
       "      <th>state</th>\n",
       "      <th>lat</th>\n",
       "      <th>lon</th>\n",
       "      <th>bedrooms</th>\n",
       "      <th>property_type</th>\n",
       "      <th>loc_pid</th>\n",
       "      <th>lga_pid</th>\n",
       "      <th>LGA_Name</th>\n",
       "    </tr>\n",
       "  </thead>\n",
       "  <tbody>\n",
       "    <tr>\n",
       "      <th>0</th>\n",
       "      <td>2020-02-01</td>\n",
       "      <td>131</td>\n",
       "      <td>131</td>\n",
       "      <td>131</td>\n",
       "      <td>131</td>\n",
       "      <td>131</td>\n",
       "      <td>131</td>\n",
       "      <td>131</td>\n",
       "      <td>131</td>\n",
       "      <td>131</td>\n",
       "      <td>131</td>\n",
       "      <td>131</td>\n",
       "      <td>131</td>\n",
       "    </tr>\n",
       "    <tr>\n",
       "      <th>1</th>\n",
       "      <td>2020-02-02</td>\n",
       "      <td>27</td>\n",
       "      <td>27</td>\n",
       "      <td>27</td>\n",
       "      <td>27</td>\n",
       "      <td>27</td>\n",
       "      <td>27</td>\n",
       "      <td>27</td>\n",
       "      <td>27</td>\n",
       "      <td>27</td>\n",
       "      <td>27</td>\n",
       "      <td>27</td>\n",
       "      <td>27</td>\n",
       "    </tr>\n",
       "    <tr>\n",
       "      <th>2</th>\n",
       "      <td>2020-02-03</td>\n",
       "      <td>142</td>\n",
       "      <td>142</td>\n",
       "      <td>142</td>\n",
       "      <td>142</td>\n",
       "      <td>142</td>\n",
       "      <td>142</td>\n",
       "      <td>142</td>\n",
       "      <td>142</td>\n",
       "      <td>142</td>\n",
       "      <td>142</td>\n",
       "      <td>142</td>\n",
       "      <td>142</td>\n",
       "    </tr>\n",
       "    <tr>\n",
       "      <th>3</th>\n",
       "      <td>2020-02-04</td>\n",
       "      <td>155</td>\n",
       "      <td>155</td>\n",
       "      <td>155</td>\n",
       "      <td>155</td>\n",
       "      <td>155</td>\n",
       "      <td>155</td>\n",
       "      <td>155</td>\n",
       "      <td>155</td>\n",
       "      <td>155</td>\n",
       "      <td>155</td>\n",
       "      <td>155</td>\n",
       "      <td>155</td>\n",
       "    </tr>\n",
       "    <tr>\n",
       "      <th>4</th>\n",
       "      <td>2020-02-05</td>\n",
       "      <td>123</td>\n",
       "      <td>123</td>\n",
       "      <td>123</td>\n",
       "      <td>123</td>\n",
       "      <td>123</td>\n",
       "      <td>123</td>\n",
       "      <td>123</td>\n",
       "      <td>123</td>\n",
       "      <td>123</td>\n",
       "      <td>123</td>\n",
       "      <td>123</td>\n",
       "      <td>123</td>\n",
       "    </tr>\n",
       "  </tbody>\n",
       "</table>\n",
       "</div>"
      ],
      "text/plain": [
       "    date_sold  Unnamed: 0  price  suburb  city_name  state  lat  lon  \\\n",
       "0  2020-02-01         131    131     131        131    131  131  131   \n",
       "1  2020-02-02          27     27      27         27     27   27   27   \n",
       "2  2020-02-03         142    142     142        142    142  142  142   \n",
       "3  2020-02-04         155    155     155        155    155  155  155   \n",
       "4  2020-02-05         123    123     123        123    123  123  123   \n",
       "\n",
       "   bedrooms  property_type  loc_pid  lga_pid  LGA_Name  \n",
       "0       131            131      131      131       131  \n",
       "1        27             27       27       27        27  \n",
       "2       142            142      142      142       142  \n",
       "3       155            155      155      155       155  \n",
       "4       123            123      123      123       123  "
      ]
     },
     "execution_count": 10,
     "metadata": {},
     "output_type": "execute_result"
    }
   ],
   "source": [
    "ppt_by_date = ppt_df.groupby('date_sold').count().reset_index()\n",
    "ppt_by_date.head()"
   ]
  },
  {
   "cell_type": "code",
   "execution_count": 31,
   "metadata": {},
   "outputs": [
    {
     "data": {
      "image/png": "[encoded data removed]",
      "text/plain": [
       "<Figure size 1440x864 with 2 Axes>"
      ]
     },
     "metadata": {
      "needs_background": "light"
     },
     "output_type": "display_data"
    }
   ],
   "source": [
    "# property sold by date\n",
    "y_axis = ppt_by_date.suburb\n",
    "x_axis = ppt_by_date.date_sold\n",
    "\n",
    "plt.figure(figsize=(20,12))\n",
    "\n",
    "plt.subplot(2, 1, 1)\n",
    "\n",
    "\n",
    "plt.bar(x_axis, y_axis, color='r', alpha=0.5, align=\"center\")\n",
    "\n",
    "tick_locations = [25, 50, 75, 100, 125, 150]\n",
    "plt.xticks(tick_locations, [\"Feb\", \"Mar\", \"Apr\", \"May\", \"Jun\",\"Jul\"])\n",
    "plt.xlim(-1, len(x_axis))\n",
    "plt.ylim(0, max(y_axis)+50)\n",
    "plt.xlabel('Date')\n",
    "plt.ylabel('Property Count')\n",
    "plt.title('Number of Properties Sold by suburb in Victoria')\n",
    "\n",
    "#ppt_by_date.plot(x = 'date_sold', y= 'suburb', color='orange', label='Number of Properties Sold', linewidth= 2)\n",
    "x = ppt_by_date.date_sold\n",
    "y = ppt_by_date.suburb\n",
    "plt.plot(x, y, color='red', label='Number of Properties Sold', linewidth= 2)\n",
    "plt.ylabel('Property Count')\n",
    "plt.xlabel('Date')\n",
    "plt.title('Number of Properties Sold by suburb in Victoria')\n",
    "plt.legend(loc='best')\n",
    "plt.grid()\n",
    "\n",
    "\n",
    "plt.subplot(2, 1, 2)\n",
    "x_axis = ppt_by_month.month_sold\n",
    "y_axis = ppt_by_month.suburb\n",
    "\n",
    "plt.plot(x_axis, y_axis, color='r')\n",
    "tick_locations = [v for v in x_axis]\n",
    "plt.xticks(tick_locations, [\"Feb\", \"Mar\", \"Apr\", \"May\", \"Jun\",\"Jul\"])\n",
    "#plt.xticks(tick_locations, x_axis, fontsize = 7 )\n",
    "plt.xlim(-1, len(x_axis))\n",
    "plt.ylim(0, max(y_axis)+50)\n",
    "plt.xlabel('Month')\n",
    "plt.ylabel('Property Sales Count')\n",
    "plt.title('Number of Properties Sold by suburb in Victoria')\n",
    "\n",
    "plt.show()"
   ]
  },
  {
   "cell_type": "code",
   "execution_count": 12,
   "metadata": {},
   "outputs": [
    {
     "data": {
      "text/html": [
       "<div>\n",
       "<style scoped>\n",
       "    .dataframe tbody tr th:only-of-type {\n",
       "        vertical-align: middle;\n",
       "    }\n",
       "\n",
       "    .dataframe tbody tr th {\n",
       "        vertical-align: top;\n",
       "    }\n",
       "\n",
       "    .dataframe thead th {\n",
       "        text-align: right;\n",
       "    }\n",
       "</style>\n",
       "<table border=\"1\" class=\"dataframe\">\n",
       "  <thead>\n",
       "    <tr style=\"text-align: right;\">\n",
       "      <th></th>\n",
       "      <th>month_sold</th>\n",
       "      <th>Unnamed: 0</th>\n",
       "      <th>price</th>\n",
       "      <th>suburb</th>\n",
       "      <th>city_name</th>\n",
       "      <th>state</th>\n",
       "      <th>lat</th>\n",
       "      <th>lon</th>\n",
       "      <th>bedrooms</th>\n",
       "      <th>property_type</th>\n",
       "      <th>loc_pid</th>\n",
       "      <th>lga_pid</th>\n",
       "      <th>LGA_Name</th>\n",
       "    </tr>\n",
       "  </thead>\n",
       "  <tbody>\n",
       "    <tr>\n",
       "      <th>0</th>\n",
       "      <td>02</td>\n",
       "      <td>5811</td>\n",
       "      <td>5811</td>\n",
       "      <td>5811</td>\n",
       "      <td>5811</td>\n",
       "      <td>5811</td>\n",
       "      <td>5811</td>\n",
       "      <td>5811</td>\n",
       "      <td>5811</td>\n",
       "      <td>5811</td>\n",
       "      <td>5811</td>\n",
       "      <td>5811</td>\n",
       "      <td>5811</td>\n",
       "    </tr>\n",
       "    <tr>\n",
       "      <th>1</th>\n",
       "      <td>03</td>\n",
       "      <td>5455</td>\n",
       "      <td>5455</td>\n",
       "      <td>5455</td>\n",
       "      <td>5455</td>\n",
       "      <td>5455</td>\n",
       "      <td>5455</td>\n",
       "      <td>5455</td>\n",
       "      <td>5455</td>\n",
       "      <td>5455</td>\n",
       "      <td>5455</td>\n",
       "      <td>5455</td>\n",
       "      <td>5455</td>\n",
       "    </tr>\n",
       "    <tr>\n",
       "      <th>2</th>\n",
       "      <td>04</td>\n",
       "      <td>3090</td>\n",
       "      <td>3090</td>\n",
       "      <td>3090</td>\n",
       "      <td>3090</td>\n",
       "      <td>3090</td>\n",
       "      <td>3090</td>\n",
       "      <td>3090</td>\n",
       "      <td>3090</td>\n",
       "      <td>3090</td>\n",
       "      <td>3090</td>\n",
       "      <td>3090</td>\n",
       "      <td>3090</td>\n",
       "    </tr>\n",
       "    <tr>\n",
       "      <th>3</th>\n",
       "      <td>05</td>\n",
       "      <td>3128</td>\n",
       "      <td>3128</td>\n",
       "      <td>3128</td>\n",
       "      <td>3128</td>\n",
       "      <td>3128</td>\n",
       "      <td>3128</td>\n",
       "      <td>3128</td>\n",
       "      <td>3128</td>\n",
       "      <td>3128</td>\n",
       "      <td>3128</td>\n",
       "      <td>3128</td>\n",
       "      <td>3128</td>\n",
       "    </tr>\n",
       "    <tr>\n",
       "      <th>4</th>\n",
       "      <td>06</td>\n",
       "      <td>3394</td>\n",
       "      <td>3394</td>\n",
       "      <td>3394</td>\n",
       "      <td>3394</td>\n",
       "      <td>3394</td>\n",
       "      <td>3394</td>\n",
       "      <td>3394</td>\n",
       "      <td>3394</td>\n",
       "      <td>3394</td>\n",
       "      <td>3394</td>\n",
       "      <td>3394</td>\n",
       "      <td>3394</td>\n",
       "    </tr>\n",
       "    <tr>\n",
       "      <th>5</th>\n",
       "      <td>07</td>\n",
       "      <td>1450</td>\n",
       "      <td>1450</td>\n",
       "      <td>1450</td>\n",
       "      <td>1450</td>\n",
       "      <td>1450</td>\n",
       "      <td>1450</td>\n",
       "      <td>1450</td>\n",
       "      <td>1450</td>\n",
       "      <td>1450</td>\n",
       "      <td>1450</td>\n",
       "      <td>1450</td>\n",
       "      <td>1450</td>\n",
       "    </tr>\n",
       "  </tbody>\n",
       "</table>\n",
       "</div>"
      ],
      "text/plain": [
       "  month_sold  Unnamed: 0  price  suburb  city_name  state   lat   lon  \\\n",
       "0         02        5811   5811    5811       5811   5811  5811  5811   \n",
       "1         03        5455   5455    5455       5455   5455  5455  5455   \n",
       "2         04        3090   3090    3090       3090   3090  3090  3090   \n",
       "3         05        3128   3128    3128       3128   3128  3128  3128   \n",
       "4         06        3394   3394    3394       3394   3394  3394  3394   \n",
       "5         07        1450   1450    1450       1450   1450  1450  1450   \n",
       "\n",
       "   bedrooms  property_type  loc_pid  lga_pid  LGA_Name  \n",
       "0      5811           5811     5811     5811      5811  \n",
       "1      5455           5455     5455     5455      5455  \n",
       "2      3090           3090     3090     3090      3090  \n",
       "3      3128           3128     3128     3128      3128  \n",
       "4      3394           3394     3394     3394      3394  \n",
       "5      1450           1450     1450     1450      1450  "
      ]
     },
     "execution_count": 12,
     "metadata": {},
     "output_type": "execute_result"
    }
   ],
   "source": [
    "# grouping properties sold by month\n",
    "ppt_by_date['date_sold'] = ppt_by_date['date_sold'].astype(str);\n",
    "ppt_by_date['month_sold'] = ppt_by_date.date_sold.apply(lambda x: x[5:7])\n",
    "ppt_by_month = ppt_by_date.groupby('month_sold').sum().reset_index()\n",
    "ppt_by_month"
   ]
  },
  {
   "cell_type": "code",
   "execution_count": null,
   "metadata": {},
   "outputs": [],
   "source": []
  },
  {
   "cell_type": "code",
   "execution_count": 17,
   "metadata": {},
   "outputs": [],
   "source": []
  },
  {
   "cell_type": "code",
   "execution_count": null,
   "metadata": {},
   "outputs": [],
   "source": [
    "# grouping properties sold by lga\n",
    "ppt_df = pd.read_csv('Resources/vic-sales-postcovid.csv')\n",
    "ppt_lga_df = ppt_df.groupby(['date_sold','lga_pid']) #('count') \n",
    "\n",
    "#ppt_lga_df\n",
    "#,inplace=True)\n",
    "#ppt_df.reset_index() #head() #.groupby('lga_pid')[['date_sold','suburb']].count()"
   ]
  },
  {
   "cell_type": "code",
   "execution_count": null,
   "metadata": {},
   "outputs": [],
   "source": [
    "sorted_ppt_df = ppt_df.sort_values(by=['date_sold','lga_pid'])\n",
    "sorted_ppt_df.head()"
   ]
  },
  {
   "cell_type": "code",
   "execution_count": null,
   "metadata": {},
   "outputs": [],
   "source": [
    "sorted_ppt_df = sorted_ppt_df[['date_sold','lga_pid','suburb','price']]\n",
    "#lga_count = sorted_ppt_df['lga_pid'].value_counts().reset_index()\n",
    "suburb_count = sorted_ppt_df['suburb'].value_counts().reset_index()\n",
    "suburb_count = suburb_count.rename(columns={'index':'suburb', 'suburb':'property_sold'})\n",
    "#dt_count = sorted_ppt_df['date_sold'].value_counts() #['lga_pid'].value_counts()\n",
    "suburb_count.head()"
   ]
  },
  {
   "cell_type": "code",
   "execution_count": null,
   "metadata": {},
   "outputs": [],
   "source": [
    "# lga_count = lga_count.rename(columns={'index':'lga_pid', 'lga_pid':'property_sold'})\n",
    "# lga_count['LGA_ID'] = lga_count.lga_pid.apply(lambda x: x[x.rfind('C')+1:x.rfind('C')+4])\n",
    "\n",
    "# lga_count.head()"
   ]
  },
  {
   "cell_type": "code",
   "execution_count": null,
   "metadata": {},
   "outputs": [],
   "source": [
    "# suburb_lga_df = pd.read_csv('output/suburb_lga_postcode_df.csv')\n",
    "# suburb_lga_df.LGA_ID = suburb_lga_df.LGA_ID.astype(str)\n",
    "# suburb_lga_df = suburb_lga_df.rename(columns={'Suburb':'suburb'})\n",
    "# suburb_lga_df\n",
    "\n",
    "\n",
    "\n",
    "\n",
    "# # merging to get local government name\n",
    "# merged_lga_df = pd.merge(sorted_ppt_df,suburb_lga_df , how = \"left\", on = \"suburb\")\n",
    "# merged_lga_df.tail()"
   ]
  },
  {
   "cell_type": "code",
   "execution_count": null,
   "metadata": {},
   "outputs": [],
   "source": [
    "x_axis = suburb_count.suburb \n",
    "y_axis = suburb_count.property_sold\n",
    "\n",
    "plt.figure(figsize=(25,13)) \n",
    "plt.bar(x_axis, y_axis, color='b', alpha=0.5, align=\"center\")\n",
    "tick_locations = [v for v in x_axis]\n",
    "plt.xticks(tick_locations, x_axis, rotation='90', fontsize = 7 )\n",
    "plt.xlim(-5, len(x_axis)+ 5)\n",
    "plt.ylim(0, max(y_axis) + 50)\n",
    "plt.xlabel('Suburb')\n",
    "plt.ylabel('Property Sold')\n",
    "plt.title('Number of Property Sold by Subrub in Victoria [Feb-Jul 2020]')\n",
    "plt.show()"
   ]
  },
  {
   "cell_type": "code",
   "execution_count": null,
   "metadata": {},
   "outputs": [],
   "source": [
    "sorted_ppt_df['date_sold'] = sorted_ppt_df['date_sold'].astype(str);\n",
    "sorted_ppt_df['date_sold'] = sorted_ppt_df.date_sold.apply(lambda x: x[5:7])\n",
    "sorted_ppt_df['month_sold'] = sorted_ppt_df.groupby('date_sold').count()\n"
   ]
  },
  {
   "cell_type": "code",
   "execution_count": null,
   "metadata": {},
   "outputs": [],
   "source": [
    "grouped_df = sorted_ppt_df.groupby(['date_sold','lga_pid'])['suburb'].value_counts()"
   ]
  },
  {
   "cell_type": "code",
   "execution_count": null,
   "metadata": {},
   "outputs": [],
   "source": [
    "grouped_df = sorted_ppt_df.groupby(['date_sold','lga_pid'])['suburb'].value_counts()\n",
    "grouped_df"
   ]
  },
  {
   "cell_type": "code",
   "execution_count": null,
   "metadata": {},
   "outputs": [],
   "source": [
    "grouped_df = sorted_ppt_df.groupby(['date_sold','lga_pid'])['suburb'].value_counts()\n",
    "grouped_df"
   ]
  },
  {
   "cell_type": "code",
   "execution_count": null,
   "metadata": {},
   "outputs": [],
   "source": [
    "mgrouped_df = pd.DataFrame(grouped_df)\n",
    "mgrouped_df = mgrouped_df.rename(columns={'date_sold':'month_sold','lga_pid':'lga_id','suburb':'sub_counts'}) #.reset_index()\n",
    "mgrouped_df.reset_index(inplace=True)"
   ]
  },
  {
   "cell_type": "code",
   "execution_count": null,
   "metadata": {},
   "outputs": [],
   "source": [
    "mgrouped_df"
   ]
  },
  {
   "cell_type": "code",
   "execution_count": null,
   "metadata": {},
   "outputs": [],
   "source": [
    "plt.figure(figsize=(30,15))\n",
    "\n",
    "\n",
    "x = mgrouped_df.date_sold.astype(int)\n",
    "y = mgrouped_df.sub_counts\n",
    "plt.bar(x, y, color='orange', label='Number of Properties Sold', linewidth= 2)\n",
    "plt.ylabel('Property Count')\n",
    "plt.xlabel('Date')\n",
    "plt.title('Number of Properties Sold by suburb in Victoria')\n",
    "plt.legend(loc='best')\n",
    "#plt.grid()\n",
    "plt.show()"
   ]
  },
  {
   "cell_type": "code",
   "execution_count": null,
   "metadata": {},
   "outputs": [],
   "source": [
    "mgrouped_df = mgrouped_df.groupby(['date_sold','lga_pid','suburb']).sum()\n",
    "mgrouped_df"
   ]
  },
  {
   "cell_type": "code",
   "execution_count": null,
   "metadata": {},
   "outputs": [],
   "source": [
    "feb_df = "
   ]
  },
  {
   "cell_type": "code",
   "execution_count": null,
   "metadata": {},
   "outputs": [],
   "source": []
  },
  {
   "cell_type": "code",
   "execution_count": null,
   "metadata": {},
   "outputs": [],
   "source": [
    "sorted_ppt_df = sorted_ppt_df[['month_sold','lga_pid','suburb','price']]\n",
    "#sorted_ppt_df = sorted_ppt_df.reset_index()\n",
    "sorted_ppt_df\n",
    "\n",
    "\n",
    "#sorted_ppt_df.to_csv('output/sorted_ppt.csv')"
   ]
  },
  {
   "cell_type": "code",
   "execution_count": null,
   "metadata": {},
   "outputs": [],
   "source": [
    "#sorted_ppt_df['LGA_ID'] = sorted_ppt_df.lga_pid.apply(lambda x: x[x.rfind('C')+1:x.rfind('C')+4])"
   ]
  },
  {
   "cell_type": "code",
   "execution_count": null,
   "metadata": {},
   "outputs": [],
   "source": [
    "#sorted_ppt_df"
   ]
  },
  {
   "cell_type": "code",
   "execution_count": null,
   "metadata": {},
   "outputs": [],
   "source": [
    "# grsorted_ppt_df = sorted_ppt_df.groupby(by=['month_sold','lga_pid'])\n",
    "# grsorted_ppt_df.head()"
   ]
  },
  {
   "cell_type": "code",
   "execution_count": null,
   "metadata": {},
   "outputs": [],
   "source": [
    "# suburb_lga_df = pd.read_csv('output/suburb_lga_postcode_df.csv')\n",
    "# suburb_lga_df.LGA_ID = suburb_lga_df.LGA_ID.astype(str)\n",
    "# suburb_lga_df = suburb_lga_df.rename(columns={'Suburb':'suburb'})\n",
    "# suburb_lga_df"
   ]
  },
  {
   "cell_type": "code",
   "execution_count": null,
   "metadata": {},
   "outputs": [],
   "source": [
    "# month_lga_lst = []\n",
    "# mcount = 1\n",
    "\n",
    "# for i, row in sorted_ppt_df.iterrows():\n",
    "#     if not row['month_sold'] in month_lga_lst:\n",
    "#         month_lga_lst.append(row['month_sold'])\n",
    "#     if row['lga_pid'] in month_lga_lst:\n",
    "#         mcount += 1\n",
    "#     else:\n",
    "#         month_lga_lst.append(row['lga_pid'])\n",
    "#         month_lga_lst.append(mcount)\n",
    "#         mcount =1\n",
    " "
   ]
  },
  {
   "cell_type": "code",
   "execution_count": null,
   "metadata": {},
   "outputs": [],
   "source": []
  }
 ],
 "metadata": {
  "kernelspec": {
   "display_name": "Python 3.6.10 64-bit ('PythonData': conda)",
   "language": "python",
   "name": "python361064bitpythondatacondaa70f06a6f8ee448e835eff764d6ba02e"
  },
  "language_info": {
   "codemirror_mode": {
    "name": "ipython",
    "version": 3
   },
   "file_extension": ".py",
   "mimetype": "text/x-python",
   "name": "python",
   "nbconvert_exporter": "python",
   "pygments_lexer": "ipython3",
   "version": "3.6.10"
  }
 },
 "nbformat": 4,
 "nbformat_minor": 4
}
