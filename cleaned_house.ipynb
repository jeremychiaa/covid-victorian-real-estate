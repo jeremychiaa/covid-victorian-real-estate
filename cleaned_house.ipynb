{
 "cells": [
  {
   "cell_type": "code",
   "execution_count": 1,
   "metadata": {
    "slideshow": {
     "slide_type": "skip"
    }
   },
   "outputs": [],
   "source": [
    "# Import dependancies\n",
    "\n",
    "import pandas as pd\n",
    "import matplotlib.pyplot as plt\n",
    "import scipy.stats as st"
   ]
  },
  {
   "cell_type": "code",
   "execution_count": 2,
   "metadata": {
    "slideshow": {
     "slide_type": "skip"
    }
   },
   "outputs": [
    {
     "data": {
      "text/html": [
       "<div>\n",
       "<style scoped>\n",
       "    .dataframe tbody tr th:only-of-type {\n",
       "        vertical-align: middle;\n",
       "    }\n",
       "\n",
       "    .dataframe tbody tr th {\n",
       "        vertical-align: top;\n",
       "    }\n",
       "\n",
       "    .dataframe thead th {\n",
       "        text-align: right;\n",
       "    }\n",
       "</style>\n",
       "<table border=\"1\" class=\"dataframe\">\n",
       "  <thead>\n",
       "    <tr style=\"text-align: right;\">\n",
       "      <th></th>\n",
       "      <th>date_sold</th>\n",
       "      <th>price</th>\n",
       "      <th>suburb</th>\n",
       "      <th>city_name</th>\n",
       "      <th>state</th>\n",
       "      <th>lat</th>\n",
       "      <th>lon</th>\n",
       "      <th>bedrooms</th>\n",
       "      <th>property_type</th>\n",
       "      <th>loc_pid</th>\n",
       "      <th>lga_pid</th>\n",
       "    </tr>\n",
       "  </thead>\n",
       "  <tbody>\n",
       "    <tr>\n",
       "      <th>0</th>\n",
       "      <td>2018-09-18 00:00:00</td>\n",
       "      <td>NaN</td>\n",
       "      <td>Darling Point</td>\n",
       "      <td>Sydney</td>\n",
       "      <td>NSW</td>\n",
       "      <td>-33.869565</td>\n",
       "      <td>151.241317</td>\n",
       "      <td>3</td>\n",
       "      <td>unit</td>\n",
       "      <td>NSW1221</td>\n",
       "      <td>NSW180</td>\n",
       "    </tr>\n",
       "    <tr>\n",
       "      <th>1</th>\n",
       "      <td>2018-09-24 00:00:00</td>\n",
       "      <td>NaN</td>\n",
       "      <td>Darling Point</td>\n",
       "      <td>Sydney</td>\n",
       "      <td>NSW</td>\n",
       "      <td>-33.872179</td>\n",
       "      <td>151.239726</td>\n",
       "      <td>3</td>\n",
       "      <td>unit</td>\n",
       "      <td>NSW1221</td>\n",
       "      <td>NSW180</td>\n",
       "    </tr>\n",
       "    <tr>\n",
       "      <th>2</th>\n",
       "      <td>2018-09-26 00:00:00</td>\n",
       "      <td>1730000.0</td>\n",
       "      <td>Darling Point</td>\n",
       "      <td>Sydney</td>\n",
       "      <td>NSW</td>\n",
       "      <td>-33.868386</td>\n",
       "      <td>151.237471</td>\n",
       "      <td>2</td>\n",
       "      <td>unit</td>\n",
       "      <td>NSW1221</td>\n",
       "      <td>NSW180</td>\n",
       "    </tr>\n",
       "    <tr>\n",
       "      <th>3</th>\n",
       "      <td>2018-09-26 00:00:00</td>\n",
       "      <td>1928000.0</td>\n",
       "      <td>Darling Point</td>\n",
       "      <td>Sydney</td>\n",
       "      <td>NSW</td>\n",
       "      <td>-33.875465</td>\n",
       "      <td>151.236280</td>\n",
       "      <td>3</td>\n",
       "      <td>unit</td>\n",
       "      <td>NSW1221</td>\n",
       "      <td>NSW180</td>\n",
       "    </tr>\n",
       "    <tr>\n",
       "      <th>4</th>\n",
       "      <td>2018-10-02 00:00:00</td>\n",
       "      <td>1475000.0</td>\n",
       "      <td>Darling Point</td>\n",
       "      <td>Sydney</td>\n",
       "      <td>NSW</td>\n",
       "      <td>-33.875734</td>\n",
       "      <td>151.233575</td>\n",
       "      <td>3</td>\n",
       "      <td>unit</td>\n",
       "      <td>NSW1221</td>\n",
       "      <td>NSW180</td>\n",
       "    </tr>\n",
       "  </tbody>\n",
       "</table>\n",
       "</div>"
      ],
      "text/plain": [
       "             date_sold      price         suburb city_name state        lat  \\\n",
       "0  2018-09-18 00:00:00        NaN  Darling Point    Sydney   NSW -33.869565   \n",
       "1  2018-09-24 00:00:00        NaN  Darling Point    Sydney   NSW -33.872179   \n",
       "2  2018-09-26 00:00:00  1730000.0  Darling Point    Sydney   NSW -33.868386   \n",
       "3  2018-09-26 00:00:00  1928000.0  Darling Point    Sydney   NSW -33.875465   \n",
       "4  2018-10-02 00:00:00  1475000.0  Darling Point    Sydney   NSW -33.875734   \n",
       "\n",
       "          lon  bedrooms property_type  loc_pid lga_pid  \n",
       "0  151.241317         3          unit  NSW1221  NSW180  \n",
       "1  151.239726         3          unit  NSW1221  NSW180  \n",
       "2  151.237471         2          unit  NSW1221  NSW180  \n",
       "3  151.236280         3          unit  NSW1221  NSW180  \n",
       "4  151.233575         3          unit  NSW1221  NSW180  "
      ]
     },
     "execution_count": 2,
     "metadata": {},
     "output_type": "execute_result"
    }
   ],
   "source": [
    "# Set the path for the property sales data and read the CSV into a dataframe\n",
    "path = \"Resources/aus-property-sales-sep2018-april2020.csv\"\n",
    "\n",
    "sales_df = pd.read_csv(path)\n",
    "sales_df.head()"
   ]
  },
  {
   "cell_type": "code",
   "execution_count": 3,
   "metadata": {
    "slideshow": {
     "slide_type": "skip"
    }
   },
   "outputs": [
    {
     "data": {
      "text/html": [
       "<div>\n",
       "<style scoped>\n",
       "    .dataframe tbody tr th:only-of-type {\n",
       "        vertical-align: middle;\n",
       "    }\n",
       "\n",
       "    .dataframe tbody tr th {\n",
       "        vertical-align: top;\n",
       "    }\n",
       "\n",
       "    .dataframe thead th {\n",
       "        text-align: right;\n",
       "    }\n",
       "</style>\n",
       "<table border=\"1\" class=\"dataframe\">\n",
       "  <thead>\n",
       "    <tr style=\"text-align: right;\">\n",
       "      <th></th>\n",
       "      <th>date_sold</th>\n",
       "      <th>price</th>\n",
       "      <th>suburb</th>\n",
       "      <th>city_name</th>\n",
       "      <th>state</th>\n",
       "      <th>lat</th>\n",
       "      <th>lon</th>\n",
       "      <th>bedrooms</th>\n",
       "      <th>property_type</th>\n",
       "      <th>loc_pid</th>\n",
       "      <th>lga_pid</th>\n",
       "    </tr>\n",
       "  </thead>\n",
       "  <tbody>\n",
       "    <tr>\n",
       "      <th>0</th>\n",
       "      <td>2018-09-04 00:00:00</td>\n",
       "      <td>337500.0</td>\n",
       "      <td>Healesville</td>\n",
       "      <td>Melbourne</td>\n",
       "      <td>VIC</td>\n",
       "      <td>-37.661765</td>\n",
       "      <td>145.510034</td>\n",
       "      <td>1</td>\n",
       "      <td>unit</td>\n",
       "      <td>VIC1150</td>\n",
       "      <td>VIC129</td>\n",
       "    </tr>\n",
       "    <tr>\n",
       "      <th>1</th>\n",
       "      <td>2018-09-05 00:00:00</td>\n",
       "      <td>370000.0</td>\n",
       "      <td>Healesville</td>\n",
       "      <td>Melbourne</td>\n",
       "      <td>VIC</td>\n",
       "      <td>-37.648961</td>\n",
       "      <td>145.522798</td>\n",
       "      <td>2</td>\n",
       "      <td>unit</td>\n",
       "      <td>VIC1150</td>\n",
       "      <td>VIC129</td>\n",
       "    </tr>\n",
       "    <tr>\n",
       "      <th>2</th>\n",
       "      <td>2018-11-02 00:00:00</td>\n",
       "      <td>320000.0</td>\n",
       "      <td>Healesville</td>\n",
       "      <td>Melbourne</td>\n",
       "      <td>VIC</td>\n",
       "      <td>-37.663509</td>\n",
       "      <td>145.509362</td>\n",
       "      <td>2</td>\n",
       "      <td>unit</td>\n",
       "      <td>VIC1150</td>\n",
       "      <td>VIC129</td>\n",
       "    </tr>\n",
       "    <tr>\n",
       "      <th>3</th>\n",
       "      <td>2018-11-02 00:00:00</td>\n",
       "      <td>385000.0</td>\n",
       "      <td>Healesville</td>\n",
       "      <td>Melbourne</td>\n",
       "      <td>VIC</td>\n",
       "      <td>-37.637402</td>\n",
       "      <td>145.497330</td>\n",
       "      <td>2</td>\n",
       "      <td>unit</td>\n",
       "      <td>VIC1150</td>\n",
       "      <td>VIC129</td>\n",
       "    </tr>\n",
       "    <tr>\n",
       "      <th>4</th>\n",
       "      <td>2018-11-03 00:00:00</td>\n",
       "      <td>440000.0</td>\n",
       "      <td>Healesville</td>\n",
       "      <td>Melbourne</td>\n",
       "      <td>VIC</td>\n",
       "      <td>-37.662562</td>\n",
       "      <td>145.509064</td>\n",
       "      <td>3</td>\n",
       "      <td>unit</td>\n",
       "      <td>VIC1150</td>\n",
       "      <td>VIC129</td>\n",
       "    </tr>\n",
       "  </tbody>\n",
       "</table>\n",
       "</div>"
      ],
      "text/plain": [
       "             date_sold     price       suburb  city_name state        lat  \\\n",
       "0  2018-09-04 00:00:00  337500.0  Healesville  Melbourne   VIC -37.661765   \n",
       "1  2018-09-05 00:00:00  370000.0  Healesville  Melbourne   VIC -37.648961   \n",
       "2  2018-11-02 00:00:00  320000.0  Healesville  Melbourne   VIC -37.663509   \n",
       "3  2018-11-02 00:00:00  385000.0  Healesville  Melbourne   VIC -37.637402   \n",
       "4  2018-11-03 00:00:00  440000.0  Healesville  Melbourne   VIC -37.662562   \n",
       "\n",
       "          lon  bedrooms property_type  loc_pid lga_pid  \n",
       "0  145.510034         1          unit  VIC1150  VIC129  \n",
       "1  145.522798         2          unit  VIC1150  VIC129  \n",
       "2  145.509362         2          unit  VIC1150  VIC129  \n",
       "3  145.497330         2          unit  VIC1150  VIC129  \n",
       "4  145.509064         3          unit  VIC1150  VIC129  "
      ]
     },
     "execution_count": 3,
     "metadata": {},
     "output_type": "execute_result"
    }
   ],
   "source": [
    "# Filter the dataframe to only contain results in Victoria\n",
    "victorian_sales_df = sales_df.loc[sales_df[\"state\"] == \"VIC\", :].reset_index(drop=True)\n",
    "victorian_sales_df.head()"
   ]
  },
  {
   "cell_type": "code",
   "execution_count": 4,
   "metadata": {
    "slideshow": {
     "slide_type": "skip"
    }
   },
   "outputs": [
    {
     "data": {
      "text/plain": [
       "date_sold        119180\n",
       "price             98550\n",
       "suburb           119180\n",
       "city_name        119180\n",
       "state            119180\n",
       "lat              119163\n",
       "lon              119163\n",
       "bedrooms         119180\n",
       "property_type    119180\n",
       "loc_pid          119180\n",
       "lga_pid          119180\n",
       "dtype: int64"
      ]
     },
     "execution_count": 4,
     "metadata": {},
     "output_type": "execute_result"
    }
   ],
   "source": [
    "# Look through the data to see if there are any missing values\n",
    "victorian_sales_df.count()"
   ]
  },
  {
   "cell_type": "code",
   "execution_count": 5,
   "metadata": {
    "slideshow": {
     "slide_type": "skip"
    }
   },
   "outputs": [],
   "source": [
    "# Drop any rows that are incomplete\n",
    "# The missing values are price, this is the most important variable for our analysis so it's safe to drop those rows\n",
    "victorian_sales_df.dropna(how = \"any\", inplace = True)"
   ]
  },
  {
   "cell_type": "code",
   "execution_count": 6,
   "metadata": {
    "slideshow": {
     "slide_type": "skip"
    }
   },
   "outputs": [
    {
     "data": {
      "text/plain": [
       "date_sold        98535\n",
       "price            98535\n",
       "suburb           98535\n",
       "city_name        98535\n",
       "state            98535\n",
       "lat              98535\n",
       "lon              98535\n",
       "bedrooms         98535\n",
       "property_type    98535\n",
       "loc_pid          98535\n",
       "lga_pid          98535\n",
       "dtype: int64"
      ]
     },
     "execution_count": 6,
     "metadata": {},
     "output_type": "execute_result"
    }
   ],
   "source": [
    "# Check that the rows have been dropped successfully\n",
    "# There is still plenty of remaining data for the analysis\n",
    "victorian_sales_df.count()"
   ]
  },
  {
   "cell_type": "code",
   "execution_count": 7,
   "metadata": {
    "slideshow": {
     "slide_type": "skip"
    }
   },
   "outputs": [
    {
     "data": {
      "text/html": [
       "<div>\n",
       "<style scoped>\n",
       "    .dataframe tbody tr th:only-of-type {\n",
       "        vertical-align: middle;\n",
       "    }\n",
       "\n",
       "    .dataframe tbody tr th {\n",
       "        vertical-align: top;\n",
       "    }\n",
       "\n",
       "    .dataframe thead th {\n",
       "        text-align: right;\n",
       "    }\n",
       "</style>\n",
       "<table border=\"1\" class=\"dataframe\">\n",
       "  <thead>\n",
       "    <tr style=\"text-align: right;\">\n",
       "      <th></th>\n",
       "      <th>date_sold</th>\n",
       "      <th>price</th>\n",
       "      <th>suburb</th>\n",
       "      <th>city_name</th>\n",
       "      <th>state</th>\n",
       "      <th>lat</th>\n",
       "      <th>lon</th>\n",
       "      <th>bedrooms</th>\n",
       "      <th>property_type</th>\n",
       "      <th>loc_pid</th>\n",
       "      <th>lga_pid</th>\n",
       "    </tr>\n",
       "  </thead>\n",
       "  <tbody>\n",
       "    <tr>\n",
       "      <th>0</th>\n",
       "      <td>2018-09-04</td>\n",
       "      <td>337500.0</td>\n",
       "      <td>Healesville</td>\n",
       "      <td>Melbourne</td>\n",
       "      <td>VIC</td>\n",
       "      <td>-37.661765</td>\n",
       "      <td>145.510034</td>\n",
       "      <td>1</td>\n",
       "      <td>unit</td>\n",
       "      <td>VIC1150</td>\n",
       "      <td>VIC129</td>\n",
       "    </tr>\n",
       "    <tr>\n",
       "      <th>1</th>\n",
       "      <td>2018-09-05</td>\n",
       "      <td>370000.0</td>\n",
       "      <td>Healesville</td>\n",
       "      <td>Melbourne</td>\n",
       "      <td>VIC</td>\n",
       "      <td>-37.648961</td>\n",
       "      <td>145.522798</td>\n",
       "      <td>2</td>\n",
       "      <td>unit</td>\n",
       "      <td>VIC1150</td>\n",
       "      <td>VIC129</td>\n",
       "    </tr>\n",
       "    <tr>\n",
       "      <th>2</th>\n",
       "      <td>2018-11-02</td>\n",
       "      <td>320000.0</td>\n",
       "      <td>Healesville</td>\n",
       "      <td>Melbourne</td>\n",
       "      <td>VIC</td>\n",
       "      <td>-37.663509</td>\n",
       "      <td>145.509362</td>\n",
       "      <td>2</td>\n",
       "      <td>unit</td>\n",
       "      <td>VIC1150</td>\n",
       "      <td>VIC129</td>\n",
       "    </tr>\n",
       "    <tr>\n",
       "      <th>3</th>\n",
       "      <td>2018-11-02</td>\n",
       "      <td>385000.0</td>\n",
       "      <td>Healesville</td>\n",
       "      <td>Melbourne</td>\n",
       "      <td>VIC</td>\n",
       "      <td>-37.637402</td>\n",
       "      <td>145.497330</td>\n",
       "      <td>2</td>\n",
       "      <td>unit</td>\n",
       "      <td>VIC1150</td>\n",
       "      <td>VIC129</td>\n",
       "    </tr>\n",
       "    <tr>\n",
       "      <th>4</th>\n",
       "      <td>2018-11-03</td>\n",
       "      <td>440000.0</td>\n",
       "      <td>Healesville</td>\n",
       "      <td>Melbourne</td>\n",
       "      <td>VIC</td>\n",
       "      <td>-37.662562</td>\n",
       "      <td>145.509064</td>\n",
       "      <td>3</td>\n",
       "      <td>unit</td>\n",
       "      <td>VIC1150</td>\n",
       "      <td>VIC129</td>\n",
       "    </tr>\n",
       "  </tbody>\n",
       "</table>\n",
       "</div>"
      ],
      "text/plain": [
       "    date_sold     price       suburb  city_name state        lat         lon  \\\n",
       "0  2018-09-04  337500.0  Healesville  Melbourne   VIC -37.661765  145.510034   \n",
       "1  2018-09-05  370000.0  Healesville  Melbourne   VIC -37.648961  145.522798   \n",
       "2  2018-11-02  320000.0  Healesville  Melbourne   VIC -37.663509  145.509362   \n",
       "3  2018-11-02  385000.0  Healesville  Melbourne   VIC -37.637402  145.497330   \n",
       "4  2018-11-03  440000.0  Healesville  Melbourne   VIC -37.662562  145.509064   \n",
       "\n",
       "   bedrooms property_type  loc_pid lga_pid  \n",
       "0         1          unit  VIC1150  VIC129  \n",
       "1         2          unit  VIC1150  VIC129  \n",
       "2         2          unit  VIC1150  VIC129  \n",
       "3         2          unit  VIC1150  VIC129  \n",
       "4         3          unit  VIC1150  VIC129  "
      ]
     },
     "execution_count": 7,
     "metadata": {},
     "output_type": "execute_result"
    }
   ],
   "source": [
    "# Remove the time component of the date_sold column, leaving only the date of the transaction\n",
    "victorian_sales_df[\"date_sold\"] = victorian_sales_df[\"date_sold\"].str[0:10]\n",
    "victorian_sales_df.head()"
   ]
  },
  {
   "cell_type": "code",
   "execution_count": 8,
   "metadata": {
    "slideshow": {
     "slide_type": "skip"
    }
   },
   "outputs": [
    {
     "data": {
      "text/html": [
       "<div>\n",
       "<style scoped>\n",
       "    .dataframe tbody tr th:only-of-type {\n",
       "        vertical-align: middle;\n",
       "    }\n",
       "\n",
       "    .dataframe tbody tr th {\n",
       "        vertical-align: top;\n",
       "    }\n",
       "\n",
       "    .dataframe thead th {\n",
       "        text-align: right;\n",
       "    }\n",
       "</style>\n",
       "<table border=\"1\" class=\"dataframe\">\n",
       "  <thead>\n",
       "    <tr style=\"text-align: right;\">\n",
       "      <th></th>\n",
       "      <th>suburb</th>\n",
       "      <th>LGA_Name</th>\n",
       "    </tr>\n",
       "  </thead>\n",
       "  <tbody>\n",
       "    <tr>\n",
       "      <th>0</th>\n",
       "      <td>Alberton</td>\n",
       "      <td>Wellington</td>\n",
       "    </tr>\n",
       "    <tr>\n",
       "      <th>1</th>\n",
       "      <td>Allansford</td>\n",
       "      <td>Warrnambool</td>\n",
       "    </tr>\n",
       "    <tr>\n",
       "      <th>2</th>\n",
       "      <td>Avoca</td>\n",
       "      <td>Pyrenees</td>\n",
       "    </tr>\n",
       "    <tr>\n",
       "      <th>3</th>\n",
       "      <td>Avenel</td>\n",
       "      <td>Strathbogie</td>\n",
       "    </tr>\n",
       "    <tr>\n",
       "      <th>4</th>\n",
       "      <td>Warrandyte</td>\n",
       "      <td>Manningham</td>\n",
       "    </tr>\n",
       "  </tbody>\n",
       "</table>\n",
       "</div>"
      ],
      "text/plain": [
       "       suburb     LGA_Name\n",
       "0    Alberton   Wellington\n",
       "1  Allansford  Warrnambool\n",
       "2       Avoca     Pyrenees\n",
       "3      Avenel  Strathbogie\n",
       "4  Warrandyte   Manningham"
      ]
     },
     "execution_count": 8,
     "metadata": {},
     "output_type": "execute_result"
    }
   ],
   "source": [
    "# Set the path for a CSV created to match suburbs and Local Government Areas and read into a dataframe\n",
    "path = \"output/suburb_lga_df.csv\"\n",
    "\n",
    "suburb_lga_df = pd.read_csv(path)\n",
    "suburb_lga_df.rename(columns = {\"Suburb\": \"suburb\"}, inplace=True)\n",
    "suburb_lga_df.head()"
   ]
  },
  {
   "cell_type": "code",
   "execution_count": 9,
   "metadata": {
    "slideshow": {
     "slide_type": "skip"
    }
   },
   "outputs": [
    {
     "data": {
      "text/html": [
       "<div>\n",
       "<style scoped>\n",
       "    .dataframe tbody tr th:only-of-type {\n",
       "        vertical-align: middle;\n",
       "    }\n",
       "\n",
       "    .dataframe tbody tr th {\n",
       "        vertical-align: top;\n",
       "    }\n",
       "\n",
       "    .dataframe thead th {\n",
       "        text-align: right;\n",
       "    }\n",
       "</style>\n",
       "<table border=\"1\" class=\"dataframe\">\n",
       "  <thead>\n",
       "    <tr style=\"text-align: right;\">\n",
       "      <th></th>\n",
       "      <th>date_sold</th>\n",
       "      <th>price</th>\n",
       "      <th>suburb</th>\n",
       "      <th>city_name</th>\n",
       "      <th>state</th>\n",
       "      <th>lat</th>\n",
       "      <th>lon</th>\n",
       "      <th>bedrooms</th>\n",
       "      <th>property_type</th>\n",
       "      <th>loc_pid</th>\n",
       "      <th>lga_pid</th>\n",
       "      <th>LGA_Name</th>\n",
       "    </tr>\n",
       "  </thead>\n",
       "  <tbody>\n",
       "    <tr>\n",
       "      <th>0</th>\n",
       "      <td>2018-09-04</td>\n",
       "      <td>337500.0</td>\n",
       "      <td>Healesville</td>\n",
       "      <td>Melbourne</td>\n",
       "      <td>VIC</td>\n",
       "      <td>-37.661765</td>\n",
       "      <td>145.510034</td>\n",
       "      <td>1</td>\n",
       "      <td>unit</td>\n",
       "      <td>VIC1150</td>\n",
       "      <td>VIC129</td>\n",
       "      <td>Yarra</td>\n",
       "    </tr>\n",
       "    <tr>\n",
       "      <th>1</th>\n",
       "      <td>2018-09-05</td>\n",
       "      <td>370000.0</td>\n",
       "      <td>Healesville</td>\n",
       "      <td>Melbourne</td>\n",
       "      <td>VIC</td>\n",
       "      <td>-37.648961</td>\n",
       "      <td>145.522798</td>\n",
       "      <td>2</td>\n",
       "      <td>unit</td>\n",
       "      <td>VIC1150</td>\n",
       "      <td>VIC129</td>\n",
       "      <td>Yarra</td>\n",
       "    </tr>\n",
       "    <tr>\n",
       "      <th>2</th>\n",
       "      <td>2018-11-02</td>\n",
       "      <td>320000.0</td>\n",
       "      <td>Healesville</td>\n",
       "      <td>Melbourne</td>\n",
       "      <td>VIC</td>\n",
       "      <td>-37.663509</td>\n",
       "      <td>145.509362</td>\n",
       "      <td>2</td>\n",
       "      <td>unit</td>\n",
       "      <td>VIC1150</td>\n",
       "      <td>VIC129</td>\n",
       "      <td>Yarra</td>\n",
       "    </tr>\n",
       "    <tr>\n",
       "      <th>3</th>\n",
       "      <td>2018-11-02</td>\n",
       "      <td>385000.0</td>\n",
       "      <td>Healesville</td>\n",
       "      <td>Melbourne</td>\n",
       "      <td>VIC</td>\n",
       "      <td>-37.637402</td>\n",
       "      <td>145.497330</td>\n",
       "      <td>2</td>\n",
       "      <td>unit</td>\n",
       "      <td>VIC1150</td>\n",
       "      <td>VIC129</td>\n",
       "      <td>Yarra</td>\n",
       "    </tr>\n",
       "    <tr>\n",
       "      <th>4</th>\n",
       "      <td>2018-11-03</td>\n",
       "      <td>440000.0</td>\n",
       "      <td>Healesville</td>\n",
       "      <td>Melbourne</td>\n",
       "      <td>VIC</td>\n",
       "      <td>-37.662562</td>\n",
       "      <td>145.509064</td>\n",
       "      <td>3</td>\n",
       "      <td>unit</td>\n",
       "      <td>VIC1150</td>\n",
       "      <td>VIC129</td>\n",
       "      <td>Yarra</td>\n",
       "    </tr>\n",
       "  </tbody>\n",
       "</table>\n",
       "</div>"
      ],
      "text/plain": [
       "    date_sold     price       suburb  city_name state        lat         lon  \\\n",
       "0  2018-09-04  337500.0  Healesville  Melbourne   VIC -37.661765  145.510034   \n",
       "1  2018-09-05  370000.0  Healesville  Melbourne   VIC -37.648961  145.522798   \n",
       "2  2018-11-02  320000.0  Healesville  Melbourne   VIC -37.663509  145.509362   \n",
       "3  2018-11-02  385000.0  Healesville  Melbourne   VIC -37.637402  145.497330   \n",
       "4  2018-11-03  440000.0  Healesville  Melbourne   VIC -37.662562  145.509064   \n",
       "\n",
       "   bedrooms property_type  loc_pid lga_pid LGA_Name  \n",
       "0         1          unit  VIC1150  VIC129    Yarra  \n",
       "1         2          unit  VIC1150  VIC129    Yarra  \n",
       "2         2          unit  VIC1150  VIC129    Yarra  \n",
       "3         2          unit  VIC1150  VIC129    Yarra  \n",
       "4         3          unit  VIC1150  VIC129    Yarra  "
      ]
     },
     "execution_count": 9,
     "metadata": {},
     "output_type": "execute_result"
    }
   ],
   "source": [
    "# Merge the LGA into the main dataframe\n",
    "clean_vic_sales_df = pd.merge(victorian_sales_df, suburb_lga_df, how = \"left\", on = \"suburb\")\n",
    "clean_vic_sales_df.head()"
   ]
  },
  {
   "cell_type": "code",
   "execution_count": 10,
   "metadata": {
    "slideshow": {
     "slide_type": "slide"
    }
   },
   "outputs": [
    {
     "data": {
      "text/plain": [
       "date_sold        110625\n",
       "price            110625\n",
       "suburb           110625\n",
       "city_name        110625\n",
       "state            110625\n",
       "lat              110625\n",
       "lon              110625\n",
       "bedrooms         110625\n",
       "property_type    110625\n",
       "loc_pid          110625\n",
       "lga_pid          110625\n",
       "LGA_Name         103212\n",
       "dtype: int64"
      ]
     },
     "execution_count": 10,
     "metadata": {},
     "output_type": "execute_result"
    }
   ],
   "source": [
    "# Look through the data to see if there are any missing values\n",
    "clean_vic_sales_df.count()"
   ]
  },
  {
   "cell_type": "code",
   "execution_count": 11,
   "metadata": {
    "slideshow": {
     "slide_type": "slide"
    }
   },
   "outputs": [],
   "source": [
    "# Drop any rows that are incomplete\n",
    "# Since we need the LGA for our analysis, we have to drops these rows\n",
    "clean_vic_sales_df.dropna(how = \"any\", inplace = True)"
   ]
  },
  {
   "cell_type": "code",
   "execution_count": 12,
   "metadata": {
    "slideshow": {
     "slide_type": "slide"
    }
   },
   "outputs": [
    {
     "data": {
      "text/plain": [
       "date_sold        103212\n",
       "price            103212\n",
       "suburb           103212\n",
       "city_name        103212\n",
       "state            103212\n",
       "lat              103212\n",
       "lon              103212\n",
       "bedrooms         103212\n",
       "property_type    103212\n",
       "loc_pid          103212\n",
       "lga_pid          103212\n",
       "LGA_Name         103212\n",
       "dtype: int64"
      ]
     },
     "execution_count": 12,
     "metadata": {},
     "output_type": "execute_result"
    }
   ],
   "source": [
    "# Check that the rows have been dropped successfully\n",
    "clean_vic_sales_df.count()"
   ]
  },
  {
   "cell_type": "code",
   "execution_count": 13,
   "metadata": {
    "slideshow": {
     "slide_type": "slide"
    }
   },
   "outputs": [
    {
     "data": {
      "text/html": [
       "<div>\n",
       "<style scoped>\n",
       "    .dataframe tbody tr th:only-of-type {\n",
       "        vertical-align: middle;\n",
       "    }\n",
       "\n",
       "    .dataframe tbody tr th {\n",
       "        vertical-align: top;\n",
       "    }\n",
       "\n",
       "    .dataframe thead th {\n",
       "        text-align: right;\n",
       "    }\n",
       "</style>\n",
       "<table border=\"1\" class=\"dataframe\">\n",
       "  <thead>\n",
       "    <tr style=\"text-align: right;\">\n",
       "      <th></th>\n",
       "      <th>date_sold</th>\n",
       "      <th>price</th>\n",
       "      <th>suburb</th>\n",
       "      <th>city_name</th>\n",
       "      <th>state</th>\n",
       "      <th>lat</th>\n",
       "      <th>lon</th>\n",
       "      <th>bedrooms</th>\n",
       "      <th>property_type</th>\n",
       "      <th>loc_pid</th>\n",
       "      <th>lga_pid</th>\n",
       "      <th>LGA_Name</th>\n",
       "    </tr>\n",
       "  </thead>\n",
       "  <tbody>\n",
       "    <tr>\n",
       "      <th>0</th>\n",
       "      <td>2018-09-04</td>\n",
       "      <td>337500.0</td>\n",
       "      <td>Healesville</td>\n",
       "      <td>Melbourne</td>\n",
       "      <td>VIC</td>\n",
       "      <td>-37.661765</td>\n",
       "      <td>145.510034</td>\n",
       "      <td>1</td>\n",
       "      <td>unit</td>\n",
       "      <td>VIC1150</td>\n",
       "      <td>VIC129</td>\n",
       "      <td>Yarra</td>\n",
       "    </tr>\n",
       "    <tr>\n",
       "      <th>1</th>\n",
       "      <td>2018-09-05</td>\n",
       "      <td>370000.0</td>\n",
       "      <td>Healesville</td>\n",
       "      <td>Melbourne</td>\n",
       "      <td>VIC</td>\n",
       "      <td>-37.648961</td>\n",
       "      <td>145.522798</td>\n",
       "      <td>2</td>\n",
       "      <td>unit</td>\n",
       "      <td>VIC1150</td>\n",
       "      <td>VIC129</td>\n",
       "      <td>Yarra</td>\n",
       "    </tr>\n",
       "    <tr>\n",
       "      <th>2</th>\n",
       "      <td>2018-11-02</td>\n",
       "      <td>320000.0</td>\n",
       "      <td>Healesville</td>\n",
       "      <td>Melbourne</td>\n",
       "      <td>VIC</td>\n",
       "      <td>-37.663509</td>\n",
       "      <td>145.509362</td>\n",
       "      <td>2</td>\n",
       "      <td>unit</td>\n",
       "      <td>VIC1150</td>\n",
       "      <td>VIC129</td>\n",
       "      <td>Yarra</td>\n",
       "    </tr>\n",
       "    <tr>\n",
       "      <th>3</th>\n",
       "      <td>2018-11-02</td>\n",
       "      <td>385000.0</td>\n",
       "      <td>Healesville</td>\n",
       "      <td>Melbourne</td>\n",
       "      <td>VIC</td>\n",
       "      <td>-37.637402</td>\n",
       "      <td>145.497330</td>\n",
       "      <td>2</td>\n",
       "      <td>unit</td>\n",
       "      <td>VIC1150</td>\n",
       "      <td>VIC129</td>\n",
       "      <td>Yarra</td>\n",
       "    </tr>\n",
       "    <tr>\n",
       "      <th>4</th>\n",
       "      <td>2018-11-03</td>\n",
       "      <td>440000.0</td>\n",
       "      <td>Healesville</td>\n",
       "      <td>Melbourne</td>\n",
       "      <td>VIC</td>\n",
       "      <td>-37.662562</td>\n",
       "      <td>145.509064</td>\n",
       "      <td>3</td>\n",
       "      <td>unit</td>\n",
       "      <td>VIC1150</td>\n",
       "      <td>VIC129</td>\n",
       "      <td>Yarra</td>\n",
       "    </tr>\n",
       "  </tbody>\n",
       "</table>\n",
       "</div>"
      ],
      "text/plain": [
       "    date_sold     price       suburb  city_name state        lat         lon  \\\n",
       "0  2018-09-04  337500.0  Healesville  Melbourne   VIC -37.661765  145.510034   \n",
       "1  2018-09-05  370000.0  Healesville  Melbourne   VIC -37.648961  145.522798   \n",
       "2  2018-11-02  320000.0  Healesville  Melbourne   VIC -37.663509  145.509362   \n",
       "3  2018-11-02  385000.0  Healesville  Melbourne   VIC -37.637402  145.497330   \n",
       "4  2018-11-03  440000.0  Healesville  Melbourne   VIC -37.662562  145.509064   \n",
       "\n",
       "   bedrooms property_type  loc_pid lga_pid LGA_Name  \n",
       "0         1          unit  VIC1150  VIC129    Yarra  \n",
       "1         2          unit  VIC1150  VIC129    Yarra  \n",
       "2         2          unit  VIC1150  VIC129    Yarra  \n",
       "3         2          unit  VIC1150  VIC129    Yarra  \n",
       "4         3          unit  VIC1150  VIC129    Yarra  "
      ]
     },
     "execution_count": 13,
     "metadata": {},
     "output_type": "execute_result"
    }
   ],
   "source": [
    "# Preview the dataframe\n",
    "clean_vic_sales_df.head()"
   ]
  },
  {
   "cell_type": "code",
   "execution_count": 14,
   "metadata": {
    "slideshow": {
     "slide_type": "slide"
    }
   },
   "outputs": [],
   "source": [
    "# Sorting the dataframe by date, and resetting the index\n",
    "clean_vic_sales_df = clean_vic_sales_df.sort_values(by = \"date_sold\", ascending = True).reset_index(drop = True)"
   ]
  },
  {
   "cell_type": "code",
   "execution_count": 15,
   "metadata": {
    "slideshow": {
     "slide_type": "slide"
    }
   },
   "outputs": [
    {
     "data": {
      "text/html": [
       "<div>\n",
       "<style scoped>\n",
       "    .dataframe tbody tr th:only-of-type {\n",
       "        vertical-align: middle;\n",
       "    }\n",
       "\n",
       "    .dataframe tbody tr th {\n",
       "        vertical-align: top;\n",
       "    }\n",
       "\n",
       "    .dataframe thead th {\n",
       "        text-align: right;\n",
       "    }\n",
       "</style>\n",
       "<table border=\"1\" class=\"dataframe\">\n",
       "  <thead>\n",
       "    <tr style=\"text-align: right;\">\n",
       "      <th></th>\n",
       "      <th>date_sold</th>\n",
       "      <th>price</th>\n",
       "      <th>suburb</th>\n",
       "      <th>city_name</th>\n",
       "      <th>state</th>\n",
       "      <th>lat</th>\n",
       "      <th>lon</th>\n",
       "      <th>bedrooms</th>\n",
       "      <th>property_type</th>\n",
       "      <th>loc_pid</th>\n",
       "      <th>lga_pid</th>\n",
       "      <th>LGA_Name</th>\n",
       "    </tr>\n",
       "  </thead>\n",
       "  <tbody>\n",
       "    <tr>\n",
       "      <th>80882</th>\n",
       "      <td>2020-02-01</td>\n",
       "      <td>485000.0</td>\n",
       "      <td>Melbourne</td>\n",
       "      <td>Melbourne</td>\n",
       "      <td>VIC</td>\n",
       "      <td>-37.817137</td>\n",
       "      <td>144.960121</td>\n",
       "      <td>1</td>\n",
       "      <td>unit</td>\n",
       "      <td>VIC1634</td>\n",
       "      <td>VIC107</td>\n",
       "      <td>Melbourne</td>\n",
       "    </tr>\n",
       "  </tbody>\n",
       "</table>\n",
       "</div>"
      ],
      "text/plain": [
       "        date_sold     price     suburb  city_name state        lat  \\\n",
       "80882  2020-02-01  485000.0  Melbourne  Melbourne   VIC -37.817137   \n",
       "\n",
       "              lon  bedrooms property_type  loc_pid lga_pid   LGA_Name  \n",
       "80882  144.960121         1          unit  VIC1634  VIC107  Melbourne  "
      ]
     },
     "execution_count": 15,
     "metadata": {},
     "output_type": "execute_result"
    }
   ],
   "source": [
    "# Finding the first row after February 2020\n",
    "clean_vic_sales_df.loc[clean_vic_sales_df[\"date_sold\"] == \"2020-02-01\", :].head(1)"
   ]
  },
  {
   "cell_type": "code",
   "execution_count": 16,
   "metadata": {
    "slideshow": {
     "slide_type": "slide"
    }
   },
   "outputs": [],
   "source": [
    "# Splitting the dataframe into pre-COVID (before Feb 2020) and creating a CSV\n",
    "vic_sales_precovid_df = clean_vic_sales_df[0:80881]\n",
    "vic_sales_precovid_df.to_csv(\"output/vic-sales-precovid.csv\")"
   ]
  },
  {
   "cell_type": "code",
   "execution_count": 17,
   "metadata": {
    "slideshow": {
     "slide_type": "slide"
    }
   },
   "outputs": [],
   "source": [
    "# Splitting the dataframe into post-COVID (after Feb 2020) and creating a CSV\n",
    "vic_sales_postcovid_df = clean_vic_sales_df[80882:]\n",
    "vic_sales_postcovid_df.to_csv(\"output/vic-sales-postcovid.csv\")"
   ]
  },
  {
   "cell_type": "code",
   "execution_count": 18,
   "metadata": {
    "slideshow": {
     "slide_type": "slide"
    }
   },
   "outputs": [
    {
     "name": "stdout",
     "output_type": "stream",
     "text": [
      "The average Victorian house price in the data is $804720.92, while the median is $655500.0\n",
      "The minimum Victorian house price in the data is $50000.0, while the maximum is $9600000.0\n",
      "Any values above $1495000.0 or below $520000.0 may be an outlier\n",
      "The number of outliers in the price data is 5949, or 7.36%\n"
     ]
    }
   ],
   "source": [
    "# Creating a dataframe to analyse pre-COVID data per month\n",
    "monthly_sales_precovid_df = pd.DataFrame(vic_sales_precovid_df)\n",
    "\n",
    "# Removing the day of the month from the date_sold column\n",
    "monthly_sales_precovid_df[\"date_sold\"] = monthly_sales_precovid_df[\"date_sold\"].str[0:7]\n",
    "\n",
    "# Calculating some summary statistics about the price data\n",
    "mean_price = round(monthly_sales_precovid_df[\"price\"].mean(),2)\n",
    "median_price = round(monthly_sales_precovid_df[\"price\"].median(),2)\n",
    "\n",
    "min_price = round(monthly_sales_precovid_df[\"price\"].min(),2)\n",
    "max_price = round(monthly_sales_precovid_df[\"price\"].max(),2)\n",
    "print(f\"The average Victorian house price in the data is ${mean_price}, while the median is ${median_price}\")\n",
    "print(f\"The minimum Victorian house price in the data is ${min_price}, while the maximum is ${max_price}\")\n",
    "\n",
    "# Calculating the upper and lower bounds to understand any outliers\n",
    "quartiles = monthly_sales_precovid_df[\"price\"].quantile([0.25, 0.5, 0.75])\n",
    "upper_quartile = quartiles[0.75]\n",
    "lower_quartile = quartiles[0.25]\n",
    "iqr = upper_quartile - lower_quartile\n",
    "\n",
    "# Determining outliers using the upper and lower bounds\n",
    "upper_bound = upper_quartile + (1.5 * iqr)\n",
    "lower_bound = lower_quartile - (1.5 * iqr)\n",
    "print(f\"Any values above ${round(upper_bound,2)} or below ${round(lower_quartile,2)} may be an outlier\")\n",
    "\n",
    "# Printing out the results\n",
    "outliers = len(monthly_sales_precovid_df.loc[(monthly_sales_precovid_df[\"price\"] > upper_bound) | (monthly_sales_precovid_df[\"price\"] < lower_bound), :])\n",
    "outliers_percent = round((outliers / len(monthly_sales_precovid_df)) * 100,2)\n",
    "print(f\"The number of outliers in the price data is {outliers}, or {outliers_percent}%\")"
   ]
  },
  {
   "cell_type": "code",
   "execution_count": 19,
   "metadata": {
    "slideshow": {
     "slide_type": "slide"
    }
   },
   "outputs": [
    {
     "data": {
      "image/png": "[encoded data removed]",
      "text/plain": [
       "<Figure size 1296x576 with 2 Axes>"
      ]
     },
     "metadata": {
      "needs_background": "light"
     },
     "output_type": "display_data"
    }
   ],
   "source": [
    "# Creating a histogarm and box plot for the pre-COVID house data\n",
    "plt.figure(figsize=(18,8))\n",
    "\n",
    "# Creating the histogram and setting labels\n",
    "plt.subplot(1, 2, 1)\n",
    "plt.hist(monthly_sales_precovid_df[\"price\"])\n",
    "plt.ylabel(\"Number of houses\")\n",
    "plt.xlabel(\"Average house price ($ millions)\")\n",
    "\n",
    "# Creating the boxplot and setting labels\n",
    "plt.subplot(1, 2, 2)\n",
    "plt.boxplot(monthly_sales_precovid_df[\"price\"])\n",
    "plt.ylabel(\"Average house price ($ millions)\")\n",
    "\n",
    "# Displaying the chart\n",
    "plt.tight_layout()\n",
    "plt.show()"
   ]
  },
  {
   "cell_type": "code",
   "execution_count": 20,
   "metadata": {
    "slideshow": {
     "slide_type": "slide"
    }
   },
   "outputs": [
    {
     "data": {
      "image/png": "[encoded data removed]",
      "text/plain": [
       "<Figure size 504x360 with 1 Axes>"
      ]
     },
     "metadata": {
      "needs_background": "light"
     },
     "output_type": "display_data"
    }
   ],
   "source": [
    "# Grouping the data by the month and calculating the average price\n",
    "median_price_precovid_df = monthly_sales_precovid_df.groupby(\"date_sold\").median().reset_index()\n",
    "\n",
    "# Setting the x and y values for the plot\n",
    "x_values = median_price_precovid_df[\"date_sold\"]\n",
    "y_values = median_price_precovid_df[\"price\"]\n",
    "\n",
    "# Creating a scatter plot\n",
    "plt.figure(figsize=(7,5))\n",
    "plt.scatter(x_values, y_values, c = \"lightgreen\", edgecolors = \"black\")\n",
    "plt.xticks(rotation = \"vertical\")\n",
    "\n",
    "# Formatting & labelling the plot\n",
    "plt.ylim(0, 1000000)\n",
    "plt.title(\"Average Victorian house price per month\")\n",
    "plt.ylabel(\"Average house price ($ millions)\")\n",
    "plt.xlabel(\"Month (yyyy-mm)\")\n",
    "\n",
    "# Displaying the plot\n",
    "plt.savefig('output/pre-covid1.png')\n",
    "plt.tight_layout()\n",
    "plt.show()"
   ]
  },
  {
   "cell_type": "code",
   "execution_count": 21,
   "metadata": {
    "slideshow": {
     "slide_type": "slide"
    }
   },
   "outputs": [
    {
     "data": {
      "image/png": "[encoded data removed]",
      "text/plain": [
       "<Figure size 1440x360 with 1 Axes>"
      ]
     },
     "metadata": {
      "needs_background": "light"
     },
     "output_type": "display_data"
    }
   ],
   "source": [
    "# Grouping the data by month and calculating the number of sales\n",
    "monthly_count_precovid_df = monthly_sales_precovid_df.groupby(\"date_sold\").count().reset_index()\n",
    "\n",
    "# Setting the x and y values for the plot\n",
    "x_values = monthly_count_precovid_df[\"date_sold\"]\n",
    "y_values = monthly_count_precovid_df[\"price\"]\n",
    "\n",
    "# Creating a bar chart\n",
    "plt.figure(figsize=(20,5))\n",
    "plt.plot(x_values, y_values, color='b', alpha=0.5)\n",
    "plt.ylim(0, 7500)\n",
    "\n",
    "# Formatting & labelling the plot\n",
    "plt.xlabel('Month (yyyy-mm)')\n",
    "plt.ylabel('Number of Properties Sold')\n",
    "plt.title('Number of Properties Sold in Victoria per month pre-COVID')\n",
    "\n",
    "# Displaying the plot\n",
    "plt.savefig('output/pre-covid2.png')\n",
    "plt.tight_layout()\n",
    "plt.show()"
   ]
  },
  {
   "cell_type": "code",
   "execution_count": 22,
   "metadata": {
    "slideshow": {
     "slide_type": "slide"
    }
   },
   "outputs": [],
   "source": [
    "# Finding the median house price per LGA for each month in the data\n",
    "rate_of_change = vic_sales_precovid_df.groupby([\"LGA_Name\", \"date_sold\"]).median()\n",
    "rate_of_change[\"Rate of Change\"] = rate_of_change[\"price\"].pct_change()\n",
    "\n",
    "# Setting up a list to hold all unique LGA names and filling with the first index in the dataframe\n",
    "LGA_list = rate_of_change.reset_index()\n",
    "LGA_list = [LGA_list.iloc[0, 0]]\n",
    "\n",
    "# Setting up empty lists to store the house price for each LGA, then the cumulative percent change\n",
    "pct_change_list = []\n",
    "pct_change_LGA = []\n",
    "\n",
    "# Iterating through the dataframe, when the index changes, calculate the sum of the price movements and append to a list\n",
    "for index, row in rate_of_change.iterrows():\n",
    "    # When the index changes, enter the block\n",
    "    if not index[0] in LGA_list:\n",
    "        # Append the name of the LGA to the LGA list\n",
    "        LGA_list.append(index[0])\n",
    "        \n",
    "        # Use the pct_change function (converting our list to a dataframe to do this) in combination with the sum function\n",
    "        pct_change_df = pd.DataFrame(pct_change_list)\n",
    "        pct_change_LGA.append(pct_change_df[0].pct_change().sum())\n",
    "        \n",
    "        # Reset the list of house prices for the next suburb\n",
    "        pct_change_list = []\n",
    "\n",
    "    # In every loop, add the current house price to the list of house prices\n",
    "    pct_change_list.append(row[\"price\"])\n",
    "\n",
    "# After the loop completes, find the percent change for the final LGA\n",
    "pct_change_df = pd.DataFrame(pct_change_list)\n",
    "pct_change_LGA.append(pct_change_df[0].pct_change().sum())"
   ]
  },
  {
   "cell_type": "code",
   "execution_count": 23,
   "metadata": {
    "slideshow": {
     "slide_type": "slide"
    }
   },
   "outputs": [],
   "source": [
    "# Create a dataframe from the list of LGAs and the respective percent change in house prices\n",
    "pct_change_LGA_df = pd.DataFrame(LGA_list, pct_change_LGA)\n",
    "pct_change_LGA_df = pct_change_LGA_df.reset_index()\n",
    "pct_change_LGA_df.rename(columns ={\"index\": \"Percent change in house price\", 0: \"LGA_Name\"}, inplace = True)\n",
    "\n",
    "# Multiply the percent change by 100 to make it easier to read\n",
    "pct_change_LGA_df[\"Percent change in house price\"] = pct_change_LGA_df[\"Percent change in house price\"].apply(lambda x: x * 100)"
   ]
  },
  {
   "cell_type": "code",
   "execution_count": 24,
   "metadata": {
    "slideshow": {
     "slide_type": "slide"
    }
   },
   "outputs": [],
   "source": [
    "# Counting the number of sales per LGA\n",
    "count_of_sales = vic_sales_precovid_df.groupby(\"LGA_Name\").count()\n",
    "count_of_sales = count_of_sales[\"date_sold\"].reset_index()\n",
    "\n",
    "# Adding the count to the main dataframe\n",
    "pct_change_LGA_df = pd.merge(pct_change_LGA_df, count_of_sales, how = \"left\", on = \"LGA_Name\")"
   ]
  },
  {
   "cell_type": "code",
   "execution_count": 25,
   "metadata": {
    "slideshow": {
     "slide_type": "slide"
    }
   },
   "outputs": [],
   "source": [
    "# Changing the order of and renaming columns\n",
    "pct_change_LGA_df = pct_change_LGA_df[[\"LGA_Name\", \"Percent change in house price\", \"date_sold\"]]\n",
    "pct_change_LGA_df.rename(columns={\"date_sold\": \"Total Sales\"}, inplace = True)"
   ]
  },
  {
   "cell_type": "code",
   "execution_count": 26,
   "metadata": {
    "slideshow": {
     "slide_type": "slide"
    }
   },
   "outputs": [
    {
     "data": {
      "text/html": [
       "<div>\n",
       "<style scoped>\n",
       "    .dataframe tbody tr th:only-of-type {\n",
       "        vertical-align: middle;\n",
       "    }\n",
       "\n",
       "    .dataframe tbody tr th {\n",
       "        vertical-align: top;\n",
       "    }\n",
       "\n",
       "    .dataframe thead th {\n",
       "        text-align: right;\n",
       "    }\n",
       "</style>\n",
       "<table border=\"1\" class=\"dataframe\">\n",
       "  <thead>\n",
       "    <tr style=\"text-align: right;\">\n",
       "      <th></th>\n",
       "      <th>LGA_Name</th>\n",
       "      <th>Percent change in house price</th>\n",
       "      <th>Total Sales</th>\n",
       "    </tr>\n",
       "  </thead>\n",
       "  <tbody>\n",
       "    <tr>\n",
       "      <th>26</th>\n",
       "      <td>Stonnington</td>\n",
       "      <td>18.775694</td>\n",
       "      <td>1746</td>\n",
       "    </tr>\n",
       "    <tr>\n",
       "      <th>1</th>\n",
       "      <td>Bayside</td>\n",
       "      <td>11.899379</td>\n",
       "      <td>2095</td>\n",
       "    </tr>\n",
       "    <tr>\n",
       "      <th>19</th>\n",
       "      <td>Monash</td>\n",
       "      <td>6.188759</td>\n",
       "      <td>2370</td>\n",
       "    </tr>\n",
       "    <tr>\n",
       "      <th>13</th>\n",
       "      <td>Knox</td>\n",
       "      <td>4.718328</td>\n",
       "      <td>2520</td>\n",
       "    </tr>\n",
       "    <tr>\n",
       "      <th>5</th>\n",
       "      <td>Casey</td>\n",
       "      <td>3.280064</td>\n",
       "      <td>5044</td>\n",
       "    </tr>\n",
       "  </tbody>\n",
       "</table>\n",
       "</div>"
      ],
      "text/plain": [
       "       LGA_Name  Percent change in house price  Total Sales\n",
       "26  Stonnington                      18.775694         1746\n",
       "1       Bayside                      11.899379         2095\n",
       "19       Monash                       6.188759         2370\n",
       "13         Knox                       4.718328         2520\n",
       "5         Casey                       3.280064         5044"
      ]
     },
     "execution_count": 26,
     "metadata": {},
     "output_type": "execute_result"
    }
   ],
   "source": [
    "# Dropping rows where the number of sales is less than 100\n",
    "pct_change_LGA_df = pct_change_LGA_df.loc[pct_change_LGA_df[\"Total Sales\"] > 100, :]\n",
    "\n",
    "pct_change_LGA_df = pct_change_LGA_df.sort_values(by = \"Percent change in house price\", ascending = False)\n",
    "\n",
    "# Previewing the dataframe\n",
    "pct_change_LGA_df.head()"
   ]
  },
  {
   "cell_type": "code",
   "execution_count": 27,
   "metadata": {
    "slideshow": {
     "slide_type": "slide"
    }
   },
   "outputs": [
    {
     "data": {
      "image/png": "[encoded data removed]",
      "text/plain": [
       "<Figure size 1080x720 with 1 Axes>"
      ]
     },
     "metadata": {
      "needs_background": "light"
     },
     "output_type": "display_data"
    },
    {
     "data": {
      "text/plain": [
       "<Figure size 432x288 with 0 Axes>"
      ]
     },
     "metadata": {},
     "output_type": "display_data"
    }
   ],
   "source": [
    "# Create a list of x and y values from the dataframe to plot\n",
    "x_values = pct_change_LGA_df[\"LGA_Name\"]\n",
    "y_values = pct_change_LGA_df[\"Percent change in house price\"]\n",
    "\n",
    "# Set the figure size and create the graph\n",
    "plt.figure(figsize=(15,10)) \n",
    "plt.bar(x_values, y_values, color = \"orange\", edgecolor = \"black\")\n",
    "plt.xticks(rotation=\"vertical\")\n",
    "plt.grid(axis = \"y\")\n",
    "\n",
    "# Set the x axis, y axis and chart titles\n",
    "plt.title(\"Change in median house price from September 2018 to January 2020 across different LGAs\")\n",
    "plt.xlabel(\"Name of Local Government Area\")\n",
    "plt.ylabel(\"Percent change in median house price (%)\")\n",
    "\n",
    "# Display the graph\n",
    "plt.savefig('output/pre-covid3.png')\n",
    "plt.show()\n",
    "plt.tight_layout()"
   ]
  },
  {
   "cell_type": "code",
   "execution_count": 28,
   "metadata": {
    "slideshow": {
     "slide_type": "slide"
    }
   },
   "outputs": [],
   "source": [
    "# Save the percent change per LGA into a CSV file\n",
    "pct_change_LGA_df.to_csv(\"output/percent_change_perLGA.csv\", index = False)"
   ]
  },
  {
   "cell_type": "code",
   "execution_count": 29,
   "metadata": {
    "slideshow": {
     "slide_type": "slide"
    }
   },
   "outputs": [
    {
     "name": "stdout",
     "output_type": "stream",
     "text": [
      "The average Victorian house price in the data is $790516.7, while the median is $667000.0\n",
      "The minimum Victorian house price in the data is $1000.0, while the maximum is $8000000.0\n",
      "Any values above $1465625.0 or below $531250.0 may be an outlier\n",
      "The number of outliers in the price data is 1440, or 6.45%\n"
     ]
    }
   ],
   "source": [
    "# Creating a dataframe to analyse post-COVID data per month\n",
    "monthly_sales_postcovid_df = pd.DataFrame(vic_sales_postcovid_df)\n",
    "\n",
    "# Removing the day of the month from the date_sold column\n",
    "monthly_sales_postcovid_df[\"date_sold\"] = monthly_sales_postcovid_df[\"date_sold\"].str[0:7]\n",
    "\n",
    "# Calculating some summary statistics about the price data\n",
    "mean_price = round(monthly_sales_postcovid_df[\"price\"].mean(),2)\n",
    "median_price = round(monthly_sales_postcovid_df[\"price\"].median(),2)\n",
    "\n",
    "min_price = round(monthly_sales_postcovid_df[\"price\"].min(),2)\n",
    "max_price = round(monthly_sales_postcovid_df[\"price\"].max(),2)\n",
    "print(f\"The average Victorian house price in the data is ${mean_price}, while the median is ${median_price}\")\n",
    "print(f\"The minimum Victorian house price in the data is ${min_price}, while the maximum is ${max_price}\")\n",
    "\n",
    "# Calculating the upper and lower bounds to understand any outliers\n",
    "quartiles = monthly_sales_postcovid_df[\"price\"].quantile([0.25, 0.5, 0.75])\n",
    "upper_quartile = quartiles[0.75]\n",
    "lower_quartile = quartiles[0.25]\n",
    "iqr = upper_quartile - lower_quartile\n",
    "\n",
    "# Determining outliers using the upper and lower bounds\n",
    "upper_bound = upper_quartile + (1.5 * iqr)\n",
    "lower_bound = lower_quartile - (1.5 * iqr)\n",
    "print(f\"Any values above ${round(upper_bound,2)} or below ${round(lower_quartile,2)} may be an outlier\")\n",
    "\n",
    "# Printing out the results\n",
    "outliers = len(monthly_sales_postcovid_df.loc[(monthly_sales_postcovid_df[\"price\"] > upper_bound) | (monthly_sales_postcovid_df[\"price\"] < lower_bound), :])\n",
    "outliers_percent = round((outliers / len(monthly_sales_postcovid_df)) * 100,2)\n",
    "print(f\"The number of outliers in the price data is {outliers}, or {outliers_percent}%\")"
   ]
  },
  {
   "cell_type": "code",
   "execution_count": 30,
   "metadata": {
    "slideshow": {
     "slide_type": "slide"
    }
   },
   "outputs": [
    {
     "data": {
      "image/png": "[encoded data removed]",
      "text/plain": [
       "<Figure size 1296x576 with 2 Axes>"
      ]
     },
     "metadata": {
      "needs_background": "light"
     },
     "output_type": "display_data"
    }
   ],
   "source": [
    "# Creating a histogarm and box plot for the pre-COVID house data\n",
    "plt.figure(figsize=(18,8))\n",
    "\n",
    "# Creating the histogram and setting labels\n",
    "plt.subplot(1, 2, 1)\n",
    "plt.hist(monthly_sales_postcovid_df[\"price\"])\n",
    "plt.ylabel(\"Number of houses\")\n",
    "plt.xlabel(\"Average house price ($ millions)\")\n",
    "\n",
    "# Creating the boxplot and setting labels\n",
    "plt.subplot(1, 2, 2)\n",
    "plt.boxplot(monthly_sales_postcovid_df[\"price\"])\n",
    "plt.ylabel(\"Average house price ($ millions)\")\n",
    "\n",
    "# Displaying the chart\n",
    "plt.tight_layout()\n",
    "plt.show()"
   ]
  },
  {
   "cell_type": "code",
   "execution_count": 31,
   "metadata": {
    "slideshow": {
     "slide_type": "slide"
    }
   },
   "outputs": [
    {
     "data": {
      "image/png": "[encoded data removed]",
      "text/plain": [
       "<Figure size 504x360 with 1 Axes>"
      ]
     },
     "metadata": {
      "needs_background": "light"
     },
     "output_type": "display_data"
    }
   ],
   "source": [
    "# Grouping the data by the month and calculating the average price\n",
    "median_price_postcovid_df = monthly_sales_postcovid_df.groupby(\"date_sold\").median().reset_index()\n",
    "\n",
    "# Setting the x and y values for the plot\n",
    "x_values = median_price_postcovid_df[\"date_sold\"]\n",
    "y_values = median_price_postcovid_df[\"price\"]\n",
    "\n",
    "# Creating a scatter plot\n",
    "plt.figure(figsize=(7,5))\n",
    "plt.scatter(x_values, y_values, c = \"lightgreen\", edgecolors = \"black\")\n",
    "plt.xticks(rotation = \"vertical\")\n",
    "\n",
    "# Formatting & labelling the plot\n",
    "plt.ylim(0, 1000000)\n",
    "plt.title(\"Average Victorian house price per month\")\n",
    "plt.ylabel(\"Average house price ($ millions)\")\n",
    "plt.xlabel(\"Month (yyyy-mm)\")\n",
    "\n",
    "# Displaying the plot\n",
    "plt.savefig('output/post-covid1.png')\n",
    "plt.tight_layout()\n",
    "plt.show()"
   ]
  },
  {
   "cell_type": "code",
   "execution_count": 32,
   "metadata": {
    "slideshow": {
     "slide_type": "slide"
    }
   },
   "outputs": [
    {
     "data": {
      "image/png": "[encoded data removed]",
      "text/plain": [
       "<Figure size 1440x360 with 1 Axes>"
      ]
     },
     "metadata": {
      "needs_background": "light"
     },
     "output_type": "display_data"
    }
   ],
   "source": [
    "# Grouping the data by month and calculating the number of sales\n",
    "monthly_count_postcovid_df = monthly_sales_postcovid_df.groupby(\"date_sold\").count().reset_index()\n",
    "\n",
    "# Setting the x and y values for the plot\n",
    "x_values = monthly_count_postcovid_df[\"date_sold\"]\n",
    "y_values = monthly_count_postcovid_df[\"price\"]\n",
    "\n",
    "# Creating a bar chart\n",
    "plt.figure(figsize=(20,5))\n",
    "plt.plot(x_values, y_values, color='b', alpha=0.5)\n",
    "plt.ylim(0, 7500)\n",
    "\n",
    "# Formatting & labelling the plot\n",
    "plt.xlabel('Month (yyyy-mm)')\n",
    "plt.ylabel('Number of Properties Sold')\n",
    "plt.title('Number of Properties Sold in Victoria per month pre-COVID')\n",
    "\n",
    "# Displaying the plot\n",
    "plt.savefig('output/post-covid2.png')\n",
    "plt.tight_layout()\n",
    "plt.show()"
   ]
  },
  {
   "cell_type": "code",
   "execution_count": 33,
   "metadata": {
    "slideshow": {
     "slide_type": "slide"
    }
   },
   "outputs": [],
   "source": [
    "# Finding the median house price per LGA for each month in the data\n",
    "rate_of_change = vic_sales_postcovid_df.groupby([\"LGA_Name\", \"date_sold\"]).median()\n",
    "rate_of_change[\"Rate of Change\"] = rate_of_change[\"price\"].pct_change()\n",
    "\n",
    "# Setting up a list to hold all unique LGA names and filling with the first index in the dataframe\n",
    "LGA_list = rate_of_change.reset_index()\n",
    "LGA_list = [LGA_list.iloc[0, 0]]\n",
    "\n",
    "# Setting up empty lists to store the house price for each LGA, then the cumulative percent change\n",
    "pct_change_list = []\n",
    "pct_change_LGA = []\n",
    "\n",
    "# Iterating through the dataframe, when the index changes, calculate the sum of the price movements and append to a list\n",
    "for index, row in rate_of_change.iterrows():\n",
    "    # When the index changes, enter the block\n",
    "    if not index[0] in LGA_list:\n",
    "        # Append the name of the LGA to the LGA list\n",
    "        LGA_list.append(index[0])\n",
    "        \n",
    "        # Use the pct_change function (converting our list to a dataframe to do this) in combination with the sum function\n",
    "        pct_change_df = pd.DataFrame(pct_change_list)\n",
    "        pct_change_LGA.append(pct_change_df[0].pct_change().sum())\n",
    "        \n",
    "        # Reset the list of house prices for the next suburb\n",
    "        pct_change_list = []\n",
    "\n",
    "    # In every loop, add the current house price to the list of house prices\n",
    "    pct_change_list.append(row[\"price\"])\n",
    "\n",
    "# After the loop completes, find the percent change for the final LGA\n",
    "pct_change_df = pd.DataFrame(pct_change_list)\n",
    "pct_change_LGA.append(pct_change_df[0].pct_change().sum())"
   ]
  },
  {
   "cell_type": "code",
   "execution_count": 34,
   "metadata": {
    "slideshow": {
     "slide_type": "slide"
    }
   },
   "outputs": [],
   "source": [
    "# Create a dataframe from the list of LGAs and the respective percent change in house prices\n",
    "pct_change_LGA_df = pd.DataFrame(LGA_list, pct_change_LGA)\n",
    "pct_change_LGA_df = pct_change_LGA_df.reset_index()\n",
    "pct_change_LGA_df.rename(columns ={\"index\": \"Percent change in house price\", 0: \"LGA_Name\"}, inplace = True)\n",
    "\n",
    "# Multiply the percent change by 100 to make it easier to read\n",
    "pct_change_LGA_df[\"Percent change in house price\"] = pct_change_LGA_df[\"Percent change in house price\"].apply(lambda x: x * 100)"
   ]
  },
  {
   "cell_type": "code",
   "execution_count": 35,
   "metadata": {
    "slideshow": {
     "slide_type": "slide"
    }
   },
   "outputs": [],
   "source": [
    "# Counting the number of sales per LGA\n",
    "count_of_sales = vic_sales_postcovid_df.groupby(\"LGA_Name\").count()\n",
    "count_of_sales = count_of_sales[\"date_sold\"].reset_index()\n",
    "\n",
    "# Adding the count to the main dataframe\n",
    "pct_change_LGA_df = pd.merge(pct_change_LGA_df, count_of_sales, how = \"left\", on = \"LGA_Name\")"
   ]
  },
  {
   "cell_type": "code",
   "execution_count": 36,
   "metadata": {
    "slideshow": {
     "slide_type": "slide"
    }
   },
   "outputs": [],
   "source": [
    "# Changing the order of and renaming columns\n",
    "pct_change_LGA_df = pct_change_LGA_df[[\"LGA_Name\", \"Percent change in house price\", \"date_sold\"]]\n",
    "pct_change_LGA_df.rename(columns={\"date_sold\": \"Total Sales\"}, inplace = True)"
   ]
  },
  {
   "cell_type": "code",
   "execution_count": 37,
   "metadata": {
    "slideshow": {
     "slide_type": "slide"
    }
   },
   "outputs": [
    {
     "data": {
      "text/html": [
       "<div>\n",
       "<style scoped>\n",
       "    .dataframe tbody tr th:only-of-type {\n",
       "        vertical-align: middle;\n",
       "    }\n",
       "\n",
       "    .dataframe tbody tr th {\n",
       "        vertical-align: top;\n",
       "    }\n",
       "\n",
       "    .dataframe thead th {\n",
       "        text-align: right;\n",
       "    }\n",
       "</style>\n",
       "<table border=\"1\" class=\"dataframe\">\n",
       "  <thead>\n",
       "    <tr style=\"text-align: right;\">\n",
       "      <th></th>\n",
       "      <th>LGA_Name</th>\n",
       "      <th>Percent change in house price</th>\n",
       "      <th>Total Sales</th>\n",
       "    </tr>\n",
       "  </thead>\n",
       "  <tbody>\n",
       "    <tr>\n",
       "      <th>15</th>\n",
       "      <td>Maribyrnong</td>\n",
       "      <td>21.461915</td>\n",
       "      <td>348</td>\n",
       "    </tr>\n",
       "    <tr>\n",
       "      <th>22</th>\n",
       "      <td>Mornington</td>\n",
       "      <td>11.223346</td>\n",
       "      <td>958</td>\n",
       "    </tr>\n",
       "    <tr>\n",
       "      <th>9</th>\n",
       "      <td>Greater</td>\n",
       "      <td>5.463209</td>\n",
       "      <td>624</td>\n",
       "    </tr>\n",
       "    <tr>\n",
       "      <th>1</th>\n",
       "      <td>Bayside</td>\n",
       "      <td>3.563038</td>\n",
       "      <td>490</td>\n",
       "    </tr>\n",
       "    <tr>\n",
       "      <th>17</th>\n",
       "      <td>Melbourne</td>\n",
       "      <td>2.927360</td>\n",
       "      <td>954</td>\n",
       "    </tr>\n",
       "  </tbody>\n",
       "</table>\n",
       "</div>"
      ],
      "text/plain": [
       "       LGA_Name  Percent change in house price  Total Sales\n",
       "15  Maribyrnong                      21.461915          348\n",
       "22   Mornington                      11.223346          958\n",
       "9       Greater                       5.463209          624\n",
       "1       Bayside                       3.563038          490\n",
       "17    Melbourne                       2.927360          954"
      ]
     },
     "execution_count": 37,
     "metadata": {},
     "output_type": "execute_result"
    }
   ],
   "source": [
    "# Dropping rows where the number of sales is less than 100\n",
    "pct_change_LGA_df = pct_change_LGA_df.loc[pct_change_LGA_df[\"Total Sales\"] > 100, :]\n",
    "\n",
    "pct_change_LGA_df = pct_change_LGA_df.sort_values(by = \"Percent change in house price\", ascending = False)\n",
    "\n",
    "# Previewing the dataframe\n",
    "pct_change_LGA_df.head()"
   ]
  },
  {
   "cell_type": "code",
   "execution_count": 38,
   "metadata": {
    "slideshow": {
     "slide_type": "slide"
    }
   },
   "outputs": [
    {
     "data": {
      "image/png": "[encoded data removed]",
      "text/plain": [
       "<Figure size 1080x720 with 1 Axes>"
      ]
     },
     "metadata": {
      "needs_background": "light"
     },
     "output_type": "display_data"
    },
    {
     "data": {
      "text/plain": [
       "<Figure size 432x288 with 0 Axes>"
      ]
     },
     "metadata": {},
     "output_type": "display_data"
    }
   ],
   "source": [
    "# Create a list of x and y values from the dataframe to plot\n",
    "x_values = pct_change_LGA_df[\"LGA_Name\"]\n",
    "y_values = pct_change_LGA_df[\"Percent change in house price\"]\n",
    "\n",
    "# Set the figure size and create the graph\n",
    "plt.figure(figsize=(15,10)) \n",
    "plt.bar(x_values, y_values, color = \"orange\", edgecolor = \"black\")\n",
    "plt.xticks(rotation=\"vertical\")\n",
    "plt.grid(axis = \"y\")\n",
    "\n",
    "# Set the x axis, y axis and chart titles\n",
    "plt.title(\"Change in median house price from February 2020 to July 2020 across different LGAs\")\n",
    "plt.xlabel(\"Name of Local Government Area\")\n",
    "plt.ylabel(\"Percent change in median house price (%)\")\n",
    "\n",
    "# Display the graph\n",
    "plt.savefig('output/post-covid3.png')\n",
    "plt.show()\n",
    "plt.tight_layout()"
   ]
  },
  {
   "cell_type": "code",
   "execution_count": 39,
   "metadata": {
    "slideshow": {
     "slide_type": "slide"
    }
   },
   "outputs": [],
   "source": [
    "# Save the percent change per LGA into a CSV file\n",
    "pct_change_LGA_df.to_csv(\"output/postCOVID_percent_change_perLGA.csv\", index = False)"
   ]
  },
  {
   "cell_type": "code",
   "execution_count": null,
   "metadata": {},
   "outputs": [],
   "source": []
  }
 ],
 "metadata": {
  "celltoolbar": "Slideshow",
  "kernelspec": {
   "display_name": "Python 3",
   "language": "python",
   "name": "python3"
  },
  "language_info": {
   "codemirror_mode": {
    "name": "ipython",
    "version": 3
   },
   "file_extension": ".py",
   "mimetype": "text/x-python",
   "name": "python",
   "nbconvert_exporter": "python",
   "pygments_lexer": "ipython3",
   "version": "3.8.3"
  }
 },
 "nbformat": 4,
 "nbformat_minor": 4
}
