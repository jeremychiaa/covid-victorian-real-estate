{
 "cells": [
  {
   "cell_type": "code",
   "execution_count": 1,
   "metadata": {},
   "outputs": [],
   "source": [
    "# Dependencies\n",
    "import pandas as pd\n",
    "import numpy as np"
   ]
  },
  {
   "cell_type": "code",
   "execution_count": 2,
   "metadata": {
    "scrolled": true
   },
   "outputs": [
    {
     "output_type": "execute_result",
     "data": {
      "text/plain": "  Education_Sector  Entity_Type  School_No  \\\n0       Government            1          1   \n1       Government            1          3   \n2       Government            1          4   \n3       Government            1          8   \n4       Government            1         12   \n\n                              School_Name School_Type School_Status  \\\n0                 Alberton Primary School     Primary             O   \n1  Allansford and District Primary School     Primary             O   \n2                    Avoca Primary School     Primary             O   \n3                   Avenel Primary School     Primary             O   \n4               Warrandyte Primary School     Primary             O   \n\n       Address_Line_1 Address_Line_2 Address_Town Address_State  ...  \\\n0   21 Thomson Street            NaN     Alberton           VIC  ...   \n1        Frank Street            NaN   Allansford           VIC  ...   \n2  118 Barnett Street            NaN        Avoca           VIC  ...   \n3  40 Anderson Street            NaN       Avenel           VIC  ...   \n4  5-11 Forbes Street            NaN   Warrandyte           VIC  ...   \n\n   Postal_Address_Line_1 Postal_Address_Line_2 Postal_Town Postal_State  \\\n0      21 Thomson Street                   NaN    ALBERTON          VIC   \n1           Frank Street                   NaN  ALLANSFORD          VIC   \n2             P O Box 12                   NaN       AVOCA          VIC   \n3     40 Anderson Street                   NaN      AVENEL          VIC   \n4     5-11 Forbes Street                   NaN  WARRANDYTE          VIC   \n\n  Postal_Postcode  Full_Phone_No LGA_ID         LGA_Name           X  \\\n0            3971   03 5183 2412    681   Wellington (S)  146.666601   \n1            3277   03 5565 1382    673  Warrnambool (C)  142.590393   \n2            3467   03 5465 3176    599     Pyrenees (S)  143.475649   \n3            3664   03 5796 2264    643  Strathbogie (S)  145.234722   \n4            3113   03 9844 3537    421   Manningham (C)  145.213980   \n\n           Y  \n0 -38.617713  \n1 -38.386281  \n2 -37.084502  \n3 -36.901368  \n4 -37.742675  \n\n[5 rows x 21 columns]",
      "text/html": "<div>\n<style scoped>\n    .dataframe tbody tr th:only-of-type {\n        vertical-align: middle;\n    }\n\n    .dataframe tbody tr th {\n        vertical-align: top;\n    }\n\n    .dataframe thead th {\n        text-align: right;\n    }\n</style>\n<table border=\"1\" class=\"dataframe\">\n  <thead>\n    <tr style=\"text-align: right;\">\n      <th></th>\n      <th>Education_Sector</th>\n      <th>Entity_Type</th>\n      <th>School_No</th>\n      <th>School_Name</th>\n      <th>School_Type</th>\n      <th>School_Status</th>\n      <th>Address_Line_1</th>\n      <th>Address_Line_2</th>\n      <th>Address_Town</th>\n      <th>Address_State</th>\n      <th>...</th>\n      <th>Postal_Address_Line_1</th>\n      <th>Postal_Address_Line_2</th>\n      <th>Postal_Town</th>\n      <th>Postal_State</th>\n      <th>Postal_Postcode</th>\n      <th>Full_Phone_No</th>\n      <th>LGA_ID</th>\n      <th>LGA_Name</th>\n      <th>X</th>\n      <th>Y</th>\n    </tr>\n  </thead>\n  <tbody>\n    <tr>\n      <th>0</th>\n      <td>Government</td>\n      <td>1</td>\n      <td>1</td>\n      <td>Alberton Primary School</td>\n      <td>Primary</td>\n      <td>O</td>\n      <td>21 Thomson Street</td>\n      <td>NaN</td>\n      <td>Alberton</td>\n      <td>VIC</td>\n      <td>...</td>\n      <td>21 Thomson Street</td>\n      <td>NaN</td>\n      <td>ALBERTON</td>\n      <td>VIC</td>\n      <td>3971</td>\n      <td>03 5183 2412</td>\n      <td>681</td>\n      <td>Wellington (S)</td>\n      <td>146.666601</td>\n      <td>-38.617713</td>\n    </tr>\n    <tr>\n      <th>1</th>\n      <td>Government</td>\n      <td>1</td>\n      <td>3</td>\n      <td>Allansford and District Primary School</td>\n      <td>Primary</td>\n      <td>O</td>\n      <td>Frank Street</td>\n      <td>NaN</td>\n      <td>Allansford</td>\n      <td>VIC</td>\n      <td>...</td>\n      <td>Frank Street</td>\n      <td>NaN</td>\n      <td>ALLANSFORD</td>\n      <td>VIC</td>\n      <td>3277</td>\n      <td>03 5565 1382</td>\n      <td>673</td>\n      <td>Warrnambool (C)</td>\n      <td>142.590393</td>\n      <td>-38.386281</td>\n    </tr>\n    <tr>\n      <th>2</th>\n      <td>Government</td>\n      <td>1</td>\n      <td>4</td>\n      <td>Avoca Primary School</td>\n      <td>Primary</td>\n      <td>O</td>\n      <td>118 Barnett Street</td>\n      <td>NaN</td>\n      <td>Avoca</td>\n      <td>VIC</td>\n      <td>...</td>\n      <td>P O Box 12</td>\n      <td>NaN</td>\n      <td>AVOCA</td>\n      <td>VIC</td>\n      <td>3467</td>\n      <td>03 5465 3176</td>\n      <td>599</td>\n      <td>Pyrenees (S)</td>\n      <td>143.475649</td>\n      <td>-37.084502</td>\n    </tr>\n    <tr>\n      <th>3</th>\n      <td>Government</td>\n      <td>1</td>\n      <td>8</td>\n      <td>Avenel Primary School</td>\n      <td>Primary</td>\n      <td>O</td>\n      <td>40 Anderson Street</td>\n      <td>NaN</td>\n      <td>Avenel</td>\n      <td>VIC</td>\n      <td>...</td>\n      <td>40 Anderson Street</td>\n      <td>NaN</td>\n      <td>AVENEL</td>\n      <td>VIC</td>\n      <td>3664</td>\n      <td>03 5796 2264</td>\n      <td>643</td>\n      <td>Strathbogie (S)</td>\n      <td>145.234722</td>\n      <td>-36.901368</td>\n    </tr>\n    <tr>\n      <th>4</th>\n      <td>Government</td>\n      <td>1</td>\n      <td>12</td>\n      <td>Warrandyte Primary School</td>\n      <td>Primary</td>\n      <td>O</td>\n      <td>5-11 Forbes Street</td>\n      <td>NaN</td>\n      <td>Warrandyte</td>\n      <td>VIC</td>\n      <td>...</td>\n      <td>5-11 Forbes Street</td>\n      <td>NaN</td>\n      <td>WARRANDYTE</td>\n      <td>VIC</td>\n      <td>3113</td>\n      <td>03 9844 3537</td>\n      <td>421</td>\n      <td>Manningham (C)</td>\n      <td>145.213980</td>\n      <td>-37.742675</td>\n    </tr>\n  </tbody>\n</table>\n<p>5 rows × 21 columns</p>\n</div>"
     },
     "metadata": {},
     "execution_count": 2
    }
   ],
   "source": [
    "# Read into csv file\n",
    "schools_csv_file = \"./Resources/dv279-schoollocations2019.csv\"\n",
    "schools_df = pd.read_csv(schools_csv_file)\n",
    "schools_df.head()"
   ]
  },
  {
   "cell_type": "code",
   "execution_count": 3,
   "metadata": {},
   "outputs": [
    {
     "output_type": "execute_result",
     "data": {
      "text/plain": "array(['VIC'], dtype=object)"
     },
     "metadata": {},
     "execution_count": 3
    }
   ],
   "source": [
    "# Ensuring all schools are in VIC\n",
    "schools_df[\"Postal_State\"].unique()"
   ]
  },
  {
   "cell_type": "code",
   "execution_count": 4,
   "metadata": {},
   "outputs": [],
   "source": [
    "# Drop unwanted columns\n",
    "to_drop = [\"School_Status\",\n",
    "          \"Address_Line_1\",\n",
    "          \"Address_Line_2\",\n",
    "          \"Address_Town\",\n",
    "          \"Address_State\",\n",
    "          \"Postal_Address_Line_2\",\n",
    "          \"Full_Phone_No\",\n",
    "          \"Address_Postcode\",\n",
    "          \"Postal_State\",\n",
    "          \"LGA_ID\"]\n",
    "\n",
    "schools_df.drop(columns=to_drop, inplace=True)"
   ]
  },
  {
   "cell_type": "code",
   "execution_count": 5,
   "metadata": {},
   "outputs": [
    {
     "output_type": "execute_result",
     "data": {
      "text/plain": "  Education_Sector  Entity_Type  School_No  \\\n0       Government            1          1   \n1       Government            1          3   \n2       Government            1          4   \n3       Government            1          8   \n4       Government            1         12   \n\n                              School_Name School_Type Postal_Address_Line_1  \\\n0                 Alberton Primary School     Primary     21 Thomson Street   \n1  Allansford and District Primary School     Primary          Frank Street   \n2                    Avoca Primary School     Primary            P O Box 12   \n3                   Avenel Primary School     Primary    40 Anderson Street   \n4               Warrandyte Primary School     Primary    5-11 Forbes Street   \n\n  Postal_Town  Postal_Postcode         LGA_Name           X          Y  \n0    ALBERTON             3971   Wellington (S)  146.666601 -38.617713  \n1  ALLANSFORD             3277  Warrnambool (C)  142.590393 -38.386281  \n2       AVOCA             3467     Pyrenees (S)  143.475649 -37.084502  \n3      AVENEL             3664  Strathbogie (S)  145.234722 -36.901368  \n4  WARRANDYTE             3113   Manningham (C)  145.213980 -37.742675  ",
      "text/html": "<div>\n<style scoped>\n    .dataframe tbody tr th:only-of-type {\n        vertical-align: middle;\n    }\n\n    .dataframe tbody tr th {\n        vertical-align: top;\n    }\n\n    .dataframe thead th {\n        text-align: right;\n    }\n</style>\n<table border=\"1\" class=\"dataframe\">\n  <thead>\n    <tr style=\"text-align: right;\">\n      <th></th>\n      <th>Education_Sector</th>\n      <th>Entity_Type</th>\n      <th>School_No</th>\n      <th>School_Name</th>\n      <th>School_Type</th>\n      <th>Postal_Address_Line_1</th>\n      <th>Postal_Town</th>\n      <th>Postal_Postcode</th>\n      <th>LGA_Name</th>\n      <th>X</th>\n      <th>Y</th>\n    </tr>\n  </thead>\n  <tbody>\n    <tr>\n      <th>0</th>\n      <td>Government</td>\n      <td>1</td>\n      <td>1</td>\n      <td>Alberton Primary School</td>\n      <td>Primary</td>\n      <td>21 Thomson Street</td>\n      <td>ALBERTON</td>\n      <td>3971</td>\n      <td>Wellington (S)</td>\n      <td>146.666601</td>\n      <td>-38.617713</td>\n    </tr>\n    <tr>\n      <th>1</th>\n      <td>Government</td>\n      <td>1</td>\n      <td>3</td>\n      <td>Allansford and District Primary School</td>\n      <td>Primary</td>\n      <td>Frank Street</td>\n      <td>ALLANSFORD</td>\n      <td>3277</td>\n      <td>Warrnambool (C)</td>\n      <td>142.590393</td>\n      <td>-38.386281</td>\n    </tr>\n    <tr>\n      <th>2</th>\n      <td>Government</td>\n      <td>1</td>\n      <td>4</td>\n      <td>Avoca Primary School</td>\n      <td>Primary</td>\n      <td>P O Box 12</td>\n      <td>AVOCA</td>\n      <td>3467</td>\n      <td>Pyrenees (S)</td>\n      <td>143.475649</td>\n      <td>-37.084502</td>\n    </tr>\n    <tr>\n      <th>3</th>\n      <td>Government</td>\n      <td>1</td>\n      <td>8</td>\n      <td>Avenel Primary School</td>\n      <td>Primary</td>\n      <td>40 Anderson Street</td>\n      <td>AVENEL</td>\n      <td>3664</td>\n      <td>Strathbogie (S)</td>\n      <td>145.234722</td>\n      <td>-36.901368</td>\n    </tr>\n    <tr>\n      <th>4</th>\n      <td>Government</td>\n      <td>1</td>\n      <td>12</td>\n      <td>Warrandyte Primary School</td>\n      <td>Primary</td>\n      <td>5-11 Forbes Street</td>\n      <td>WARRANDYTE</td>\n      <td>3113</td>\n      <td>Manningham (C)</td>\n      <td>145.213980</td>\n      <td>-37.742675</td>\n    </tr>\n  </tbody>\n</table>\n</div>"
     },
     "metadata": {},
     "execution_count": 5
    }
   ],
   "source": [
    "schools_df.head()"
   ]
  },
  {
   "cell_type": "code",
   "execution_count": 6,
   "metadata": {},
   "outputs": [],
   "source": [
    "# Split LGA Name\n",
    "schools_df[\"LGA_Name\"] = schools_df.LGA_Name.apply(lambda x: pd.Series(str(x).split(\" \"))) "
   ]
  },
  {
   "cell_type": "code",
   "execution_count": 7,
   "metadata": {},
   "outputs": [],
   "source": [
    "# Capitalise and lower postal town names\n",
    "schools_df[\"Postal_Town\"] = schools_df.Postal_Town.apply(lambda x: pd.Series(str(x).lower().capitalize()))"
   ]
  },
  {
   "cell_type": "code",
   "execution_count": 8,
   "metadata": {},
   "outputs": [
    {
     "output_type": "execute_result",
     "data": {
      "text/plain": "  Education_Sector  Entity_Type  School_No  \\\n0       Government            1          1   \n1       Government            1          3   \n2       Government            1          4   \n3       Government            1          8   \n4       Government            1         12   \n\n                              School_Name School_Type Postal_Address_Line_1  \\\n0                 Alberton Primary School     Primary     21 Thomson Street   \n1  Allansford and District Primary School     Primary          Frank Street   \n2                    Avoca Primary School     Primary            P O Box 12   \n3                   Avenel Primary School     Primary    40 Anderson Street   \n4               Warrandyte Primary School     Primary    5-11 Forbes Street   \n\n  Postal_Town  Postal_Postcode     LGA_Name           X          Y  \n0    Alberton             3971   Wellington  146.666601 -38.617713  \n1  Allansford             3277  Warrnambool  142.590393 -38.386281  \n2       Avoca             3467     Pyrenees  143.475649 -37.084502  \n3      Avenel             3664  Strathbogie  145.234722 -36.901368  \n4  Warrandyte             3113   Manningham  145.213980 -37.742675  ",
      "text/html": "<div>\n<style scoped>\n    .dataframe tbody tr th:only-of-type {\n        vertical-align: middle;\n    }\n\n    .dataframe tbody tr th {\n        vertical-align: top;\n    }\n\n    .dataframe thead th {\n        text-align: right;\n    }\n</style>\n<table border=\"1\" class=\"dataframe\">\n  <thead>\n    <tr style=\"text-align: right;\">\n      <th></th>\n      <th>Education_Sector</th>\n      <th>Entity_Type</th>\n      <th>School_No</th>\n      <th>School_Name</th>\n      <th>School_Type</th>\n      <th>Postal_Address_Line_1</th>\n      <th>Postal_Town</th>\n      <th>Postal_Postcode</th>\n      <th>LGA_Name</th>\n      <th>X</th>\n      <th>Y</th>\n    </tr>\n  </thead>\n  <tbody>\n    <tr>\n      <th>0</th>\n      <td>Government</td>\n      <td>1</td>\n      <td>1</td>\n      <td>Alberton Primary School</td>\n      <td>Primary</td>\n      <td>21 Thomson Street</td>\n      <td>Alberton</td>\n      <td>3971</td>\n      <td>Wellington</td>\n      <td>146.666601</td>\n      <td>-38.617713</td>\n    </tr>\n    <tr>\n      <th>1</th>\n      <td>Government</td>\n      <td>1</td>\n      <td>3</td>\n      <td>Allansford and District Primary School</td>\n      <td>Primary</td>\n      <td>Frank Street</td>\n      <td>Allansford</td>\n      <td>3277</td>\n      <td>Warrnambool</td>\n      <td>142.590393</td>\n      <td>-38.386281</td>\n    </tr>\n    <tr>\n      <th>2</th>\n      <td>Government</td>\n      <td>1</td>\n      <td>4</td>\n      <td>Avoca Primary School</td>\n      <td>Primary</td>\n      <td>P O Box 12</td>\n      <td>Avoca</td>\n      <td>3467</td>\n      <td>Pyrenees</td>\n      <td>143.475649</td>\n      <td>-37.084502</td>\n    </tr>\n    <tr>\n      <th>3</th>\n      <td>Government</td>\n      <td>1</td>\n      <td>8</td>\n      <td>Avenel Primary School</td>\n      <td>Primary</td>\n      <td>40 Anderson Street</td>\n      <td>Avenel</td>\n      <td>3664</td>\n      <td>Strathbogie</td>\n      <td>145.234722</td>\n      <td>-36.901368</td>\n    </tr>\n    <tr>\n      <th>4</th>\n      <td>Government</td>\n      <td>1</td>\n      <td>12</td>\n      <td>Warrandyte Primary School</td>\n      <td>Primary</td>\n      <td>5-11 Forbes Street</td>\n      <td>Warrandyte</td>\n      <td>3113</td>\n      <td>Manningham</td>\n      <td>145.213980</td>\n      <td>-37.742675</td>\n    </tr>\n  </tbody>\n</table>\n</div>"
     },
     "metadata": {},
     "execution_count": 8
    }
   ],
   "source": [
    "schools_df.head()"
   ]
  },
  {
   "cell_type": "code",
   "execution_count": 9,
   "metadata": {},
   "outputs": [
    {
     "output_type": "execute_result",
     "data": {
      "text/plain": "     Education_Sector  Entity_Type  School_No  \\\n0          Government            1          1   \n1          Government            1          3   \n2          Government            1          4   \n3          Government            1          8   \n4          Government            1         12   \n...               ...          ...        ...   \n2249         Catholic            2       2222   \n2250      Independent            2       2223   \n2251         Catholic            2       2224   \n2252         Catholic            2       2225   \n2253         Catholic            2       2226   \n\n                                           School_Name School_Type  \\\n0                              Alberton Primary School     Primary   \n1               Allansford and District Primary School     Primary   \n2                                 Avoca Primary School     Primary   \n3                                Avenel Primary School     Primary   \n4                            Warrandyte Primary School     Primary   \n...                                                ...         ...   \n2249  Our Lady Star of the Sea Catholic Primary School     Primary   \n2250                           Maxwell Creative School     Primary   \n2251                                 St Anne's College     Pri/Sec   \n2252              Holy Trinity Catholic Primary School     Primary   \n2253                   Glowrey Catholic Primary School     Primary   \n\n     Postal_Address_Line_1      Suburb  Postcode     LGA_Name         Lat  \\\n0        21 Thomson Street    Alberton      3971   Wellington  146.666601   \n1             Frank Street  Allansford      3277  Warrnambool  142.590393   \n2               P O Box 12       Avoca      3467     Pyrenees  143.475649   \n3       40 Anderson Street      Avenel      3664  Strathbogie  145.234722   \n4       5-11 Forbes Street  Warrandyte      3113   Manningham  145.213980   \n...                    ...         ...       ...          ...         ...   \n2249    6 Cowes-Rhyll Road       Cowes      3922         Bass  145.239805   \n2250     6 Rainy Hill Road    Cockatoo      3781     Cardinia  145.518028   \n2251    72 Wendouree Drive      Kialla      3631      Greater  145.400337   \n2252    145 Mitchells Lane     Sunbury      3429         Hume  144.705316   \n2253      10 Baltrum Drive     Wollert      3750   Whittlesea  145.031776   \n\n            Lng  \n0    -38.617713  \n1    -38.386281  \n2    -37.084502  \n3    -36.901368  \n4    -37.742675  \n...         ...  \n2249 -38.463698  \n2250 -37.923946  \n2251 -36.436121  \n2252 -37.584791  \n2253 -37.615822  \n\n[2254 rows x 11 columns]",
      "text/html": "<div>\n<style scoped>\n    .dataframe tbody tr th:only-of-type {\n        vertical-align: middle;\n    }\n\n    .dataframe tbody tr th {\n        vertical-align: top;\n    }\n\n    .dataframe thead th {\n        text-align: right;\n    }\n</style>\n<table border=\"1\" class=\"dataframe\">\n  <thead>\n    <tr style=\"text-align: right;\">\n      <th></th>\n      <th>Education_Sector</th>\n      <th>Entity_Type</th>\n      <th>School_No</th>\n      <th>School_Name</th>\n      <th>School_Type</th>\n      <th>Postal_Address_Line_1</th>\n      <th>Suburb</th>\n      <th>Postcode</th>\n      <th>LGA_Name</th>\n      <th>Lat</th>\n      <th>Lng</th>\n    </tr>\n  </thead>\n  <tbody>\n    <tr>\n      <th>0</th>\n      <td>Government</td>\n      <td>1</td>\n      <td>1</td>\n      <td>Alberton Primary School</td>\n      <td>Primary</td>\n      <td>21 Thomson Street</td>\n      <td>Alberton</td>\n      <td>3971</td>\n      <td>Wellington</td>\n      <td>146.666601</td>\n      <td>-38.617713</td>\n    </tr>\n    <tr>\n      <th>1</th>\n      <td>Government</td>\n      <td>1</td>\n      <td>3</td>\n      <td>Allansford and District Primary School</td>\n      <td>Primary</td>\n      <td>Frank Street</td>\n      <td>Allansford</td>\n      <td>3277</td>\n      <td>Warrnambool</td>\n      <td>142.590393</td>\n      <td>-38.386281</td>\n    </tr>\n    <tr>\n      <th>2</th>\n      <td>Government</td>\n      <td>1</td>\n      <td>4</td>\n      <td>Avoca Primary School</td>\n      <td>Primary</td>\n      <td>P O Box 12</td>\n      <td>Avoca</td>\n      <td>3467</td>\n      <td>Pyrenees</td>\n      <td>143.475649</td>\n      <td>-37.084502</td>\n    </tr>\n    <tr>\n      <th>3</th>\n      <td>Government</td>\n      <td>1</td>\n      <td>8</td>\n      <td>Avenel Primary School</td>\n      <td>Primary</td>\n      <td>40 Anderson Street</td>\n      <td>Avenel</td>\n      <td>3664</td>\n      <td>Strathbogie</td>\n      <td>145.234722</td>\n      <td>-36.901368</td>\n    </tr>\n    <tr>\n      <th>4</th>\n      <td>Government</td>\n      <td>1</td>\n      <td>12</td>\n      <td>Warrandyte Primary School</td>\n      <td>Primary</td>\n      <td>5-11 Forbes Street</td>\n      <td>Warrandyte</td>\n      <td>3113</td>\n      <td>Manningham</td>\n      <td>145.213980</td>\n      <td>-37.742675</td>\n    </tr>\n    <tr>\n      <th>...</th>\n      <td>...</td>\n      <td>...</td>\n      <td>...</td>\n      <td>...</td>\n      <td>...</td>\n      <td>...</td>\n      <td>...</td>\n      <td>...</td>\n      <td>...</td>\n      <td>...</td>\n      <td>...</td>\n    </tr>\n    <tr>\n      <th>2249</th>\n      <td>Catholic</td>\n      <td>2</td>\n      <td>2222</td>\n      <td>Our Lady Star of the Sea Catholic Primary School</td>\n      <td>Primary</td>\n      <td>6 Cowes-Rhyll Road</td>\n      <td>Cowes</td>\n      <td>3922</td>\n      <td>Bass</td>\n      <td>145.239805</td>\n      <td>-38.463698</td>\n    </tr>\n    <tr>\n      <th>2250</th>\n      <td>Independent</td>\n      <td>2</td>\n      <td>2223</td>\n      <td>Maxwell Creative School</td>\n      <td>Primary</td>\n      <td>6 Rainy Hill Road</td>\n      <td>Cockatoo</td>\n      <td>3781</td>\n      <td>Cardinia</td>\n      <td>145.518028</td>\n      <td>-37.923946</td>\n    </tr>\n    <tr>\n      <th>2251</th>\n      <td>Catholic</td>\n      <td>2</td>\n      <td>2224</td>\n      <td>St Anne's College</td>\n      <td>Pri/Sec</td>\n      <td>72 Wendouree Drive</td>\n      <td>Kialla</td>\n      <td>3631</td>\n      <td>Greater</td>\n      <td>145.400337</td>\n      <td>-36.436121</td>\n    </tr>\n    <tr>\n      <th>2252</th>\n      <td>Catholic</td>\n      <td>2</td>\n      <td>2225</td>\n      <td>Holy Trinity Catholic Primary School</td>\n      <td>Primary</td>\n      <td>145 Mitchells Lane</td>\n      <td>Sunbury</td>\n      <td>3429</td>\n      <td>Hume</td>\n      <td>144.705316</td>\n      <td>-37.584791</td>\n    </tr>\n    <tr>\n      <th>2253</th>\n      <td>Catholic</td>\n      <td>2</td>\n      <td>2226</td>\n      <td>Glowrey Catholic Primary School</td>\n      <td>Primary</td>\n      <td>10 Baltrum Drive</td>\n      <td>Wollert</td>\n      <td>3750</td>\n      <td>Whittlesea</td>\n      <td>145.031776</td>\n      <td>-37.615822</td>\n    </tr>\n  </tbody>\n</table>\n<p>2254 rows × 11 columns</p>\n</div>"
     },
     "metadata": {},
     "execution_count": 9
    }
   ],
   "source": [
    "# Rename postcode column\n",
    "schools_df = schools_df.rename(columns={\"Postal_Postcode\": \"Postcode\",\n",
    "                                       \"Postal_Town\": \"Suburb\",\n",
    "                                       \"X\": \"Lat\",\n",
    "                                       \"Y\": \"Lng\"})\n",
    "schools_df"
   ]
  },
  {
   "cell_type": "code",
   "execution_count": 10,
   "metadata": {},
   "outputs": [
    {
     "output_type": "execute_result",
     "data": {
      "text/plain": "Education_Sector         2254\nEntity_Type              2254\nSchool_No                2254\nSchool_Name              2254\nSchool_Type              2254\nPostal_Address_Line_1    2254\nSuburb                   2254\nPostcode                 2254\nLGA_Name                 2254\nLat                      2254\nLng                      2254\ndtype: int64"
     },
     "metadata": {},
     "execution_count": 10
    }
   ],
   "source": [
    "# Drop any null values\n",
    "schools_df = schools_df.dropna()\n",
    "schools_df.count()"
   ]
  },
  {
   "cell_type": "code",
   "execution_count": 11,
   "metadata": {},
   "outputs": [],
   "source": [
    "# Retrieve postcode and suburbs\n",
    "postcode_suburb_df = schools_df[[\"Postcode\", \"Suburb\"]]\n",
    "postcode_suburb_df = postcode_suburb_df.drop_duplicates()\n",
    "\n",
    "# Export into a csv file\n",
    "postcode_suburb_df.to_csv(\"./output/postcode_suburb_df.csv\", index=False)"
   ]
  },
  {
   "cell_type": "code",
   "execution_count": 12,
   "metadata": {},
   "outputs": [
    {
     "output_type": "execute_result",
     "data": {
      "text/plain": "     Postcode           Suburb\n0        3971         Alberton\n1        3277       Allansford\n2        3467            Avoca\n3        3664           Avenel\n4        3113       Warrandyte\n..        ...              ...\n953      3954        Koonwarra\n954      3076     Epping north\n955      3030   Werribee plaza\n956      3029  Truganina south\n957      3939     Rosebud west\n\n[958 rows x 2 columns]",
      "text/html": "<div>\n<style scoped>\n    .dataframe tbody tr th:only-of-type {\n        vertical-align: middle;\n    }\n\n    .dataframe tbody tr th {\n        vertical-align: top;\n    }\n\n    .dataframe thead th {\n        text-align: right;\n    }\n</style>\n<table border=\"1\" class=\"dataframe\">\n  <thead>\n    <tr style=\"text-align: right;\">\n      <th></th>\n      <th>Postcode</th>\n      <th>Suburb</th>\n    </tr>\n  </thead>\n  <tbody>\n    <tr>\n      <th>0</th>\n      <td>3971</td>\n      <td>Alberton</td>\n    </tr>\n    <tr>\n      <th>1</th>\n      <td>3277</td>\n      <td>Allansford</td>\n    </tr>\n    <tr>\n      <th>2</th>\n      <td>3467</td>\n      <td>Avoca</td>\n    </tr>\n    <tr>\n      <th>3</th>\n      <td>3664</td>\n      <td>Avenel</td>\n    </tr>\n    <tr>\n      <th>4</th>\n      <td>3113</td>\n      <td>Warrandyte</td>\n    </tr>\n    <tr>\n      <th>...</th>\n      <td>...</td>\n      <td>...</td>\n    </tr>\n    <tr>\n      <th>953</th>\n      <td>3954</td>\n      <td>Koonwarra</td>\n    </tr>\n    <tr>\n      <th>954</th>\n      <td>3076</td>\n      <td>Epping north</td>\n    </tr>\n    <tr>\n      <th>955</th>\n      <td>3030</td>\n      <td>Werribee plaza</td>\n    </tr>\n    <tr>\n      <th>956</th>\n      <td>3029</td>\n      <td>Truganina south</td>\n    </tr>\n    <tr>\n      <th>957</th>\n      <td>3939</td>\n      <td>Rosebud west</td>\n    </tr>\n  </tbody>\n</table>\n<p>958 rows × 2 columns</p>\n</div>"
     },
     "metadata": {},
     "execution_count": 12
    }
   ],
   "source": [
    "# Read into created csv\n",
    "postcode_suburb = pd.read_csv(\"./output/postcode_suburb_df.csv\")\n",
    "postcode_suburb"
   ]
  },
  {
   "cell_type": "code",
   "execution_count": 13,
   "metadata": {},
   "outputs": [
    {
     "output_type": "execute_result",
     "data": {
      "text/plain": "     Postcode     Suburb\n827      3004  Melbourne\n943      3000  Melbourne",
      "text/html": "<div>\n<style scoped>\n    .dataframe tbody tr th:only-of-type {\n        vertical-align: middle;\n    }\n\n    .dataframe tbody tr th {\n        vertical-align: top;\n    }\n\n    .dataframe thead th {\n        text-align: right;\n    }\n</style>\n<table border=\"1\" class=\"dataframe\">\n  <thead>\n    <tr style=\"text-align: right;\">\n      <th></th>\n      <th>Postcode</th>\n      <th>Suburb</th>\n    </tr>\n  </thead>\n  <tbody>\n    <tr>\n      <th>827</th>\n      <td>3004</td>\n      <td>Melbourne</td>\n    </tr>\n    <tr>\n      <th>943</th>\n      <td>3000</td>\n      <td>Melbourne</td>\n    </tr>\n  </tbody>\n</table>\n</div>"
     },
     "metadata": {},
     "execution_count": 13
    }
   ],
   "source": [
    "postcode_suburb.loc[postcode_suburb[\"Suburb\"] == \"Melbourne\"]"
   ]
  },
  {
   "cell_type": "code",
   "execution_count": 14,
   "metadata": {},
   "outputs": [
    {
     "output_type": "execute_result",
     "data": {
      "text/plain": "           Suburb  School Count\n0      Abbotsford             3\n1      Aberfeldie             2\n2    Aireys inlet             1\n3           Airly             1\n4    Airport west             1\n..            ...           ...\n932    Yarrawonga             3\n933           Yea             3\n934        Yinnar             1\n935  Yinnar south             1\n936       Zeerust             1\n\n[937 rows x 2 columns]",
      "text/html": "<div>\n<style scoped>\n    .dataframe tbody tr th:only-of-type {\n        vertical-align: middle;\n    }\n\n    .dataframe tbody tr th {\n        vertical-align: top;\n    }\n\n    .dataframe thead th {\n        text-align: right;\n    }\n</style>\n<table border=\"1\" class=\"dataframe\">\n  <thead>\n    <tr style=\"text-align: right;\">\n      <th></th>\n      <th>Suburb</th>\n      <th>School Count</th>\n    </tr>\n  </thead>\n  <tbody>\n    <tr>\n      <th>0</th>\n      <td>Abbotsford</td>\n      <td>3</td>\n    </tr>\n    <tr>\n      <th>1</th>\n      <td>Aberfeldie</td>\n      <td>2</td>\n    </tr>\n    <tr>\n      <th>2</th>\n      <td>Aireys inlet</td>\n      <td>1</td>\n    </tr>\n    <tr>\n      <th>3</th>\n      <td>Airly</td>\n      <td>1</td>\n    </tr>\n    <tr>\n      <th>4</th>\n      <td>Airport west</td>\n      <td>1</td>\n    </tr>\n    <tr>\n      <th>...</th>\n      <td>...</td>\n      <td>...</td>\n    </tr>\n    <tr>\n      <th>932</th>\n      <td>Yarrawonga</td>\n      <td>3</td>\n    </tr>\n    <tr>\n      <th>933</th>\n      <td>Yea</td>\n      <td>3</td>\n    </tr>\n    <tr>\n      <th>934</th>\n      <td>Yinnar</td>\n      <td>1</td>\n    </tr>\n    <tr>\n      <th>935</th>\n      <td>Yinnar south</td>\n      <td>1</td>\n    </tr>\n    <tr>\n      <th>936</th>\n      <td>Zeerust</td>\n      <td>1</td>\n    </tr>\n  </tbody>\n</table>\n<p>937 rows × 2 columns</p>\n</div>"
     },
     "metadata": {},
     "execution_count": 14
    }
   ],
   "source": [
    "# Groupby suburbs\n",
    "grouped_schools_df = schools_df.groupby([\"Suburb\"])\n",
    "\n",
    "# Find number of schools in each suburb\n",
    "schools_count = grouped_schools_df[\"School_Name\"].count()\n",
    "schools_count\n",
    "\n",
    "# Create a new df with school count\n",
    "schools_count_df = schools_count.reset_index()\n",
    "schools_count_df\n",
    "\n",
    "# Rename column\n",
    "schools_count_df = schools_count_df.rename(columns={\"School_Name\": \"School Count\"})\n",
    "schools_count_df"
   ]
  },
  {
   "cell_type": "code",
   "execution_count": 15,
   "metadata": {},
   "outputs": [
    {
     "output_type": "execute_result",
     "data": {
      "text/plain": "             Suburb  School Count\n883        Werribee            20\n781         Sunbury            14\n741      Shepparton            14\n333   Glen waverley            13\n209     Craigieburn            13\n..              ...           ...\n166       Cavendish             1\n518      Marysville             1\n519        Mckinnon             1\n520  Meadow heights             1\n936         Zeerust             1\n\n[937 rows x 2 columns]",
      "text/html": "<div>\n<style scoped>\n    .dataframe tbody tr th:only-of-type {\n        vertical-align: middle;\n    }\n\n    .dataframe tbody tr th {\n        vertical-align: top;\n    }\n\n    .dataframe thead th {\n        text-align: right;\n    }\n</style>\n<table border=\"1\" class=\"dataframe\">\n  <thead>\n    <tr style=\"text-align: right;\">\n      <th></th>\n      <th>Suburb</th>\n      <th>School Count</th>\n    </tr>\n  </thead>\n  <tbody>\n    <tr>\n      <th>883</th>\n      <td>Werribee</td>\n      <td>20</td>\n    </tr>\n    <tr>\n      <th>781</th>\n      <td>Sunbury</td>\n      <td>14</td>\n    </tr>\n    <tr>\n      <th>741</th>\n      <td>Shepparton</td>\n      <td>14</td>\n    </tr>\n    <tr>\n      <th>333</th>\n      <td>Glen waverley</td>\n      <td>13</td>\n    </tr>\n    <tr>\n      <th>209</th>\n      <td>Craigieburn</td>\n      <td>13</td>\n    </tr>\n    <tr>\n      <th>...</th>\n      <td>...</td>\n      <td>...</td>\n    </tr>\n    <tr>\n      <th>166</th>\n      <td>Cavendish</td>\n      <td>1</td>\n    </tr>\n    <tr>\n      <th>518</th>\n      <td>Marysville</td>\n      <td>1</td>\n    </tr>\n    <tr>\n      <th>519</th>\n      <td>Mckinnon</td>\n      <td>1</td>\n    </tr>\n    <tr>\n      <th>520</th>\n      <td>Meadow heights</td>\n      <td>1</td>\n    </tr>\n    <tr>\n      <th>936</th>\n      <td>Zeerust</td>\n      <td>1</td>\n    </tr>\n  </tbody>\n</table>\n<p>937 rows × 2 columns</p>\n</div>"
     },
     "metadata": {},
     "execution_count": 15
    }
   ],
   "source": [
    "# Sort school count\n",
    "schools_count_df.sort_values(\"School Count\", ascending=False)"
   ]
  },
  {
   "cell_type": "code",
   "execution_count": null,
   "metadata": {},
   "outputs": [],
   "source": []
  },
  {
   "cell_type": "code",
   "execution_count": null,
   "metadata": {},
   "outputs": [],
   "source": []
  }
 ],
 "metadata": {
  "kernelspec": {
   "name": "python_defaultSpec_1601707529951",
   "display_name": "Python 3.6.10 64-bit ('PythonData': conda)",
   "metadata": {
    "interpreter": {
     "hash": "4511098e18df60c01b7d3969427a2c87e82d8a62973ae543cdaefaf6447f8e43"
    }
   }
  },
  "language_info": {
   "codemirror_mode": {
    "name": "ipython",
    "version": 3
   },
   "file_extension": ".py",
   "mimetype": "text/x-python",
   "name": "python",
   "nbconvert_exporter": "python",
   "pygments_lexer": "ipython3",
   "version": "3.6.10-final"
  }
 },
 "nbformat": 4,
 "nbformat_minor": 4
}