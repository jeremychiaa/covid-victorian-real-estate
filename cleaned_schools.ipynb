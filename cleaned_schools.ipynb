{
 "cells": [
  {
   "cell_type": "code",
   "execution_count": 1,
   "metadata": {},
   "outputs": [],
   "source": [
    "# Dependencies\n",
    "import pandas as pd\n",
    "import numpy as np\n",
    "import matplotlib.pyplot as plt\n",
    "import scipy.stats as st"
   ]
  },
  {
   "cell_type": "code",
   "execution_count": 2,
   "metadata": {
    "scrolled": true
   },
   "outputs": [
    {
     "output_type": "execute_result",
     "data": {
      "text/plain": "  Education_Sector  Entity_Type  School_No  \\\n0       Government            1          1   \n1       Government            1          3   \n2       Government            1          4   \n3       Government            1          8   \n4       Government            1         12   \n\n                              School_Name School_Type School_Status  \\\n0                 Alberton Primary School     Primary             O   \n1  Allansford and District Primary School     Primary             O   \n2                    Avoca Primary School     Primary             O   \n3                   Avenel Primary School     Primary             O   \n4               Warrandyte Primary School     Primary             O   \n\n       Address_Line_1 Address_Line_2 Address_Town Address_State  ...  \\\n0   21 Thomson Street            NaN     Alberton           VIC  ...   \n1        Frank Street            NaN   Allansford           VIC  ...   \n2  118 Barnett Street            NaN        Avoca           VIC  ...   \n3  40 Anderson Street            NaN       Avenel           VIC  ...   \n4  5-11 Forbes Street            NaN   Warrandyte           VIC  ...   \n\n   Postal_Address_Line_1 Postal_Address_Line_2 Postal_Town Postal_State  \\\n0      21 Thomson Street                   NaN    ALBERTON          VIC   \n1           Frank Street                   NaN  ALLANSFORD          VIC   \n2             P O Box 12                   NaN       AVOCA          VIC   \n3     40 Anderson Street                   NaN      AVENEL          VIC   \n4     5-11 Forbes Street                   NaN  WARRANDYTE          VIC   \n\n  Postal_Postcode  Full_Phone_No LGA_ID         LGA_Name           X  \\\n0            3971   03 5183 2412    681   Wellington (S)  146.666601   \n1            3277   03 5565 1382    673  Warrnambool (C)  142.590393   \n2            3467   03 5465 3176    599     Pyrenees (S)  143.475649   \n3            3664   03 5796 2264    643  Strathbogie (S)  145.234722   \n4            3113   03 9844 3537    421   Manningham (C)  145.213980   \n\n           Y  \n0 -38.617713  \n1 -38.386281  \n2 -37.084502  \n3 -36.901368  \n4 -37.742675  \n\n[5 rows x 21 columns]",
      "text/html": "<div>\n<style scoped>\n    .dataframe tbody tr th:only-of-type {\n        vertical-align: middle;\n    }\n\n    .dataframe tbody tr th {\n        vertical-align: top;\n    }\n\n    .dataframe thead th {\n        text-align: right;\n    }\n</style>\n<table border=\"1\" class=\"dataframe\">\n  <thead>\n    <tr style=\"text-align: right;\">\n      <th></th>\n      <th>Education_Sector</th>\n      <th>Entity_Type</th>\n      <th>School_No</th>\n      <th>School_Name</th>\n      <th>School_Type</th>\n      <th>School_Status</th>\n      <th>Address_Line_1</th>\n      <th>Address_Line_2</th>\n      <th>Address_Town</th>\n      <th>Address_State</th>\n      <th>...</th>\n      <th>Postal_Address_Line_1</th>\n      <th>Postal_Address_Line_2</th>\n      <th>Postal_Town</th>\n      <th>Postal_State</th>\n      <th>Postal_Postcode</th>\n      <th>Full_Phone_No</th>\n      <th>LGA_ID</th>\n      <th>LGA_Name</th>\n      <th>X</th>\n      <th>Y</th>\n    </tr>\n  </thead>\n  <tbody>\n    <tr>\n      <th>0</th>\n      <td>Government</td>\n      <td>1</td>\n      <td>1</td>\n      <td>Alberton Primary School</td>\n      <td>Primary</td>\n      <td>O</td>\n      <td>21 Thomson Street</td>\n      <td>NaN</td>\n      <td>Alberton</td>\n      <td>VIC</td>\n      <td>...</td>\n      <td>21 Thomson Street</td>\n      <td>NaN</td>\n      <td>ALBERTON</td>\n      <td>VIC</td>\n      <td>3971</td>\n      <td>03 5183 2412</td>\n      <td>681</td>\n      <td>Wellington (S)</td>\n      <td>146.666601</td>\n      <td>-38.617713</td>\n    </tr>\n    <tr>\n      <th>1</th>\n      <td>Government</td>\n      <td>1</td>\n      <td>3</td>\n      <td>Allansford and District Primary School</td>\n      <td>Primary</td>\n      <td>O</td>\n      <td>Frank Street</td>\n      <td>NaN</td>\n      <td>Allansford</td>\n      <td>VIC</td>\n      <td>...</td>\n      <td>Frank Street</td>\n      <td>NaN</td>\n      <td>ALLANSFORD</td>\n      <td>VIC</td>\n      <td>3277</td>\n      <td>03 5565 1382</td>\n      <td>673</td>\n      <td>Warrnambool (C)</td>\n      <td>142.590393</td>\n      <td>-38.386281</td>\n    </tr>\n    <tr>\n      <th>2</th>\n      <td>Government</td>\n      <td>1</td>\n      <td>4</td>\n      <td>Avoca Primary School</td>\n      <td>Primary</td>\n      <td>O</td>\n      <td>118 Barnett Street</td>\n      <td>NaN</td>\n      <td>Avoca</td>\n      <td>VIC</td>\n      <td>...</td>\n      <td>P O Box 12</td>\n      <td>NaN</td>\n      <td>AVOCA</td>\n      <td>VIC</td>\n      <td>3467</td>\n      <td>03 5465 3176</td>\n      <td>599</td>\n      <td>Pyrenees (S)</td>\n      <td>143.475649</td>\n      <td>-37.084502</td>\n    </tr>\n    <tr>\n      <th>3</th>\n      <td>Government</td>\n      <td>1</td>\n      <td>8</td>\n      <td>Avenel Primary School</td>\n      <td>Primary</td>\n      <td>O</td>\n      <td>40 Anderson Street</td>\n      <td>NaN</td>\n      <td>Avenel</td>\n      <td>VIC</td>\n      <td>...</td>\n      <td>40 Anderson Street</td>\n      <td>NaN</td>\n      <td>AVENEL</td>\n      <td>VIC</td>\n      <td>3664</td>\n      <td>03 5796 2264</td>\n      <td>643</td>\n      <td>Strathbogie (S)</td>\n      <td>145.234722</td>\n      <td>-36.901368</td>\n    </tr>\n    <tr>\n      <th>4</th>\n      <td>Government</td>\n      <td>1</td>\n      <td>12</td>\n      <td>Warrandyte Primary School</td>\n      <td>Primary</td>\n      <td>O</td>\n      <td>5-11 Forbes Street</td>\n      <td>NaN</td>\n      <td>Warrandyte</td>\n      <td>VIC</td>\n      <td>...</td>\n      <td>5-11 Forbes Street</td>\n      <td>NaN</td>\n      <td>WARRANDYTE</td>\n      <td>VIC</td>\n      <td>3113</td>\n      <td>03 9844 3537</td>\n      <td>421</td>\n      <td>Manningham (C)</td>\n      <td>145.213980</td>\n      <td>-37.742675</td>\n    </tr>\n  </tbody>\n</table>\n<p>5 rows × 21 columns</p>\n</div>"
     },
     "metadata": {},
     "execution_count": 2
    }
   ],
   "source": [
    "# Read into csv file\n",
    "schools_csv_file = \"./Resources/dv279-schoollocations2019.csv\"\n",
    "schools_df = pd.read_csv(schools_csv_file)\n",
    "schools_df.head()"
   ]
  },
  {
   "cell_type": "code",
   "execution_count": 3,
   "metadata": {},
   "outputs": [],
   "source": [
    "# Drop unwanted columns\n",
    "to_drop = [\"School_Status\",\n",
    "          \"Address_Line_1\",\n",
    "          \"Address_Line_2\",\n",
    "          \"Address_Town\",\n",
    "          \"Address_State\",\n",
    "          \"Postal_Address_Line_2\",\n",
    "          \"Full_Phone_No\",\n",
    "          \"Address_Postcode\",\n",
    "          \"Postal_State\",\n",
    "          \"LGA_ID\"]\n",
    "\n",
    "schools_df.drop(columns=to_drop, inplace=True)"
   ]
  },
  {
   "cell_type": "code",
   "execution_count": 4,
   "metadata": {},
   "outputs": [
    {
     "output_type": "execute_result",
     "data": {
      "text/plain": "  Education_Sector  Entity_Type  School_No  \\\n0       Government            1          1   \n1       Government            1          3   \n2       Government            1          4   \n3       Government            1          8   \n4       Government            1         12   \n\n                              School_Name School_Type Postal_Address_Line_1  \\\n0                 Alberton Primary School     Primary     21 Thomson Street   \n1  Allansford and District Primary School     Primary          Frank Street   \n2                    Avoca Primary School     Primary            P O Box 12   \n3                   Avenel Primary School     Primary    40 Anderson Street   \n4               Warrandyte Primary School     Primary    5-11 Forbes Street   \n\n  Postal_Town  Postal_Postcode         LGA_Name           X          Y  \n0    ALBERTON             3971   Wellington (S)  146.666601 -38.617713  \n1  ALLANSFORD             3277  Warrnambool (C)  142.590393 -38.386281  \n2       AVOCA             3467     Pyrenees (S)  143.475649 -37.084502  \n3      AVENEL             3664  Strathbogie (S)  145.234722 -36.901368  \n4  WARRANDYTE             3113   Manningham (C)  145.213980 -37.742675  ",
      "text/html": "<div>\n<style scoped>\n    .dataframe tbody tr th:only-of-type {\n        vertical-align: middle;\n    }\n\n    .dataframe tbody tr th {\n        vertical-align: top;\n    }\n\n    .dataframe thead th {\n        text-align: right;\n    }\n</style>\n<table border=\"1\" class=\"dataframe\">\n  <thead>\n    <tr style=\"text-align: right;\">\n      <th></th>\n      <th>Education_Sector</th>\n      <th>Entity_Type</th>\n      <th>School_No</th>\n      <th>School_Name</th>\n      <th>School_Type</th>\n      <th>Postal_Address_Line_1</th>\n      <th>Postal_Town</th>\n      <th>Postal_Postcode</th>\n      <th>LGA_Name</th>\n      <th>X</th>\n      <th>Y</th>\n    </tr>\n  </thead>\n  <tbody>\n    <tr>\n      <th>0</th>\n      <td>Government</td>\n      <td>1</td>\n      <td>1</td>\n      <td>Alberton Primary School</td>\n      <td>Primary</td>\n      <td>21 Thomson Street</td>\n      <td>ALBERTON</td>\n      <td>3971</td>\n      <td>Wellington (S)</td>\n      <td>146.666601</td>\n      <td>-38.617713</td>\n    </tr>\n    <tr>\n      <th>1</th>\n      <td>Government</td>\n      <td>1</td>\n      <td>3</td>\n      <td>Allansford and District Primary School</td>\n      <td>Primary</td>\n      <td>Frank Street</td>\n      <td>ALLANSFORD</td>\n      <td>3277</td>\n      <td>Warrnambool (C)</td>\n      <td>142.590393</td>\n      <td>-38.386281</td>\n    </tr>\n    <tr>\n      <th>2</th>\n      <td>Government</td>\n      <td>1</td>\n      <td>4</td>\n      <td>Avoca Primary School</td>\n      <td>Primary</td>\n      <td>P O Box 12</td>\n      <td>AVOCA</td>\n      <td>3467</td>\n      <td>Pyrenees (S)</td>\n      <td>143.475649</td>\n      <td>-37.084502</td>\n    </tr>\n    <tr>\n      <th>3</th>\n      <td>Government</td>\n      <td>1</td>\n      <td>8</td>\n      <td>Avenel Primary School</td>\n      <td>Primary</td>\n      <td>40 Anderson Street</td>\n      <td>AVENEL</td>\n      <td>3664</td>\n      <td>Strathbogie (S)</td>\n      <td>145.234722</td>\n      <td>-36.901368</td>\n    </tr>\n    <tr>\n      <th>4</th>\n      <td>Government</td>\n      <td>1</td>\n      <td>12</td>\n      <td>Warrandyte Primary School</td>\n      <td>Primary</td>\n      <td>5-11 Forbes Street</td>\n      <td>WARRANDYTE</td>\n      <td>3113</td>\n      <td>Manningham (C)</td>\n      <td>145.213980</td>\n      <td>-37.742675</td>\n    </tr>\n  </tbody>\n</table>\n</div>"
     },
     "metadata": {},
     "execution_count": 4
    }
   ],
   "source": [
    "schools_df.head()"
   ]
  },
  {
   "cell_type": "code",
   "execution_count": 5,
   "metadata": {},
   "outputs": [],
   "source": [
    "# Split LGA Name\n",
    "schools_df[\"LGA_Name\"] = schools_df.LGA_Name.apply(lambda x: pd.Series(str(x).split(\" \"))) "
   ]
  },
  {
   "cell_type": "code",
   "execution_count": 6,
   "metadata": {},
   "outputs": [],
   "source": [
    "# Capitalise and lower postal town names\n",
    "schools_df[\"Postal_Town\"] = schools_df.Postal_Town.apply(lambda x: pd.Series(str(x).lower().title()))"
   ]
  },
  {
   "cell_type": "code",
   "execution_count": 7,
   "metadata": {},
   "outputs": [
    {
     "output_type": "execute_result",
     "data": {
      "text/plain": "  Education_Sector  Entity_Type  School_No  \\\n0       Government            1          1   \n1       Government            1          3   \n2       Government            1          4   \n3       Government            1          8   \n4       Government            1         12   \n\n                              School_Name School_Type Postal_Address_Line_1  \\\n0                 Alberton Primary School     Primary     21 Thomson Street   \n1  Allansford and District Primary School     Primary          Frank Street   \n2                    Avoca Primary School     Primary            P O Box 12   \n3                   Avenel Primary School     Primary    40 Anderson Street   \n4               Warrandyte Primary School     Primary    5-11 Forbes Street   \n\n  Postal_Town  Postal_Postcode     LGA_Name           X          Y  \n0    Alberton             3971   Wellington  146.666601 -38.617713  \n1  Allansford             3277  Warrnambool  142.590393 -38.386281  \n2       Avoca             3467     Pyrenees  143.475649 -37.084502  \n3      Avenel             3664  Strathbogie  145.234722 -36.901368  \n4  Warrandyte             3113   Manningham  145.213980 -37.742675  ",
      "text/html": "<div>\n<style scoped>\n    .dataframe tbody tr th:only-of-type {\n        vertical-align: middle;\n    }\n\n    .dataframe tbody tr th {\n        vertical-align: top;\n    }\n\n    .dataframe thead th {\n        text-align: right;\n    }\n</style>\n<table border=\"1\" class=\"dataframe\">\n  <thead>\n    <tr style=\"text-align: right;\">\n      <th></th>\n      <th>Education_Sector</th>\n      <th>Entity_Type</th>\n      <th>School_No</th>\n      <th>School_Name</th>\n      <th>School_Type</th>\n      <th>Postal_Address_Line_1</th>\n      <th>Postal_Town</th>\n      <th>Postal_Postcode</th>\n      <th>LGA_Name</th>\n      <th>X</th>\n      <th>Y</th>\n    </tr>\n  </thead>\n  <tbody>\n    <tr>\n      <th>0</th>\n      <td>Government</td>\n      <td>1</td>\n      <td>1</td>\n      <td>Alberton Primary School</td>\n      <td>Primary</td>\n      <td>21 Thomson Street</td>\n      <td>Alberton</td>\n      <td>3971</td>\n      <td>Wellington</td>\n      <td>146.666601</td>\n      <td>-38.617713</td>\n    </tr>\n    <tr>\n      <th>1</th>\n      <td>Government</td>\n      <td>1</td>\n      <td>3</td>\n      <td>Allansford and District Primary School</td>\n      <td>Primary</td>\n      <td>Frank Street</td>\n      <td>Allansford</td>\n      <td>3277</td>\n      <td>Warrnambool</td>\n      <td>142.590393</td>\n      <td>-38.386281</td>\n    </tr>\n    <tr>\n      <th>2</th>\n      <td>Government</td>\n      <td>1</td>\n      <td>4</td>\n      <td>Avoca Primary School</td>\n      <td>Primary</td>\n      <td>P O Box 12</td>\n      <td>Avoca</td>\n      <td>3467</td>\n      <td>Pyrenees</td>\n      <td>143.475649</td>\n      <td>-37.084502</td>\n    </tr>\n    <tr>\n      <th>3</th>\n      <td>Government</td>\n      <td>1</td>\n      <td>8</td>\n      <td>Avenel Primary School</td>\n      <td>Primary</td>\n      <td>40 Anderson Street</td>\n      <td>Avenel</td>\n      <td>3664</td>\n      <td>Strathbogie</td>\n      <td>145.234722</td>\n      <td>-36.901368</td>\n    </tr>\n    <tr>\n      <th>4</th>\n      <td>Government</td>\n      <td>1</td>\n      <td>12</td>\n      <td>Warrandyte Primary School</td>\n      <td>Primary</td>\n      <td>5-11 Forbes Street</td>\n      <td>Warrandyte</td>\n      <td>3113</td>\n      <td>Manningham</td>\n      <td>145.213980</td>\n      <td>-37.742675</td>\n    </tr>\n  </tbody>\n</table>\n</div>"
     },
     "metadata": {},
     "execution_count": 7
    }
   ],
   "source": [
    "schools_df.head()"
   ]
  },
  {
   "cell_type": "code",
   "execution_count": 8,
   "metadata": {},
   "outputs": [
    {
     "output_type": "execute_result",
     "data": {
      "text/plain": "     Education_Sector  Entity_Type  School_No  \\\n0          Government            1          1   \n1          Government            1          3   \n2          Government            1          4   \n3          Government            1          8   \n4          Government            1         12   \n...               ...          ...        ...   \n2249         Catholic            2       2222   \n2250      Independent            2       2223   \n2251         Catholic            2       2224   \n2252         Catholic            2       2225   \n2253         Catholic            2       2226   \n\n                                           School_Name School_Type  \\\n0                              Alberton Primary School     Primary   \n1               Allansford and District Primary School     Primary   \n2                                 Avoca Primary School     Primary   \n3                                Avenel Primary School     Primary   \n4                            Warrandyte Primary School     Primary   \n...                                                ...         ...   \n2249  Our Lady Star of the Sea Catholic Primary School     Primary   \n2250                           Maxwell Creative School     Primary   \n2251                                 St Anne&#39;s College     Pri/Sec   \n2252              Holy Trinity Catholic Primary School     Primary   \n2253                   Glowrey Catholic Primary School     Primary   \n\n     Postal_Address_Line_1      Suburb  Postcode     LGA_Name         Lat  \\\n0        21 Thomson Street    Alberton      3971   Wellington  146.666601   \n1             Frank Street  Allansford      3277  Warrnambool  142.590393   \n2               P O Box 12       Avoca      3467     Pyrenees  143.475649   \n3       40 Anderson Street      Avenel      3664  Strathbogie  145.234722   \n4       5-11 Forbes Street  Warrandyte      3113   Manningham  145.213980   \n...                    ...         ...       ...          ...         ...   \n2249    6 Cowes-Rhyll Road       Cowes      3922         Bass  145.239805   \n2250     6 Rainy Hill Road    Cockatoo      3781     Cardinia  145.518028   \n2251    72 Wendouree Drive      Kialla      3631      Greater  145.400337   \n2252    145 Mitchells Lane     Sunbury      3429         Hume  144.705316   \n2253      10 Baltrum Drive     Wollert      3750   Whittlesea  145.031776   \n\n            Lng  \n0    -38.617713  \n1    -38.386281  \n2    -37.084502  \n3    -36.901368  \n4    -37.742675  \n...         ...  \n2249 -38.463698  \n2250 -37.923946  \n2251 -36.436121  \n2252 -37.584791  \n2253 -37.615822  \n\n[2254 rows x 11 columns]",
      "text/html": "<div>\n<style scoped>\n    .dataframe tbody tr th:only-of-type {\n        vertical-align: middle;\n    }\n\n    .dataframe tbody tr th {\n        vertical-align: top;\n    }\n\n    .dataframe thead th {\n        text-align: right;\n    }\n</style>\n<table border=\"1\" class=\"dataframe\">\n  <thead>\n    <tr style=\"text-align: right;\">\n      <th></th>\n      <th>Education_Sector</th>\n      <th>Entity_Type</th>\n      <th>School_No</th>\n      <th>School_Name</th>\n      <th>School_Type</th>\n      <th>Postal_Address_Line_1</th>\n      <th>Suburb</th>\n      <th>Postcode</th>\n      <th>LGA_Name</th>\n      <th>Lat</th>\n      <th>Lng</th>\n    </tr>\n  </thead>\n  <tbody>\n    <tr>\n      <th>0</th>\n      <td>Government</td>\n      <td>1</td>\n      <td>1</td>\n      <td>Alberton Primary School</td>\n      <td>Primary</td>\n      <td>21 Thomson Street</td>\n      <td>Alberton</td>\n      <td>3971</td>\n      <td>Wellington</td>\n      <td>146.666601</td>\n      <td>-38.617713</td>\n    </tr>\n    <tr>\n      <th>1</th>\n      <td>Government</td>\n      <td>1</td>\n      <td>3</td>\n      <td>Allansford and District Primary School</td>\n      <td>Primary</td>\n      <td>Frank Street</td>\n      <td>Allansford</td>\n      <td>3277</td>\n      <td>Warrnambool</td>\n      <td>142.590393</td>\n      <td>-38.386281</td>\n    </tr>\n    <tr>\n      <th>2</th>\n      <td>Government</td>\n      <td>1</td>\n      <td>4</td>\n      <td>Avoca Primary School</td>\n      <td>Primary</td>\n      <td>P O Box 12</td>\n      <td>Avoca</td>\n      <td>3467</td>\n      <td>Pyrenees</td>\n      <td>143.475649</td>\n      <td>-37.084502</td>\n    </tr>\n    <tr>\n      <th>3</th>\n      <td>Government</td>\n      <td>1</td>\n      <td>8</td>\n      <td>Avenel Primary School</td>\n      <td>Primary</td>\n      <td>40 Anderson Street</td>\n      <td>Avenel</td>\n      <td>3664</td>\n      <td>Strathbogie</td>\n      <td>145.234722</td>\n      <td>-36.901368</td>\n    </tr>\n    <tr>\n      <th>4</th>\n      <td>Government</td>\n      <td>1</td>\n      <td>12</td>\n      <td>Warrandyte Primary School</td>\n      <td>Primary</td>\n      <td>5-11 Forbes Street</td>\n      <td>Warrandyte</td>\n      <td>3113</td>\n      <td>Manningham</td>\n      <td>145.213980</td>\n      <td>-37.742675</td>\n    </tr>\n    <tr>\n      <th>...</th>\n      <td>...</td>\n      <td>...</td>\n      <td>...</td>\n      <td>...</td>\n      <td>...</td>\n      <td>...</td>\n      <td>...</td>\n      <td>...</td>\n      <td>...</td>\n      <td>...</td>\n      <td>...</td>\n    </tr>\n    <tr>\n      <th>2249</th>\n      <td>Catholic</td>\n      <td>2</td>\n      <td>2222</td>\n      <td>Our Lady Star of the Sea Catholic Primary School</td>\n      <td>Primary</td>\n      <td>6 Cowes-Rhyll Road</td>\n      <td>Cowes</td>\n      <td>3922</td>\n      <td>Bass</td>\n      <td>145.239805</td>\n      <td>-38.463698</td>\n    </tr>\n    <tr>\n      <th>2250</th>\n      <td>Independent</td>\n      <td>2</td>\n      <td>2223</td>\n      <td>Maxwell Creative School</td>\n      <td>Primary</td>\n      <td>6 Rainy Hill Road</td>\n      <td>Cockatoo</td>\n      <td>3781</td>\n      <td>Cardinia</td>\n      <td>145.518028</td>\n      <td>-37.923946</td>\n    </tr>\n    <tr>\n      <th>2251</th>\n      <td>Catholic</td>\n      <td>2</td>\n      <td>2224</td>\n      <td>St Anne's College</td>\n      <td>Pri/Sec</td>\n      <td>72 Wendouree Drive</td>\n      <td>Kialla</td>\n      <td>3631</td>\n      <td>Greater</td>\n      <td>145.400337</td>\n      <td>-36.436121</td>\n    </tr>\n    <tr>\n      <th>2252</th>\n      <td>Catholic</td>\n      <td>2</td>\n      <td>2225</td>\n      <td>Holy Trinity Catholic Primary School</td>\n      <td>Primary</td>\n      <td>145 Mitchells Lane</td>\n      <td>Sunbury</td>\n      <td>3429</td>\n      <td>Hume</td>\n      <td>144.705316</td>\n      <td>-37.584791</td>\n    </tr>\n    <tr>\n      <th>2253</th>\n      <td>Catholic</td>\n      <td>2</td>\n      <td>2226</td>\n      <td>Glowrey Catholic Primary School</td>\n      <td>Primary</td>\n      <td>10 Baltrum Drive</td>\n      <td>Wollert</td>\n      <td>3750</td>\n      <td>Whittlesea</td>\n      <td>145.031776</td>\n      <td>-37.615822</td>\n    </tr>\n  </tbody>\n</table>\n<p>2254 rows × 11 columns</p>\n</div>"
     },
     "metadata": {},
     "execution_count": 8
    }
   ],
   "source": [
    "# Rename postcode column\n",
    "schools_df = schools_df.rename(columns={\"Postal_Postcode\": \"Postcode\",\n",
    "                                       \"Postal_Town\": \"Suburb\",\n",
    "                                       \"X\": \"Lat\",\n",
    "                                       \"Y\": \"Lng\"})\n",
    "schools_df"
   ]
  },
  {
   "cell_type": "code",
   "execution_count": 10,
   "metadata": {},
   "outputs": [],
   "source": [
    "# Retrieve postcode and suburbs\n",
    "suburb_lga_df = schools_df[[\"Suburb\", \"LGA_Name\"]]\n",
    "suburb_lga_df = suburb_lga_df.drop_duplicates()\n",
    "\n",
    "# Export into a csv file\n",
    "suburb_lga_df.to_csv(\"./output/suburb_lga_df.csv\", index=False)"
   ]
  },
  {
   "cell_type": "code",
   "execution_count": 11,
   "metadata": {},
   "outputs": [
    {
     "output_type": "execute_result",
     "data": {
      "text/plain": "              Suburb     LGA_Name\n0           Alberton   Wellington\n1         Allansford  Warrnambool\n2              Avoca     Pyrenees\n3             Avenel  Strathbogie\n4         Warrandyte   Manningham\n..               ...          ...\n962  Truganina South      Wyndham\n963         Richmond    Melbourne\n964        Koonwarra         Bass\n965     Rosebud West   Mornington\n966          Fitzroy    Frankston\n\n[967 rows x 2 columns]",
      "text/html": "<div>\n<style scoped>\n    .dataframe tbody tr th:only-of-type {\n        vertical-align: middle;\n    }\n\n    .dataframe tbody tr th {\n        vertical-align: top;\n    }\n\n    .dataframe thead th {\n        text-align: right;\n    }\n</style>\n<table border=\"1\" class=\"dataframe\">\n  <thead>\n    <tr style=\"text-align: right;\">\n      <th></th>\n      <th>Suburb</th>\n      <th>LGA_Name</th>\n    </tr>\n  </thead>\n  <tbody>\n    <tr>\n      <th>0</th>\n      <td>Alberton</td>\n      <td>Wellington</td>\n    </tr>\n    <tr>\n      <th>1</th>\n      <td>Allansford</td>\n      <td>Warrnambool</td>\n    </tr>\n    <tr>\n      <th>2</th>\n      <td>Avoca</td>\n      <td>Pyrenees</td>\n    </tr>\n    <tr>\n      <th>3</th>\n      <td>Avenel</td>\n      <td>Strathbogie</td>\n    </tr>\n    <tr>\n      <th>4</th>\n      <td>Warrandyte</td>\n      <td>Manningham</td>\n    </tr>\n    <tr>\n      <th>...</th>\n      <td>...</td>\n      <td>...</td>\n    </tr>\n    <tr>\n      <th>962</th>\n      <td>Truganina South</td>\n      <td>Wyndham</td>\n    </tr>\n    <tr>\n      <th>963</th>\n      <td>Richmond</td>\n      <td>Melbourne</td>\n    </tr>\n    <tr>\n      <th>964</th>\n      <td>Koonwarra</td>\n      <td>Bass</td>\n    </tr>\n    <tr>\n      <th>965</th>\n      <td>Rosebud West</td>\n      <td>Mornington</td>\n    </tr>\n    <tr>\n      <th>966</th>\n      <td>Fitzroy</td>\n      <td>Frankston</td>\n    </tr>\n  </tbody>\n</table>\n<p>967 rows × 2 columns</p>\n</div>"
     },
     "metadata": {},
     "execution_count": 11
    }
   ],
   "source": [
    "# Read into created csv\n",
    "suburb_lga = pd.read_csv(\"./output/suburb_lga_df.csv\")\n",
    "suburb_lga"
   ]
  },
  {
   "cell_type": "code",
   "execution_count": 12,
   "metadata": {},
   "outputs": [
    {
     "output_type": "execute_result",
     "data": {
      "text/plain": "    Suburb LGA_Name\n198  Cowes     Bass",
      "text/html": "<div>\n<style scoped>\n    .dataframe tbody tr th:only-of-type {\n        vertical-align: middle;\n    }\n\n    .dataframe tbody tr th {\n        vertical-align: top;\n    }\n\n    .dataframe thead th {\n        text-align: right;\n    }\n</style>\n<table border=\"1\" class=\"dataframe\">\n  <thead>\n    <tr style=\"text-align: right;\">\n      <th></th>\n      <th>Suburb</th>\n      <th>LGA_Name</th>\n    </tr>\n  </thead>\n  <tbody>\n    <tr>\n      <th>198</th>\n      <td>Cowes</td>\n      <td>Bass</td>\n    </tr>\n  </tbody>\n</table>\n</div>"
     },
     "metadata": {},
     "execution_count": 12
    }
   ],
   "source": [
    "cowes = suburb_lga.loc[suburb_lga[\"Suburb\"] == \"Cowes\"]\n",
    "cowes"
   ]
  },
  {
   "cell_type": "code",
   "execution_count": null,
   "metadata": {},
   "outputs": [],
   "source": [
    "# Groupby suburbs\n",
    "grouped_schools_df = schools_df.groupby([\"Suburb\"])\n",
    "\n",
    "# Find number of schools in each suburb\n",
    "schools_count = grouped_schools_df[\"School_Name\"].count()\n",
    "schools_count\n",
    "\n",
    "# Create a new df with school count\n",
    "schools_count_df = schools_count.reset_index()\n",
    "schools_count_df\n",
    "\n",
    "# Rename column\n",
    "schools_count_df = schools_count_df.rename(columns={\"Suburb\": \"suburb\",\n",
    "                                                    \"School_Name\": \"School Count\"})\n",
    "schools_count_df"
   ]
  },
  {
   "cell_type": "code",
   "execution_count": null,
   "metadata": {},
   "outputs": [],
   "source": [
    "# Import pre-covid housing data\n",
    "pre_covid_sales_file = \"./MT_resources/vic-sales-precovid.csv\"\n",
    "pre_covid_sales_df = pd.read_csv(pre_covid_sales_file)\n",
    "pre_covid_sales_df"
   ]
  },
  {
   "cell_type": "code",
   "execution_count": null,
   "metadata": {},
   "outputs": [],
   "source": [
    "# Merge suburb school counts into pre-covid housing data\n",
    "merged_pre_covid = pd.merge(schools_count_df, pre_covid_sales_df, how=\"left\", on=\"suburb\")\n",
    "merged_pre_covid"
   ]
  },
  {
   "cell_type": "code",
   "execution_count": null,
   "metadata": {},
   "outputs": [],
   "source": [
    "# Check pre covid data for nulls\n",
    "merged_pre_covid.count()"
   ]
  },
  {
   "cell_type": "code",
   "execution_count": null,
   "metadata": {},
   "outputs": [],
   "source": [
    "# Drop null values\n",
    "merged_pre_covid = merged_pre_covid.dropna()\n",
    "merged_pre_covid"
   ]
  },
  {
   "cell_type": "code",
   "execution_count": null,
   "metadata": {},
   "outputs": [],
   "source": [
    "# Rename columns for consistency\n",
    "merged_pre_covid = merged_pre_covid.rename(columns={\"Postcode\": \"postcode\",\n",
    "                                                    \"School Count\": \"school_count\"})\n",
    "merged_pre_covid"
   ]
  },
  {
   "cell_type": "code",
   "execution_count": null,
   "metadata": {},
   "outputs": [],
   "source": [
    "# Groupby on suburbs\n",
    "grouped_suburbs_df = merged_pre_covid.groupby([\"suburb\"])\n",
    "\n",
    "# Normalise housing prices in each suburb by finding the average purchase\n",
    "grouped_suburbs_df = round(grouped_suburbs_df[[\"school_count\", \"price\"]].mean(),2)\n",
    "\n",
    "grouped_suburbs_df"
   ]
  },
  {
   "cell_type": "code",
   "execution_count": null,
   "metadata": {},
   "outputs": [],
   "source": [
    "# Visualise\n",
    "grouped_suburbs_df.plot(kind=\"scatter\", x=\"school_count\", y=\"price\", grid=True, title=\"Number of Schools vs Average Housing Price in Victorian Suburbs\")"
   ]
  },
  {
   "cell_type": "code",
   "execution_count": null,
   "metadata": {},
   "outputs": [],
   "source": [
    "# Linear regression function\n",
    "def create_linear_regression_plot(x_values, y_values, x_label, y_label, period, line_placement, ylim=None):\n",
    "    (slope, intercept, rvalue, pvalue, stderr) = st.linregress(x_values, y_values)\n",
    "    \n",
    "    # Get regression values\n",
    "    regress_values = x_values * slope + intercept\n",
    "    \n",
    "    # Create line equation string\n",
    "    line_eq = \"y = \" + str(round(slope,2)) + \"x +\" + str(round(intercept, 2))\n",
    "    \n",
    "    # Using pyplot to create scatter plot\n",
    "    plt.scatter(x_values, y_values)\n",
    "    plt.xlabel(x_label)\n",
    "    plt.ylabel(y_label)\n",
    "    if ylim != None:\n",
    "        plt.ylim = (0, ylim)\n",
    "    plt.title(f'{period} covid - {x_label} vs. {y_label}')\n",
    "    plt.annotate(line_eq,line_placement,fontsize=15,color=\"red\")\n",
    "    \n",
    "    # Print r-squared value\n",
    "    print(f\"The r-squared is: {rvalue**2}\")\n",
    "    \n",
    "    # Print correlation between both factors\n",
    "    correlation = st.pearsonr(x_values,y_values)\n",
    "    print(f\"The correlation between both factors is {round(correlation[0],2)}\")\n",
    "    \n",
    "    # Save linear regression plot as png file\n",
    "    #plt.savefig(f\"./output/{period}_{x_label}_vs_{y_label}.png\")\n",
    "    \n",
    "    return plt.plot(x_values,regress_values,\"r-\")"
   ]
  },
  {
   "cell_type": "code",
   "execution_count": null,
   "metadata": {
    "tags": []
   },
   "outputs": [],
   "source": [
    "x_values = grouped_suburbs_df[\"school_count\"]\n",
    "y_values = grouped_suburbs_df[\"price\"]\n",
    "create_linear_regression_plot(x_values, y_values, \"Number of Schools\", \"Average Housing Price ($)\", \"Pre\", (10,1.5), ylim=None)"
   ]
  },
  {
   "cell_type": "code",
   "execution_count": null,
   "metadata": {},
   "outputs": [],
   "source": []
  }
 ],
 "metadata": {
  "kernelspec": {
   "name": "python3",
   "display_name": "Python 3",
   "metadata": {
    "interpreter": {
     "hash": "4511098e18df60c01b7d3969427a2c87e82d8a62973ae543cdaefaf6447f8e43"
    }
   }
  },
  "language_info": {
   "codemirror_mode": {
    "name": "ipython",
    "version": 3
   },
   "file_extension": ".py",
   "mimetype": "text/x-python",
   "name": "python",
   "nbconvert_exporter": "python",
   "pygments_lexer": "ipython3",
   "version": "3.6.10-final"
  }
 },
 "nbformat": 4,
 "nbformat_minor": 4
}