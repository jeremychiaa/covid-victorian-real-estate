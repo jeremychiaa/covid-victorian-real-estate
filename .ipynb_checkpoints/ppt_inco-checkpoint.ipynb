{
 "cells": [
  {
   "cell_type": "code",
   "execution_count": 1,
   "metadata": {},
   "outputs": [],
   "source": [
    "# Real estate data analysis (after Covid outbreak - February till July 16, 2020 )"
   ]
  },
  {
   "cell_type": "code",
   "execution_count": 2,
   "metadata": {},
   "outputs": [],
   "source": [
    "# import dependencies\n",
    "import pandas as pd\n",
    "import numpy as np\n",
    "import matplotlib.pyplot as plt"
   ]
  },
  {
   "cell_type": "code",
   "execution_count": 3,
   "metadata": {},
   "outputs": [],
   "source": [
    "# loading property sales data file\n",
    "ppt_df = pd.read_csv('Resources/vic-sales-postcovid.csv')"
   ]
  },
  {
   "cell_type": "code",
   "execution_count": 4,
   "metadata": {},
   "outputs": [
    {
     "data": {
      "text/html": [
       "<div>\n",
       "<style scoped>\n",
       "    .dataframe tbody tr th:only-of-type {\n",
       "        vertical-align: middle;\n",
       "    }\n",
       "\n",
       "    .dataframe tbody tr th {\n",
       "        vertical-align: top;\n",
       "    }\n",
       "\n",
       "    .dataframe thead th {\n",
       "        text-align: right;\n",
       "    }\n",
       "</style>\n",
       "<table border=\"1\" class=\"dataframe\">\n",
       "  <thead>\n",
       "    <tr style=\"text-align: right;\">\n",
       "      <th></th>\n",
       "      <th>Unnamed: 0</th>\n",
       "      <th>date_sold</th>\n",
       "      <th>price</th>\n",
       "      <th>suburb</th>\n",
       "      <th>city_name</th>\n",
       "      <th>state</th>\n",
       "      <th>lat</th>\n",
       "      <th>lon</th>\n",
       "      <th>bedrooms</th>\n",
       "      <th>property_type</th>\n",
       "      <th>loc_pid</th>\n",
       "      <th>lga_pid</th>\n",
       "      <th>Postcode</th>\n",
       "    </tr>\n",
       "  </thead>\n",
       "  <tbody>\n",
       "    <tr>\n",
       "      <th>0</th>\n",
       "      <td>45706</td>\n",
       "      <td>2020-02-01</td>\n",
       "      <td>780000.0</td>\n",
       "      <td>Rowville</td>\n",
       "      <td>Melbourne</td>\n",
       "      <td>VIC</td>\n",
       "      <td>-37.935166</td>\n",
       "      <td>145.246339</td>\n",
       "      <td>3</td>\n",
       "      <td>house</td>\n",
       "      <td>VIC2209</td>\n",
       "      <td>VIC128</td>\n",
       "      <td>3178.0</td>\n",
       "    </tr>\n",
       "    <tr>\n",
       "      <th>1</th>\n",
       "      <td>45707</td>\n",
       "      <td>2020-02-01</td>\n",
       "      <td>1675000.0</td>\n",
       "      <td>Sorrento</td>\n",
       "      <td>Melbourne</td>\n",
       "      <td>VIC</td>\n",
       "      <td>-38.352699</td>\n",
       "      <td>144.752381</td>\n",
       "      <td>4</td>\n",
       "      <td>house</td>\n",
       "      <td>VIC2311</td>\n",
       "      <td>VIC125</td>\n",
       "      <td>3943.0</td>\n",
       "    </tr>\n",
       "    <tr>\n",
       "      <th>2</th>\n",
       "      <td>45708</td>\n",
       "      <td>2020-02-01</td>\n",
       "      <td>492000.0</td>\n",
       "      <td>Southbank</td>\n",
       "      <td>Melbourne</td>\n",
       "      <td>VIC</td>\n",
       "      <td>-37.827084</td>\n",
       "      <td>144.957564</td>\n",
       "      <td>1</td>\n",
       "      <td>unit</td>\n",
       "      <td>VIC2319</td>\n",
       "      <td>VIC107</td>\n",
       "      <td>3006.0</td>\n",
       "    </tr>\n",
       "    <tr>\n",
       "      <th>3</th>\n",
       "      <td>45709</td>\n",
       "      <td>2020-02-01</td>\n",
       "      <td>540000.0</td>\n",
       "      <td>Southbank</td>\n",
       "      <td>Melbourne</td>\n",
       "      <td>VIC</td>\n",
       "      <td>-37.825159</td>\n",
       "      <td>144.962701</td>\n",
       "      <td>2</td>\n",
       "      <td>unit</td>\n",
       "      <td>VIC2319</td>\n",
       "      <td>VIC107</td>\n",
       "      <td>3006.0</td>\n",
       "    </tr>\n",
       "    <tr>\n",
       "      <th>4</th>\n",
       "      <td>45710</td>\n",
       "      <td>2020-02-01</td>\n",
       "      <td>675000.0</td>\n",
       "      <td>Keysborough</td>\n",
       "      <td>Melbourne</td>\n",
       "      <td>VIC</td>\n",
       "      <td>-38.002381</td>\n",
       "      <td>145.164533</td>\n",
       "      <td>3</td>\n",
       "      <td>townhouse</td>\n",
       "      <td>VIC1334</td>\n",
       "      <td>VIC91</td>\n",
       "      <td>3173.0</td>\n",
       "    </tr>\n",
       "  </tbody>\n",
       "</table>\n",
       "</div>"
      ],
      "text/plain": [
       "   Unnamed: 0   date_sold      price       suburb  city_name state        lat  \\\n",
       "0       45706  2020-02-01   780000.0     Rowville  Melbourne   VIC -37.935166   \n",
       "1       45707  2020-02-01  1675000.0     Sorrento  Melbourne   VIC -38.352699   \n",
       "2       45708  2020-02-01   492000.0    Southbank  Melbourne   VIC -37.827084   \n",
       "3       45709  2020-02-01   540000.0    Southbank  Melbourne   VIC -37.825159   \n",
       "4       45710  2020-02-01   675000.0  Keysborough  Melbourne   VIC -38.002381   \n",
       "\n",
       "          lon  bedrooms property_type  loc_pid lga_pid  Postcode  \n",
       "0  145.246339         3         house  VIC2209  VIC128    3178.0  \n",
       "1  144.752381         4         house  VIC2311  VIC125    3943.0  \n",
       "2  144.957564         1          unit  VIC2319  VIC107    3006.0  \n",
       "3  144.962701         2          unit  VIC2319  VIC107    3006.0  \n",
       "4  145.164533         3     townhouse  VIC1334   VIC91    3173.0  "
      ]
     },
     "execution_count": 4,
     "metadata": {},
     "output_type": "execute_result"
    }
   ],
   "source": [
    "ppt_df.head()"
   ]
  },
  {
   "cell_type": "code",
   "execution_count": 7,
   "metadata": {},
   "outputs": [],
   "source": [
    "# calculating stats\n",
    "\n",
    "avg_price = ppt_df.price.mean()\n",
    "median_price = ppt_df.price.median()\n",
    "lowest_price = ppt_df.price.min()\n",
    "highest_price = ppt_df.price.max()\n",
    "\n",
    "lowest_priced_sub = ppt_df.loc[ppt_df['price']==lowest_price]['suburb'].values\n",
    "highest_priced_sub = ppt_df.loc[ppt_df['price']==highest_price]['suburb'].values"
   ]
  },
  {
   "cell_type": "code",
   "execution_count": 8,
   "metadata": {},
   "outputs": [
    {
     "name": "stdout",
     "output_type": "stream",
     "text": [
      "The average, median values of property sold during the period are: AU$ 767,924 and AU$ 652,000\n",
      "The suburb has the lowest priced property sold AU$ 1,000 during the period is ['Werribee']\n",
      "The suburb has the highest priced property sold AU$ 7,573,100 during the period is ['Craigieburn']\n"
     ]
    }
   ],
   "source": [
    "# lowest & highest values property sold\n",
    "print(f\"The suburb has the lowest priced property sold AU$ {lowest_price:0,.0f} during the period is {lowest_priced_sub}\");\n",
    "print(f\"The suburb has the highest priced property sold AU$ {highest_price:0,.0f} during the period is {highest_priced_sub}\");"
   ]
  },
  {
   "cell_type": "code",
   "execution_count": 95,
   "metadata": {},
   "outputs": [
    {
     "name": "stdout",
     "output_type": "stream",
     "text": [
      "The average values of property sold during the period is: AU$ 767,924\n",
      "The median values of property sold during the period is: AU$ 652,000\n"
     ]
    },
    {
     "data": {
      "image/png": "[encoded data removed]",
      "text/plain": [
       "<Figure size 432x288 with 1 Axes>"
      ]
     },
     "metadata": {
      "needs_background": "light"
     },
     "output_type": "display_data"
    }
   ],
   "source": [
    "# histogram chart\n",
    "\n",
    "print(f\"The average values of property sold during the period is: AU$ {avg_price:0,.0f}\")\n",
    "print(f\"The median values of property sold during the period is: AU$ {median_price:0,.0f}\")\n",
    "plt.hist(ppt_df.price);\n",
    "plt.ylabel(\"Property Price (AU$ M)\")\n",
    "plt.show()"
   ]
  },
  {
   "cell_type": "code",
   "execution_count": 93,
   "metadata": {},
   "outputs": [
    {
     "data": {
      "image/png": "[encoded data removed]",
      "text/plain": [
       "<Figure size 432x288 with 1 Axes>"
      ]
     },
     "metadata": {
      "needs_background": "light"
     },
     "output_type": "display_data"
    }
   ],
   "source": [
    "# boxplot chart\n",
    "\n",
    "plt.boxplot(ppt_df.price);\n",
    "plt.title('Property Price in Victoria [Feb-Jul 2020]')\n",
    "plt.ylabel('Price (AU$ M)')\n",
    "plt.show()"
   ]
  },
  {
   "cell_type": "code",
   "execution_count": 103,
   "metadata": {},
   "outputs": [
    {
     "name": "stdout",
     "output_type": "stream",
     "text": [
      "The lower quartile of property price is: 525,000\n",
      "The upper quartile of property price is: 872,500\n",
      "The interquartile range of property price is: 347,500\n",
      "The median of property price is: 652,000\n",
      "Values below 3,750 could be outliers.\n",
      "Values above 1,393,750 could be outliers.\n"
     ]
    }
   ],
   "source": [
    "# Calculation of IQR and Outliers\n",
    "\n",
    "\n",
    "quartiles = ppt_df.price.quantile([.25,.5,.75])\n",
    "lowerq = quartiles[0.25]\n",
    "upperq = quartiles[0.75]\n",
    "iqr = upperq-lowerq\n",
    "\n",
    "print(f\"The lower quartile of property price is: {lowerq:0,.0f}\")\n",
    "print(f\"The upper quartile of property price is: {upperq:0,.0f}\")\n",
    "print(f\"The interquartile range of property price is: {iqr:0,.0f}\")\n",
    "print(f\"The median of property price is: {quartiles[0.5]:0,.0f}\")\n",
    "\n",
    "lower_bound = lowerq - (1.5*iqr)\n",
    "upper_bound = upperq + (1.5*iqr)\n",
    "print(f\"Values below {lower_bound:0,.0f} could be outliers.\")\n",
    "print(f\"Values above {upper_bound:0,.0f} could be outliers.\")"
   ]
  },
  {
   "cell_type": "code",
   "execution_count": 113,
   "metadata": {},
   "outputs": [
    {
     "data": {
      "text/html": [
       "<div>\n",
       "<style scoped>\n",
       "    .dataframe tbody tr th:only-of-type {\n",
       "        vertical-align: middle;\n",
       "    }\n",
       "\n",
       "    .dataframe tbody tr th {\n",
       "        vertical-align: top;\n",
       "    }\n",
       "\n",
       "    .dataframe thead th {\n",
       "        text-align: right;\n",
       "    }\n",
       "</style>\n",
       "<table border=\"1\" class=\"dataframe\">\n",
       "  <thead>\n",
       "    <tr style=\"text-align: right;\">\n",
       "      <th></th>\n",
       "      <th>date_sold</th>\n",
       "      <th>Unnamed: 0</th>\n",
       "      <th>price</th>\n",
       "      <th>suburb</th>\n",
       "      <th>city_name</th>\n",
       "      <th>state</th>\n",
       "      <th>lat</th>\n",
       "      <th>lon</th>\n",
       "      <th>bedrooms</th>\n",
       "      <th>property_type</th>\n",
       "      <th>loc_pid</th>\n",
       "      <th>lga_pid</th>\n",
       "      <th>Postcode</th>\n",
       "    </tr>\n",
       "  </thead>\n",
       "  <tbody>\n",
       "    <tr>\n",
       "      <th>0</th>\n",
       "      <td>2020-02-01</td>\n",
       "      <td>71</td>\n",
       "      <td>71</td>\n",
       "      <td>71</td>\n",
       "      <td>71</td>\n",
       "      <td>71</td>\n",
       "      <td>71</td>\n",
       "      <td>71</td>\n",
       "      <td>71</td>\n",
       "      <td>71</td>\n",
       "      <td>71</td>\n",
       "      <td>71</td>\n",
       "      <td>71</td>\n",
       "    </tr>\n",
       "    <tr>\n",
       "      <th>1</th>\n",
       "      <td>2020-02-02</td>\n",
       "      <td>18</td>\n",
       "      <td>18</td>\n",
       "      <td>18</td>\n",
       "      <td>18</td>\n",
       "      <td>18</td>\n",
       "      <td>18</td>\n",
       "      <td>18</td>\n",
       "      <td>18</td>\n",
       "      <td>18</td>\n",
       "      <td>18</td>\n",
       "      <td>18</td>\n",
       "      <td>18</td>\n",
       "    </tr>\n",
       "    <tr>\n",
       "      <th>2</th>\n",
       "      <td>2020-02-03</td>\n",
       "      <td>80</td>\n",
       "      <td>80</td>\n",
       "      <td>80</td>\n",
       "      <td>80</td>\n",
       "      <td>80</td>\n",
       "      <td>80</td>\n",
       "      <td>80</td>\n",
       "      <td>80</td>\n",
       "      <td>80</td>\n",
       "      <td>80</td>\n",
       "      <td>80</td>\n",
       "      <td>80</td>\n",
       "    </tr>\n",
       "    <tr>\n",
       "      <th>3</th>\n",
       "      <td>2020-02-04</td>\n",
       "      <td>93</td>\n",
       "      <td>93</td>\n",
       "      <td>93</td>\n",
       "      <td>93</td>\n",
       "      <td>93</td>\n",
       "      <td>93</td>\n",
       "      <td>93</td>\n",
       "      <td>93</td>\n",
       "      <td>93</td>\n",
       "      <td>93</td>\n",
       "      <td>93</td>\n",
       "      <td>93</td>\n",
       "    </tr>\n",
       "    <tr>\n",
       "      <th>4</th>\n",
       "      <td>2020-02-05</td>\n",
       "      <td>67</td>\n",
       "      <td>67</td>\n",
       "      <td>67</td>\n",
       "      <td>67</td>\n",
       "      <td>67</td>\n",
       "      <td>67</td>\n",
       "      <td>67</td>\n",
       "      <td>67</td>\n",
       "      <td>67</td>\n",
       "      <td>67</td>\n",
       "      <td>67</td>\n",
       "      <td>67</td>\n",
       "    </tr>\n",
       "  </tbody>\n",
       "</table>\n",
       "</div>"
      ],
      "text/plain": [
       "    date_sold  Unnamed: 0  price  suburb  city_name  state  lat  lon  \\\n",
       "0  2020-02-01          71     71      71         71     71   71   71   \n",
       "1  2020-02-02          18     18      18         18     18   18   18   \n",
       "2  2020-02-03          80     80      80         80     80   80   80   \n",
       "3  2020-02-04          93     93      93         93     93   93   93   \n",
       "4  2020-02-05          67     67      67         67     67   67   67   \n",
       "\n",
       "   bedrooms  property_type  loc_pid  lga_pid  Postcode  \n",
       "0        71             71       71       71        71  \n",
       "1        18             18       18       18        18  \n",
       "2        80             80       80       80        80  \n",
       "3        93             93       93       93        93  \n",
       "4        67             67       67       67        67  "
      ]
     },
     "execution_count": 113,
     "metadata": {},
     "output_type": "execute_result"
    }
   ],
   "source": [
    "ppt_by_month = ppt_df.groupby('date_sold').count().reset_index()\n",
    "ppt_by_month.head()"
   ]
  },
  {
   "cell_type": "code",
   "execution_count": 125,
   "metadata": {},
   "outputs": [
    {
     "data": {
      "image/png": "[encoded data removed]",
      "text/plain": [
       "<Figure size 1440x360 with 1 Axes>"
      ]
     },
     "metadata": {
      "needs_background": "light"
     },
     "output_type": "display_data"
    }
   ],
   "source": [
    "# property sold by date\n",
    "y_axis = ppt_by_month.suburb\n",
    "x_axis = ppt_by_month.date_sold\n",
    "plt.figure(figsize=(20,5))\n",
    "plt.bar(x_axis, y_axis, color='b', alpha=0.5, align=\"center\")\n",
    "tick_locations = [10, 30, 60, 90, 120, 150]\n",
    "plt.xticks(tick_locations, [\"Feb\", \"Mar\", \"Apr\", \"May\", \"Jun\",\"Jul\"])\n",
    "plt.xlim(-1, len(x_axis))\n",
    "plt.ylim(0, max(y_axis)+50)\n",
    "plt.xlabel('Date')\n",
    "plt.ylabel('Number of Properties Sold')\n",
    "plt.title('Number of Properties Sold in Victoria')\n",
    "plt.show()"
   ]
  },
  {
   "cell_type": "code",
   "execution_count": 108,
   "metadata": {},
   "outputs": [
    {
     "data": {
      "text/html": [
       "<div>\n",
       "<style scoped>\n",
       "    .dataframe tbody tr th:only-of-type {\n",
       "        vertical-align: middle;\n",
       "    }\n",
       "\n",
       "    .dataframe tbody tr th {\n",
       "        vertical-align: top;\n",
       "    }\n",
       "\n",
       "    .dataframe thead th {\n",
       "        text-align: right;\n",
       "    }\n",
       "</style>\n",
       "<table border=\"1\" class=\"dataframe\">\n",
       "  <thead>\n",
       "    <tr style=\"text-align: right;\">\n",
       "      <th></th>\n",
       "      <th>month_sold</th>\n",
       "      <th>Unnamed: 0</th>\n",
       "      <th>price</th>\n",
       "      <th>suburb</th>\n",
       "      <th>city_name</th>\n",
       "      <th>state</th>\n",
       "      <th>lat</th>\n",
       "      <th>lon</th>\n",
       "      <th>bedrooms</th>\n",
       "      <th>property_type</th>\n",
       "      <th>loc_pid</th>\n",
       "      <th>lga_pid</th>\n",
       "      <th>Postcode</th>\n",
       "    </tr>\n",
       "  </thead>\n",
       "  <tbody>\n",
       "    <tr>\n",
       "      <th>0</th>\n",
       "      <td>02</td>\n",
       "      <td>3274</td>\n",
       "      <td>3274</td>\n",
       "      <td>3274</td>\n",
       "      <td>3274</td>\n",
       "      <td>3274</td>\n",
       "      <td>3274</td>\n",
       "      <td>3274</td>\n",
       "      <td>3274</td>\n",
       "      <td>3274</td>\n",
       "      <td>3274</td>\n",
       "      <td>3274</td>\n",
       "      <td>3274</td>\n",
       "    </tr>\n",
       "    <tr>\n",
       "      <th>1</th>\n",
       "      <td>03</td>\n",
       "      <td>3093</td>\n",
       "      <td>3093</td>\n",
       "      <td>3093</td>\n",
       "      <td>3093</td>\n",
       "      <td>3093</td>\n",
       "      <td>3093</td>\n",
       "      <td>3093</td>\n",
       "      <td>3093</td>\n",
       "      <td>3093</td>\n",
       "      <td>3093</td>\n",
       "      <td>3093</td>\n",
       "      <td>3093</td>\n",
       "    </tr>\n",
       "    <tr>\n",
       "      <th>2</th>\n",
       "      <td>04</td>\n",
       "      <td>1794</td>\n",
       "      <td>1794</td>\n",
       "      <td>1794</td>\n",
       "      <td>1794</td>\n",
       "      <td>1794</td>\n",
       "      <td>1794</td>\n",
       "      <td>1794</td>\n",
       "      <td>1794</td>\n",
       "      <td>1794</td>\n",
       "      <td>1794</td>\n",
       "      <td>1794</td>\n",
       "      <td>1794</td>\n",
       "    </tr>\n",
       "    <tr>\n",
       "      <th>3</th>\n",
       "      <td>05</td>\n",
       "      <td>1785</td>\n",
       "      <td>1785</td>\n",
       "      <td>1785</td>\n",
       "      <td>1785</td>\n",
       "      <td>1785</td>\n",
       "      <td>1785</td>\n",
       "      <td>1785</td>\n",
       "      <td>1785</td>\n",
       "      <td>1785</td>\n",
       "      <td>1785</td>\n",
       "      <td>1785</td>\n",
       "      <td>1785</td>\n",
       "    </tr>\n",
       "    <tr>\n",
       "      <th>4</th>\n",
       "      <td>06</td>\n",
       "      <td>1959</td>\n",
       "      <td>1959</td>\n",
       "      <td>1959</td>\n",
       "      <td>1959</td>\n",
       "      <td>1959</td>\n",
       "      <td>1959</td>\n",
       "      <td>1959</td>\n",
       "      <td>1959</td>\n",
       "      <td>1959</td>\n",
       "      <td>1959</td>\n",
       "      <td>1959</td>\n",
       "      <td>1959</td>\n",
       "    </tr>\n",
       "    <tr>\n",
       "      <th>5</th>\n",
       "      <td>07</td>\n",
       "      <td>850</td>\n",
       "      <td>850</td>\n",
       "      <td>850</td>\n",
       "      <td>850</td>\n",
       "      <td>850</td>\n",
       "      <td>850</td>\n",
       "      <td>850</td>\n",
       "      <td>850</td>\n",
       "      <td>850</td>\n",
       "      <td>850</td>\n",
       "      <td>850</td>\n",
       "      <td>850</td>\n",
       "    </tr>\n",
       "  </tbody>\n",
       "</table>\n",
       "</div>"
      ],
      "text/plain": [
       "  month_sold  Unnamed: 0  price  suburb  city_name  state   lat   lon  \\\n",
       "0         02        3274   3274    3274       3274   3274  3274  3274   \n",
       "1         03        3093   3093    3093       3093   3093  3093  3093   \n",
       "2         04        1794   1794    1794       1794   1794  1794  1794   \n",
       "3         05        1785   1785    1785       1785   1785  1785  1785   \n",
       "4         06        1959   1959    1959       1959   1959  1959  1959   \n",
       "5         07         850    850     850        850    850   850   850   \n",
       "\n",
       "   bedrooms  property_type  loc_pid  lga_pid  Postcode  \n",
       "0      3274           3274     3274     3274      3274  \n",
       "1      3093           3093     3093     3093      3093  \n",
       "2      1794           1794     1794     1794      1794  \n",
       "3      1785           1785     1785     1785      1785  \n",
       "4      1959           1959     1959     1959      1959  \n",
       "5       850            850      850      850       850  "
      ]
     },
     "execution_count": 108,
     "metadata": {},
     "output_type": "execute_result"
    }
   ],
   "source": [
    "ppt_by_month['date_sold'] = ppt_by_month['date_sold'].astype(str);\n",
    "ppt_by_month['month_sold'] = ppt_by_month.date_sold.apply(lambda x: x[5:7])\n",
    "ppt_by_month = ppt_by_month.groupby('month_sold').sum().reset_index()\n",
    "ppt_by_month"
   ]
  },
  {
   "cell_type": "code",
   "execution_count": 109,
   "metadata": {},
   "outputs": [
    {
     "data": {
      "image/png": "[encoded data removed]",
      "text/plain": [
       "<Figure size 432x288 with 1 Axes>"
      ]
     },
     "metadata": {
      "needs_background": "light"
     },
     "output_type": "display_data"
    }
   ],
   "source": [
    "y_axis = ppt_by_month.suburb\n",
    "x_axis = ppt_by_month.month_sold\n",
    "plt.bar(x_axis, y_axis, color='b', alpha=0.5, align=\"center\")\n",
    "tick_locations = [v for v in x_axis]\n",
    "plt.xticks(tick_locations, [\"Feb\", \"Mar\", \"Apr\", \"May\", \"Jun\",\"Jul\"])\n",
    "plt.xlim(-1, len(x_axis))\n",
    "plt.ylim(0, max(y_axis)+500)\n",
    "plt.xlabel('Month')\n",
    "plt.ylabel('Property Sold')\n",
    "plt.title('Number of Properties Sold in Victoria [Feb-Jul 2020]')\n",
    "plt.show()"
   ]
  },
  {
   "cell_type": "code",
   "execution_count": null,
   "metadata": {},
   "outputs": [],
   "source": []
  }
 ],
 "metadata": {
  "kernelspec": {
   "display_name": "Python 3.6.10 64-bit ('PythonData': conda)",
   "language": "python",
   "name": "python361064bitpythondatacondaa70f06a6f8ee448e835eff764d6ba02e"
  },
  "language_info": {
   "codemirror_mode": {
    "name": "ipython",
    "version": 3
   },
   "file_extension": ".py",
   "mimetype": "text/x-python",
   "name": "python",
   "nbconvert_exporter": "python",
   "pygments_lexer": "ipython3",
   "version": "3.6.10"
  }
 },
 "nbformat": 4,
 "nbformat_minor": 4
}
