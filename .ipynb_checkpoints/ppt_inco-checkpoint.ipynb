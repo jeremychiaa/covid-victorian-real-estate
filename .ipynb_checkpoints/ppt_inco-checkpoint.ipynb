{
 "cells": [
  {
   "cell_type": "markdown",
   "metadata": {},
   "source": [
    "# Real estate data analysis (before & after Covid outbreak )"
   ]
  },
  {
   "cell_type": "code",
   "execution_count": 1,
   "metadata": {
    "slideshow": {
     "slide_type": "slide"
    }
   },
   "outputs": [],
   "source": [
    "# import dependencies\n",
    "import pandas as pd\n",
    "import numpy as np\n",
    "import matplotlib.pyplot as plt\n",
    "from scipy.stats import linregress\n",
    "import seaborn as sns"
   ]
  },
  {
   "cell_type": "code",
   "execution_count": 2,
   "metadata": {
    "slideshow": {
     "slide_type": "slide"
    }
   },
   "outputs": [],
   "source": [
    "# loading property sales data file\n",
    "ppt_df = pd.read_csv('Resources/vic-sales-postcovid.csv')"
   ]
  },
  {
   "cell_type": "code",
   "execution_count": 3,
   "metadata": {},
   "outputs": [],
   "source": [
    "# calculating stats\n",
    "\n",
    "avg_price = ppt_df.price.mean()\n",
    "median_price = ppt_df.price.median()\n",
    "std_price = ppt_df.price.std()\n",
    "lowest_price = ppt_df.price.min()\n",
    "highest_price = ppt_df.price.max()\n",
    "\n",
    "lowest_priced_sub = ppt_df.loc[ppt_df['price']==lowest_price]['suburb'].values\n",
    "highest_priced_sub = ppt_df.loc[ppt_df['price']==highest_price]['suburb'].values"
   ]
  },
  {
   "cell_type": "code",
   "execution_count": 4,
   "metadata": {},
   "outputs": [
    {
     "name": "stdout",
     "output_type": "stream",
     "text": [
      "---------------------------------------------------------------------------------\n",
      "The suburb, that has the lowest price property sold at AU$ 1,000 is Werribee.\n",
      "The suburb, that has the highest price property sold at AU$ 8,000,000 is South Yarra.\n",
      "---------------------------------------------------------------------------------\n"
     ]
    }
   ],
   "source": [
    "# lowest & highest values property sold\n",
    "print('---------------------------------------------------------------------------------')\n",
    "print(f\"The suburb, that has the lowest price property sold at AU$ {lowest_price:0,.0f} is {lowest_priced_sub[0]}.\");\n",
    "print(f\"The suburb, that has the highest price property sold at AU$ {highest_price:0,.0f} is {highest_priced_sub[0]}.\");\n",
    "print('---------------------------------------------------------------------------------')"
   ]
  },
  {
   "cell_type": "code",
   "execution_count": 5,
   "metadata": {},
   "outputs": [],
   "source": [
    "# Calculation of IQR and Outliers\n",
    "\n",
    "\n",
    "quartiles = ppt_df.price.quantile([.25,.5,.75])\n",
    "lowerq = quartiles[0.25]\n",
    "upperq = quartiles[0.75]\n",
    "iqr = upperq-lowerq\n",
    "\n",
    "# print(f\"The lower quartile of property price is: {lowerq:0,.0f}\")\n",
    "# print(f\"The upper quartile of property price is: {upperq:0,.0f}\")\n",
    "# print(f\"The interquartile range of property price is: {iqr:0,.0f}\")\n",
    "# print(f\"The median of property price is: {quartiles[0.5]:0,.0f}\")\n",
    "\n",
    "lower_bound = lowerq - (1.5*iqr)\n",
    "upper_bound = upperq + (1.5*iqr)\n",
    "\n",
    "# print(f\"* Values below {lower_bound:0,.0f} could be outliers.\")\n",
    "# print(f\"* Values above {upper_bound:0,.0f} could be outliers.\")"
   ]
  },
  {
   "cell_type": "code",
   "execution_count": 6,
   "metadata": {
    "scrolled": true,
    "slideshow": {
     "slide_type": "slide"
    }
   },
   "outputs": [
    {
     "data": {
      "image/png": "[encoded data removed]",
      "text/plain": [
       "<Figure size 1296x576 with 2 Axes>"
      ]
     },
     "metadata": {
      "needs_background": "light"
     },
     "output_type": "display_data"
    },
    {
     "name": "stdout",
     "output_type": "stream",
     "text": [
      "------------------------------------------------------------\n",
      "The average of property price is: 790,517\n",
      "The median of property price is: 667,000\n",
      "The standard deviation of property price is: 447,614\n",
      "------------------------------------------------------------\n",
      "                                                             -------------------------------------------------\n",
      "                                                              The lower quartile of property price is at 531,250\n",
      "                                                              The upper quartile of property price is at 905,000\n",
      "                                                            The interquartile range of property price is 373,750\n",
      "                                                                   The median value of property price is 667,000\n",
      "                                                               -------------------------------------------------\n",
      " * Values less than -29,375 or greater than 1,465,625 could be outliers.\n"
     ]
    }
   ],
   "source": [
    "# histogram chart\n",
    "\n",
    "plt.figure(figsize=(18,8))\n",
    "\n",
    "plt.subplot(1, 2, 1)\n",
    "\n",
    "bins = 60\n",
    "plt.hist(ppt_df.price, bins=120, facecolor='blue');\n",
    "#plt.grid()\n",
    "plt.ylabel(\"Property Sales Count\")\n",
    "plt.title('Property Price in Victoria [Feb-Jul 2020]')\n",
    "\n",
    "# boxplot chart\n",
    "plt.subplot(1, 2, 2)\n",
    "\n",
    "plt.boxplot(ppt_df.price);\n",
    "plt.title('Property Price in Victoria [Feb-Jul 2020]')\n",
    "plt.ylabel('Price (AU$ M)')\n",
    "\n",
    "plt.savefig('output/hist_box_ppty_price_covid.png')\n",
    "plt.show()\n",
    "\n",
    "print('------------------------------------------------------------')\n",
    "print(f\"The average of property price is: {avg_price:0,.0f}\")\n",
    "print(f\"The median of property price is: {median_price:0,.0f}\")\n",
    "print(f\"The standard deviation of property price is: {std_price:0,.0f}\")                      \n",
    "print('------------------------------------------------------------')\n",
    "\n",
    "txt1 = \"The lower quartile of property price is at\"\n",
    "txt2 = \"The upper quartile of property price is at\"\n",
    "txt3 = \"The interquartile range of property price is\"\n",
    "txt4 = \"The median value of property price is\"\n",
    "txt5 = ' '\n",
    "print(txt5.rjust(60),'-------------------------------------------------')\n",
    "print(' ',txt1.rjust(102),f\"{lowerq:0,.0f}\" )\n",
    "print(' ',txt2.rjust(102),f\"{upperq:0,.0f}\" )\n",
    "print(' ',txt3.rjust(102), f\"{iqr:0,.0f}\" )\n",
    "print(' ',txt4.rjust(102), f\"{quartiles[0.5]:0,.0f}\")\n",
    "print(' ',txt5.rjust(60),'-------------------------------------------------')\n",
    "\n",
    "print(f\" * Values less than {lower_bound:0,.0f} or greater than {upper_bound:0,.0f} could be outliers.\")\n"
   ]
  },
  {
   "cell_type": "code",
   "execution_count": 7,
   "metadata": {},
   "outputs": [],
   "source": [
    "# removing the properties values less than $5,000\n",
    "rm_index = ppt_df.loc[ppt_df.price < 5000]\n",
    "ppt_df = ppt_df.drop(rm_index.index)"
   ]
  },
  {
   "cell_type": "code",
   "execution_count": 8,
   "metadata": {},
   "outputs": [
    {
     "data": {
      "image/png": "[encoded data removed]",
      "text/plain": [
       "<Figure size 1296x432 with 3 Axes>"
      ]
     },
     "metadata": {
      "needs_background": "light"
     },
     "output_type": "display_data"
    }
   ],
   "source": [
    "plt.figure(figsize=(18,6))\n",
    "\n",
    "plt.subplot(1, 2, 1)\n",
    "\n",
    "sns.distplot(ppt_df.price, bins = 60, color = 'blue');\n",
    "plt.grid()\n",
    "\n",
    "plt.subplot(1, 2, 2)\n",
    "sns.heatmap(ppt_df.corr(), annot=True);\n",
    "\n",
    "plt.show()"
   ]
  },
  {
   "cell_type": "code",
   "execution_count": 9,
   "metadata": {},
   "outputs": [
    {
     "data": {
      "text/html": [
       "<div>\n",
       "<style scoped>\n",
       "    .dataframe tbody tr th:only-of-type {\n",
       "        vertical-align: middle;\n",
       "    }\n",
       "\n",
       "    .dataframe tbody tr th {\n",
       "        vertical-align: top;\n",
       "    }\n",
       "\n",
       "    .dataframe thead th {\n",
       "        text-align: right;\n",
       "    }\n",
       "</style>\n",
       "<table border=\"1\" class=\"dataframe\">\n",
       "  <thead>\n",
       "    <tr style=\"text-align: right;\">\n",
       "      <th></th>\n",
       "      <th>Local Government Area</th>\n",
       "      <th>Cases</th>\n",
       "      <th>Date</th>\n",
       "    </tr>\n",
       "  </thead>\n",
       "  <tbody>\n",
       "    <tr>\n",
       "      <th>0</th>\n",
       "      <td>STONNINGTON</td>\n",
       "      <td>84</td>\n",
       "      <td>4042020</td>\n",
       "    </tr>\n",
       "    <tr>\n",
       "      <th>1</th>\n",
       "      <td>BANYULE</td>\n",
       "      <td>64</td>\n",
       "      <td>4042020</td>\n",
       "    </tr>\n",
       "    <tr>\n",
       "      <th>2</th>\n",
       "      <td>BOROONDARA</td>\n",
       "      <td>56</td>\n",
       "      <td>4042020</td>\n",
       "    </tr>\n",
       "    <tr>\n",
       "      <th>3</th>\n",
       "      <td>GREATER GEELONG</td>\n",
       "      <td>54</td>\n",
       "      <td>4042020</td>\n",
       "    </tr>\n",
       "    <tr>\n",
       "      <th>4</th>\n",
       "      <td>MORNINGTON PENINSULA</td>\n",
       "      <td>52</td>\n",
       "      <td>4042020</td>\n",
       "    </tr>\n",
       "  </tbody>\n",
       "</table>\n",
       "</div>"
      ],
      "text/plain": [
       "  Local Government Area Cases     Date\n",
       "0           STONNINGTON    84  4042020\n",
       "1               BANYULE    64  4042020\n",
       "2            BOROONDARA    56  4042020\n",
       "3       GREATER GEELONG    54  4042020\n",
       "4  MORNINGTON PENINSULA    52  4042020"
      ]
     },
     "execution_count": 9,
     "metadata": {},
     "output_type": "execute_result"
    }
   ],
   "source": [
    "# loading covid dataset\n",
    "covid_df = pd.read_excel('Resources/covid_data.xlsx')\n",
    "covid_df.head()"
   ]
  },
  {
   "cell_type": "code",
   "execution_count": 10,
   "metadata": {},
   "outputs": [
    {
     "data": {
      "image/png": "[encoded data removed]",
      "text/plain": [
       "<Figure size 864x360 with 1 Axes>"
      ]
     },
     "metadata": {
      "needs_background": "light"
     },
     "output_type": "display_data"
    }
   ],
   "source": [
    "# having a look at the data\n",
    "\n",
    "plt.figure(figsize=(12,5))\n",
    "\n",
    "plt.subplot(1, 2, 1)\n",
    "sns.distplot(covid_df.Cases, bins = 60, color = 'blue')\n",
    "plt.grid()\n",
    "plt.show()\n"
   ]
  },
  {
   "cell_type": "code",
   "execution_count": 11,
   "metadata": {},
   "outputs": [],
   "source": [
    "# convert data to suitable datatype\n",
    "covid_df['Date'] = covid_df['Date'].astype(str)\n",
    "covid_df['Cases'] = covid_df['Cases'].astype(int)\n",
    "\n",
    "# function to store month data\n",
    "covid_df['Month'] = covid_df.Date.apply(lambda x: x[x.rfind('2020')-2:x.rfind('2020')])"
   ]
  },
  {
   "cell_type": "code",
   "execution_count": 12,
   "metadata": {},
   "outputs": [
    {
     "data": {
      "text/html": [
       "<div>\n",
       "<style scoped>\n",
       "    .dataframe tbody tr th:only-of-type {\n",
       "        vertical-align: middle;\n",
       "    }\n",
       "\n",
       "    .dataframe tbody tr th {\n",
       "        vertical-align: top;\n",
       "    }\n",
       "\n",
       "    .dataframe thead th {\n",
       "        text-align: right;\n",
       "    }\n",
       "</style>\n",
       "<table border=\"1\" class=\"dataframe\">\n",
       "  <thead>\n",
       "    <tr style=\"text-align: right;\">\n",
       "      <th></th>\n",
       "      <th>month_sold</th>\n",
       "      <th>Unnamed: 0</th>\n",
       "      <th>price</th>\n",
       "      <th>suburb</th>\n",
       "      <th>city_name</th>\n",
       "      <th>state</th>\n",
       "      <th>lat</th>\n",
       "      <th>lon</th>\n",
       "      <th>bedrooms</th>\n",
       "      <th>property_type</th>\n",
       "      <th>loc_pid</th>\n",
       "      <th>lga_pid</th>\n",
       "      <th>LGA_Name</th>\n",
       "    </tr>\n",
       "  </thead>\n",
       "  <tbody>\n",
       "    <tr>\n",
       "      <th>0</th>\n",
       "      <td>02</td>\n",
       "      <td>5811</td>\n",
       "      <td>5811</td>\n",
       "      <td>5811</td>\n",
       "      <td>5811</td>\n",
       "      <td>5811</td>\n",
       "      <td>5811</td>\n",
       "      <td>5811</td>\n",
       "      <td>5811</td>\n",
       "      <td>5811</td>\n",
       "      <td>5811</td>\n",
       "      <td>5811</td>\n",
       "      <td>5811</td>\n",
       "    </tr>\n",
       "    <tr>\n",
       "      <th>1</th>\n",
       "      <td>03</td>\n",
       "      <td>5455</td>\n",
       "      <td>5455</td>\n",
       "      <td>5455</td>\n",
       "      <td>5455</td>\n",
       "      <td>5455</td>\n",
       "      <td>5455</td>\n",
       "      <td>5455</td>\n",
       "      <td>5455</td>\n",
       "      <td>5455</td>\n",
       "      <td>5455</td>\n",
       "      <td>5455</td>\n",
       "      <td>5455</td>\n",
       "    </tr>\n",
       "    <tr>\n",
       "      <th>2</th>\n",
       "      <td>04</td>\n",
       "      <td>3090</td>\n",
       "      <td>3090</td>\n",
       "      <td>3090</td>\n",
       "      <td>3090</td>\n",
       "      <td>3090</td>\n",
       "      <td>3090</td>\n",
       "      <td>3090</td>\n",
       "      <td>3090</td>\n",
       "      <td>3090</td>\n",
       "      <td>3090</td>\n",
       "      <td>3090</td>\n",
       "      <td>3090</td>\n",
       "    </tr>\n",
       "    <tr>\n",
       "      <th>3</th>\n",
       "      <td>05</td>\n",
       "      <td>3128</td>\n",
       "      <td>3128</td>\n",
       "      <td>3128</td>\n",
       "      <td>3128</td>\n",
       "      <td>3128</td>\n",
       "      <td>3128</td>\n",
       "      <td>3128</td>\n",
       "      <td>3128</td>\n",
       "      <td>3128</td>\n",
       "      <td>3128</td>\n",
       "      <td>3128</td>\n",
       "      <td>3128</td>\n",
       "    </tr>\n",
       "    <tr>\n",
       "      <th>4</th>\n",
       "      <td>06</td>\n",
       "      <td>3394</td>\n",
       "      <td>3394</td>\n",
       "      <td>3394</td>\n",
       "      <td>3394</td>\n",
       "      <td>3394</td>\n",
       "      <td>3394</td>\n",
       "      <td>3394</td>\n",
       "      <td>3394</td>\n",
       "      <td>3394</td>\n",
       "      <td>3394</td>\n",
       "      <td>3394</td>\n",
       "      <td>3394</td>\n",
       "    </tr>\n",
       "    <tr>\n",
       "      <th>5</th>\n",
       "      <td>07</td>\n",
       "      <td>1450</td>\n",
       "      <td>1450</td>\n",
       "      <td>1450</td>\n",
       "      <td>1450</td>\n",
       "      <td>1450</td>\n",
       "      <td>1450</td>\n",
       "      <td>1450</td>\n",
       "      <td>1450</td>\n",
       "      <td>1450</td>\n",
       "      <td>1450</td>\n",
       "      <td>1450</td>\n",
       "      <td>1450</td>\n",
       "    </tr>\n",
       "  </tbody>\n",
       "</table>\n",
       "</div>"
      ],
      "text/plain": [
       "  month_sold  Unnamed: 0  price  suburb  city_name  state   lat   lon  \\\n",
       "0         02        5811   5811    5811       5811   5811  5811  5811   \n",
       "1         03        5455   5455    5455       5455   5455  5455  5455   \n",
       "2         04        3090   3090    3090       3090   3090  3090  3090   \n",
       "3         05        3128   3128    3128       3128   3128  3128  3128   \n",
       "4         06        3394   3394    3394       3394   3394  3394  3394   \n",
       "5         07        1450   1450    1450       1450   1450  1450  1450   \n",
       "\n",
       "   bedrooms  property_type  loc_pid  lga_pid  LGA_Name  \n",
       "0      5811           5811     5811     5811      5811  \n",
       "1      5455           5455     5455     5455      5455  \n",
       "2      3090           3090     3090     3090      3090  \n",
       "3      3128           3128     3128     3128      3128  \n",
       "4      3394           3394     3394     3394      3394  \n",
       "5      1450           1450     1450     1450      1450  "
      ]
     },
     "execution_count": 12,
     "metadata": {},
     "output_type": "execute_result"
    }
   ],
   "source": [
    "# grouping by date sold \n",
    "ppt_by_date = ppt_df.groupby('date_sold').count().reset_index()\n",
    "#ppt_by_date.head()\n",
    "\n",
    "# storing month sold\n",
    "ppt_by_date['date_sold'] = ppt_by_date['date_sold'].astype(str);\n",
    "ppt_by_date['month_sold'] = ppt_by_date.date_sold.apply(lambda x: x[5:7])\n",
    "ppt_by_month = ppt_by_date.groupby('month_sold').sum().reset_index()\n",
    "ppt_by_month"
   ]
  },
  {
   "cell_type": "code",
   "execution_count": 13,
   "metadata": {},
   "outputs": [
    {
     "data": {
      "image/png": "[encoded data removed]",
      "text/plain": [
       "<Figure size 1152x576 with 2 Axes>"
      ]
     },
     "metadata": {
      "needs_background": "light"
     },
     "output_type": "display_data"
    }
   ],
   "source": [
    "# plotting property sold and covid cases charts\n",
    "\n",
    "plt.figure(figsize=(16,8))\n",
    "\n",
    "plt.subplot(1, 2, 1)\n",
    "\n",
    "y_axis = ppt_by_month.suburb\n",
    "x_axis = ppt_by_month.month_sold\n",
    "plt.bar(x_axis, y_axis, color='blue', alpha=0.5, align=\"center\")\n",
    "tick_locations = [v for v in x_axis]\n",
    "plt.xticks(tick_locations, [\"Feb\", \"Mar\", \"Apr\", \"May\", \"Jun\",\"Jul\"])\n",
    "plt.xlim(-1, len(x_axis))\n",
    "plt.ylim(0, max(y_axis)+500)\n",
    "plt.xlabel('Month')\n",
    "plt.ylabel('Property Sold')\n",
    "plt.title('Number of Properties Sold in Victoria [Feb-Jul 2020]')\n",
    "plt.plot(x_axis, y_axis, color='blue')\n",
    "\n",
    "\n",
    "# covid cases chart\n",
    "plt.subplot(1, 2, 2)\n",
    "x_axis = covid_df['Month'].astype(int)\n",
    "y_axis = covid_df.Cases\n",
    " \n",
    "plt.bar(x_axis, y_axis, color='red', alpha=0.5, align=\"center\")\n",
    "tick_locations = [4, 5, 6]\n",
    "plt.xticks(tick_locations, [\"Apr\", \"May\", \"Jun\"])\n",
    "#plt.xlim(5, len(x_axis)+5)\n",
    "#plt.ylim(0, max(y_axis) + 5)\n",
    "plt.xlabel('Month')\n",
    "plt.ylabel('Covid Case')\n",
    "plt.title('Number of Covid Cases in Victoria [April-Jun 2020]')\n",
    "\n",
    "plt.savefig('output/bars_ppt_sold_in_covid.png')\n",
    "plt.show()\n"
   ]
  },
  {
   "cell_type": "code",
   "execution_count": null,
   "metadata": {
    "slideshow": {
     "slide_type": "slide"
    }
   },
   "outputs": [],
   "source": [
    "# property sold by date\n",
    "y_axis = ppt_by_date.suburb\n",
    "x_axis = ppt_by_date.date_sold\n",
    "\n",
    "plt.figure(figsize=(20,8))\n",
    "plt.bar(x_axis, y_axis, color='r', alpha=0.5, align=\"center\")\n",
    "\n",
    "tick_locations = [25, 50, 75, 100, 125, 150]\n",
    "plt.xticks(tick_locations, [\"Feb\", \"Mar\", \"Apr\", \"May\", \"Jun\",\"Jul\"])\n",
    "plt.xlim(-1, len(x_axis))\n",
    "plt.ylim(0, max(y_axis)+50)\n",
    "plt.xlabel('Date')\n",
    "plt.ylabel('Properties Count')\n",
    "plt.title('Number of Properties Sold by suburb in Victoria')\n",
    "\n",
    "\n",
    "x = ppt_by_date.date_sold\n",
    "y = ppt_by_date.suburb\n",
    "plt.plot(x, y, color='red', label='Number of Properties Sold', linewidth= 2)\n",
    "plt.ylabel('Property Count')\n",
    "plt.xlabel('Date')\n",
    "plt.title('Number of Properties Sold by suburb in Victoria')\n",
    "plt.legend(loc='best')\n",
    "plt.grid()\n",
    "\n",
    "plt.savefig('output/num_ppty_sold_by_month.png')\n",
    "plt.show()"
   ]
  },
  {
   "cell_type": "code",
   "execution_count": null,
   "metadata": {},
   "outputs": [],
   "source": [
    "# scatter chart\n",
    "x = ppt_by_date.date_sold\n",
    "y = ppt_by_date.suburb\n",
    "\n",
    "plt.figure(figsize=(18,8))\n",
    "plt.scatter(x, y)\n",
    "tick_locations = [25, 50, 75, 100, 125, 150]\n",
    "plt.xticks(tick_locations, [\"Feb\", \"Mar\", \"Apr\", \"May\", \"Jun\",\"Jul\"])\n",
    "\n",
    "plt.xlim(-1, len(x_axis))\n",
    "plt.ylim(0, max(y_axis)+50)\n",
    "plt.xlabel('Month')\n",
    "plt.ylabel('Properties Count')\n",
    "plt.title('Number of Properties Sold by suburb in Victoria')\n",
    "\n",
    "plt.savefig('output/scatter_ppty_sold_covid.png')\n",
    "plt.show()"
   ]
  },
  {
   "cell_type": "code",
   "execution_count": null,
   "metadata": {},
   "outputs": [],
   "source": [
    "# reading property data before Covid outbreak\n",
    "ppt_pre_df = pd.read_csv('Resources/vic-sales-precovid.csv')\n",
    "\n",
    "ppt_pre_df.head()"
   ]
  },
  {
   "cell_type": "code",
   "execution_count": null,
   "metadata": {},
   "outputs": [],
   "source": [
    "# reading the csv file with local government name \n",
    "suburb_lga_df = pd.read_csv('output/suburb_lga_postcode_df.csv')\n",
    "\n",
    "# change the columns name (suburb) to match with sorted_ppt_df\n",
    "suburb_lga_df = suburb_lga_df.rename(columns={'Suburb':'suburb'})"
   ]
  },
  {
   "cell_type": "code",
   "execution_count": null,
   "metadata": {},
   "outputs": [],
   "source": [
    "# limiting the time period to Feb-Jul, 2019 [.isin(['2019-02-02', '2019-07-15'])]\n",
    "reduced_ppt_df = ppt_pre_df[ppt_pre_df['date_sold'] > '2019-01-02'] \n",
    "reduced_ppt_df = reduced_ppt_df[ppt_pre_df['date_sold'] < '2019-07-15' ].reset_index()\n",
    "\n",
    "#reduced_ppt_df.reset_index()"
   ]
  },
  {
   "cell_type": "code",
   "execution_count": null,
   "metadata": {},
   "outputs": [],
   "source": [
    "# merging with suburb_lga file to acquire the lga name\n",
    "merged_reduced_df = pd.merge(reduced_ppt_df, suburb_lga_df, how = 'left', on = 'suburb', suffixes = '_x' )"
   ]
  },
  {
   "cell_type": "code",
   "execution_count": null,
   "metadata": {},
   "outputs": [],
   "source": [
    "plt.figure(figsize=(20,8))\n",
    "\n",
    "# seting xticklabel\n",
    "plt.xticks(rotation=45,horizontalalignment='right', fontweight='light', fontsize='x-large');\n",
    "plt.xlabel('Local Government Area')\n",
    "plt.ylabel('Number of Property Sold')\n",
    "plt.title('Property Sold in Local Government Area Before Covid Outbreak [Feb - Jul 2019]')\n",
    "sns.countplot(merged_reduced_df.LGA_Name);\n",
    "\n",
    "plt.savefig('output/lga_popu_pre_covid [Feb-Jul-2019].png')\n",
    "plt.show()"
   ]
  },
  {
   "cell_type": "code",
   "execution_count": null,
   "metadata": {},
   "outputs": [],
   "source": [
    "# grouping and analyze data by lga after Covid outbreak"
   ]
  },
  {
   "cell_type": "code",
   "execution_count": null,
   "metadata": {},
   "outputs": [],
   "source": [
    "# sorting by date sold and local government area\n",
    "sorted_ppt_df = ppt_df.sort_values(by=['date_sold','lga_pid'])\n",
    "sorted_ppt_df = sorted_ppt_df[['date_sold','lga_pid','suburb','price']]"
   ]
  },
  {
   "cell_type": "code",
   "execution_count": null,
   "metadata": {},
   "outputs": [],
   "source": [
    "merged_sub_df = pd.merge(sorted_ppt_df, suburb_lga_df, how = 'left', on = 'suburb', suffixes = '_x' )"
   ]
  },
  {
   "cell_type": "code",
   "execution_count": null,
   "metadata": {},
   "outputs": [],
   "source": [
    "# plotting the property sales by local government area\n",
    "\n",
    "plt.figure(figsize=(20,8))\n",
    "\n",
    "# seting xticklabel\n",
    "plt.xticks(rotation=45,horizontalalignment='right',fontweight='light',fontsize='x-large');\n",
    "plt.xlabel('Local Government Area')\n",
    "plt.ylabel('Number of Property Sold')\n",
    "plt.title('Property Sold in Local Government Area after Covid Outbreak [Feb - Jul 2020]')\n",
    "sns.countplot(merged_sub_df.LGA_Name);\n",
    "\n",
    "plt.savefig('output/lga_popu_covid.png')\n",
    "plt.show()"
   ]
  },
  {
   "cell_type": "code",
   "execution_count": null,
   "metadata": {},
   "outputs": [],
   "source": [
    "# overall property sales volume before covid outbreak [Feb 2018 till Jan 2020]"
   ]
  },
  {
   "cell_type": "code",
   "execution_count": null,
   "metadata": {},
   "outputs": [],
   "source": [
    "merged_sub_df = pd.merge(ppt_pre_df, suburb_lga_df, how = 'left', on = 'suburb', suffixes = '_x' )"
   ]
  },
  {
   "cell_type": "code",
   "execution_count": null,
   "metadata": {},
   "outputs": [],
   "source": [
    "plt.figure(figsize=(20,8))\n",
    "\n",
    "# seting xticklabel\n",
    "plt.xticks(rotation=45,horizontalalignment='right',fontweight='light',fontsize='x-large');\n",
    "plt.title('Property Sold in Local Government Area Before Covid Outbreak [Feb 2018 - Jan 2020]')\n",
    "sns.countplot(merged_sub_df.LGA_Name);\n",
    "\n",
    "plt.savefig('output/lga_popu_pre_covid [2018-2019].png')\n",
    "plt.show()"
   ]
  },
  {
   "cell_type": "code",
   "execution_count": null,
   "metadata": {},
   "outputs": [],
   "source": []
  }
 ],
 "metadata": {
  "kernelspec": {
   "display_name": "Python 3.6.10 64-bit ('PythonData': conda)",
   "language": "python",
   "name": "python361064bitpythondatacondaa70f06a6f8ee448e835eff764d6ba02e"
  },
  "language_info": {
   "codemirror_mode": {
    "name": "ipython",
    "version": 3
   },
   "file_extension": ".py",
   "mimetype": "text/x-python",
   "name": "python",
   "nbconvert_exporter": "python",
   "pygments_lexer": "ipython3",
   "version": "3.6.10"
  }
 },
 "nbformat": 4,
 "nbformat_minor": 4
}
