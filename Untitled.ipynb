{
 "cells": [
  {
   "cell_type": "code",
   "execution_count": 1,
   "metadata": {},
   "outputs": [
    {
     "name": "stdout",
     "output_type": "stream",
     "text": [
      "Collecting RISE\n",
      "  Downloading rise-5.6.1-py2.py3-none-any.whl (4.0 MB)\n",
      "Requirement already satisfied: notebook>=5.5.0 in c:\\users\\home\\.conda\\envs\\pythondata\\lib\\site-packages (from RISE) (6.0.3)\n",
      "Requirement already satisfied: pyzmq>=17 in c:\\users\\home\\.conda\\envs\\pythondata\\lib\\site-packages (from notebook>=5.5.0->RISE) (19.0.1)\n",
      "Requirement already satisfied: jinja2 in c:\\users\\home\\.conda\\envs\\pythondata\\lib\\site-packages (from notebook>=5.5.0->RISE) (2.11.2)\n",
      "Requirement already satisfied: traitlets>=4.2.1 in c:\\users\\home\\.conda\\envs\\pythondata\\lib\\site-packages (from notebook>=5.5.0->RISE) (4.3.3)\n",
      "Requirement already satisfied: prometheus-client in c:\\users\\home\\.conda\\envs\\pythondata\\lib\\site-packages (from notebook>=5.5.0->RISE) (0.8.0)\n",
      "Requirement already satisfied: nbconvert in c:\\users\\home\\.conda\\envs\\pythondata\\lib\\site-packages (from notebook>=5.5.0->RISE) (5.6.1)\n",
      "Requirement already satisfied: Send2Trash in c:\\users\\home\\.conda\\envs\\pythondata\\lib\\site-packages (from notebook>=5.5.0->RISE) (1.5.0)\n",
      "Requirement already satisfied: ipykernel in c:\\users\\home\\.conda\\envs\\pythondata\\lib\\site-packages (from notebook>=5.5.0->RISE) (5.3.2)\n",
      "Requirement already satisfied: nbformat in c:\\users\\home\\.conda\\envs\\pythondata\\lib\\site-packages (from notebook>=5.5.0->RISE) (5.0.7)\n",
      "Requirement already satisfied: terminado>=0.8.1 in c:\\users\\home\\.conda\\envs\\pythondata\\lib\\site-packages (from notebook>=5.5.0->RISE) (0.8.3)\n",
      "Requirement already satisfied: jupyter-core>=4.6.1 in c:\\users\\home\\.conda\\envs\\pythondata\\lib\\site-packages (from notebook>=5.5.0->RISE) (4.6.3)\n",
      "Requirement already satisfied: ipython-genutils in c:\\users\\home\\.conda\\envs\\pythondata\\lib\\site-packages (from notebook>=5.5.0->RISE) (0.2.0)\n",
      "Requirement already satisfied: tornado>=5.0 in c:\\users\\home\\.conda\\envs\\pythondata\\lib\\site-packages (from notebook>=5.5.0->RISE) (6.0.4)\n",
      "Requirement already satisfied: jupyter-client>=5.3.4 in c:\\users\\home\\.conda\\envs\\pythondata\\lib\\site-packages (from notebook>=5.5.0->RISE) (6.1.6)\n",
      "Requirement already satisfied: MarkupSafe>=0.23 in c:\\users\\home\\.conda\\envs\\pythondata\\lib\\site-packages (from jinja2->notebook>=5.5.0->RISE) (1.1.1)\n",
      "Requirement already satisfied: six in c:\\users\\home\\.conda\\envs\\pythondata\\lib\\site-packages (from traitlets>=4.2.1->notebook>=5.5.0->RISE) (1.15.0)\n",
      "Requirement already satisfied: decorator in c:\\users\\home\\.conda\\envs\\pythondata\\lib\\site-packages (from traitlets>=4.2.1->notebook>=5.5.0->RISE) (4.4.2)\n",
      "Requirement already satisfied: mistune<2,>=0.8.1 in c:\\users\\home\\.conda\\envs\\pythondata\\lib\\site-packages (from nbconvert->notebook>=5.5.0->RISE) (0.8.4)\n",
      "Requirement already satisfied: testpath in c:\\users\\home\\.conda\\envs\\pythondata\\lib\\site-packages (from nbconvert->notebook>=5.5.0->RISE) (0.4.4)\n",
      "Requirement already satisfied: bleach in c:\\users\\home\\.conda\\envs\\pythondata\\lib\\site-packages (from nbconvert->notebook>=5.5.0->RISE) (3.1.5)\n",
      "Requirement already satisfied: pygments in c:\\users\\home\\.conda\\envs\\pythondata\\lib\\site-packages (from nbconvert->notebook>=5.5.0->RISE) (2.6.1)\n",
      "Requirement already satisfied: defusedxml in c:\\users\\home\\.conda\\envs\\pythondata\\lib\\site-packages (from nbconvert->notebook>=5.5.0->RISE) (0.6.0)\n",
      "Requirement already satisfied: pandocfilters>=1.4.1 in c:\\users\\home\\.conda\\envs\\pythondata\\lib\\site-packages (from nbconvert->notebook>=5.5.0->RISE) (1.4.2)\n",
      "Requirement already satisfied: entrypoints>=0.2.2 in c:\\users\\home\\.conda\\envs\\pythondata\\lib\\site-packages (from nbconvert->notebook>=5.5.0->RISE) (0.3)\n",
      "Requirement already satisfied: ipython>=5.0.0 in c:\\users\\home\\.conda\\envs\\pythondata\\lib\\site-packages (from ipykernel->notebook>=5.5.0->RISE) (7.16.1)\n",
      "Requirement already satisfied: jsonschema!=2.5.0,>=2.4 in c:\\users\\home\\.conda\\envs\\pythondata\\lib\\site-packages (from nbformat->notebook>=5.5.0->RISE) (3.2.0)\n",
      "Requirement already satisfied: pywin32>=1.0; sys_platform == \"win32\" in c:\\users\\home\\.conda\\envs\\pythondata\\lib\\site-packages (from jupyter-core>=4.6.1->notebook>=5.5.0->RISE) (227)\n",
      "Requirement already satisfied: python-dateutil>=2.1 in c:\\users\\home\\.conda\\envs\\pythondata\\lib\\site-packages (from jupyter-client>=5.3.4->notebook>=5.5.0->RISE) (2.8.1)\n",
      "Requirement already satisfied: webencodings in c:\\users\\home\\.conda\\envs\\pythondata\\lib\\site-packages (from bleach->nbconvert->notebook>=5.5.0->RISE) (0.5.1)\n",
      "Requirement already satisfied: packaging in c:\\users\\home\\.conda\\envs\\pythondata\\lib\\site-packages (from bleach->nbconvert->notebook>=5.5.0->RISE) (20.4)\n",
      "Requirement already satisfied: jedi>=0.10 in c:\\users\\home\\.conda\\envs\\pythondata\\lib\\site-packages (from ipython>=5.0.0->ipykernel->notebook>=5.5.0->RISE) (0.17.1)\n",
      "Requirement already satisfied: colorama; sys_platform == \"win32\" in c:\\users\\home\\.conda\\envs\\pythondata\\lib\\site-packages (from ipython>=5.0.0->ipykernel->notebook>=5.5.0->RISE) (0.4.3)\n",
      "Requirement already satisfied: backcall in c:\\users\\home\\.conda\\envs\\pythondata\\lib\\site-packages (from ipython>=5.0.0->ipykernel->notebook>=5.5.0->RISE) (0.2.0)\n",
      "Requirement already satisfied: setuptools>=18.5 in c:\\users\\home\\.conda\\envs\\pythondata\\lib\\site-packages (from ipython>=5.0.0->ipykernel->notebook>=5.5.0->RISE) (49.2.0.post20200714)\n",
      "Requirement already satisfied: prompt-toolkit!=3.0.0,!=3.0.1,<3.1.0,>=2.0.0 in c:\\users\\home\\.conda\\envs\\pythondata\\lib\\site-packages (from ipython>=5.0.0->ipykernel->notebook>=5.5.0->RISE) (3.0.5)\n",
      "Requirement already satisfied: pickleshare in c:\\users\\home\\.conda\\envs\\pythondata\\lib\\site-packages (from ipython>=5.0.0->ipykernel->notebook>=5.5.0->RISE) (0.7.5)\n",
      "Requirement already satisfied: importlib-metadata; python_version < \"3.8\" in c:\\users\\home\\.conda\\envs\\pythondata\\lib\\site-packages (from jsonschema!=2.5.0,>=2.4->nbformat->notebook>=5.5.0->RISE) (1.7.0)\n",
      "Requirement already satisfied: pyrsistent>=0.14.0 in c:\\users\\home\\.conda\\envs\\pythondata\\lib\\site-packages (from jsonschema!=2.5.0,>=2.4->nbformat->notebook>=5.5.0->RISE) (0.16.0)\n",
      "Requirement already satisfied: attrs>=17.4.0 in c:\\users\\home\\.conda\\envs\\pythondata\\lib\\site-packages (from jsonschema!=2.5.0,>=2.4->nbformat->notebook>=5.5.0->RISE) (19.3.0)\n",
      "Requirement already satisfied: pyparsing>=2.0.2 in c:\\users\\home\\.conda\\envs\\pythondata\\lib\\site-packages (from packaging->bleach->nbconvert->notebook>=5.5.0->RISE) (2.4.7)\n",
      "Requirement already satisfied: parso<0.8.0,>=0.7.0 in c:\\users\\home\\.conda\\envs\\pythondata\\lib\\site-packages (from jedi>=0.10->ipython>=5.0.0->ipykernel->notebook>=5.5.0->RISE) (0.7.0)\n",
      "Requirement already satisfied: wcwidth in c:\\users\\home\\.conda\\envs\\pythondata\\lib\\site-packages (from prompt-toolkit!=3.0.0,!=3.0.1,<3.1.0,>=2.0.0->ipython>=5.0.0->ipykernel->notebook>=5.5.0->RISE) (0.2.5)\n",
      "Requirement already satisfied: zipp>=0.5 in c:\\users\\home\\.conda\\envs\\pythondata\\lib\\site-packages (from importlib-metadata; python_version < \"3.8\"->jsonschema!=2.5.0,>=2.4->nbformat->notebook>=5.5.0->RISE) (3.1.0)\n",
      "Installing collected packages: RISE\n",
      "Successfully installed RISE-5.6.1\n",
      "Note: you may need to restart the kernel to use updated packages.\n"
     ]
    }
   ],
   "source": [
    "pip install RISE"
   ]
  },
  {
   "cell_type": "code",
   "execution_count": null,
   "metadata": {},
   "outputs": [],
   "source": []
  }
 ],
 "metadata": {
  "kernelspec": {
   "display_name": "Python 3.6.10 64-bit ('PythonData': conda)",
   "language": "python",
   "name": "python361064bitpythondatacondaa70f06a6f8ee448e835eff764d6ba02e"
  },
  "language_info": {
   "codemirror_mode": {
    "name": "ipython",
    "version": 3
   },
   "file_extension": ".py",
   "mimetype": "text/x-python",
   "name": "python",
   "nbconvert_exporter": "python",
   "pygments_lexer": "ipython3",
   "version": "3.6.10"
  }
 },
 "nbformat": 4,
 "nbformat_minor": 4
}
