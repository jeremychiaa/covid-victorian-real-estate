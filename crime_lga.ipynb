{
 "metadata": {
  "language_info": {
   "codemirror_mode": {
    "name": "ipython",
    "version": 3
   },
   "file_extension": ".py",
   "mimetype": "text/x-python",
   "name": "python",
   "nbconvert_exporter": "python",
   "pygments_lexer": "ipython3",
   "version": "3.6.10-final"
  },
  "orig_nbformat": 2,
  "kernelspec": {
   "name": "python_defaultSpec_1602066897392",
   "display_name": "Python 3.6.10 64-bit ('PythonData': conda)",
   "metadata": {
    "interpreter": {
     "hash": "4511098e18df60c01b7d3969427a2c87e82d8a62973ae543cdaefaf6447f8e43"
    }
   }
  }
 },
 "nbformat": 4,
 "nbformat_minor": 2,
 "cells": [
  {
   "cell_type": "code",
   "execution_count": 1,
   "metadata": {},
   "outputs": [],
   "source": [
    "# Dependencies\n",
    "import pandas as pd\n",
    "import numpy as np\n",
    "import matplotlib.pyplot as plt\n",
    "import scipy.stats as st"
   ]
  },
  {
   "cell_type": "code",
   "execution_count": 2,
   "metadata": {},
   "outputs": [],
   "source": [
    "# Read into crime data file\n",
    "crime_file = \"./Resources/crime_data.csv\"\n",
    "crime_df = pd.read_csv(crime_file)"
   ]
  },
  {
   "cell_type": "code",
   "execution_count": 11,
   "metadata": {},
   "outputs": [
    {
     "output_type": "execute_result",
     "data": {
      "text/plain": "       LGA_Name  Percent change in house price  Total Sales\n0       Banyule                     -11.610266         2285\n1       Bayside                      11.899379         2095\n2    Boroondara                      -6.213793         2388\n3      Brimbank                       1.093687         2251\n4      Cardinia                      -1.474852         2173\n5         Casey                       3.280064         5044\n6       Darebin                      -5.931583         2699\n7     Frankston                      -3.332706         2939\n8          Glen                     -14.238339         2552\n9       Greater                      -2.125233         2507\n10      Hobsons                       0.972562         2347\n11         Hume                      -3.848849         3986\n12     Kingston                     -10.483110         2909\n13         Knox                       4.718328         2520\n14   Manningham                      -3.998614         1845\n15  Maribyrnong                       0.411944         1243\n16    Maroondah                       1.221407         1864\n17    Melbourne                      -5.434380         3461\n18       Melton                       3.140718         1768\n19       Monash                       6.188759         2370\n20       Moonee                      -6.223026         1894\n21     Moreland                      -5.352872         2814\n22   Mornington                       3.143202         3464\n23    Nillumbik                      -7.102871         1742\n24         Port                      -1.073704         3250\n25  Stonnington                      18.775694         1746\n26   Whitehorse                     -10.878944         3067\n27   Whittlesea                      -4.102611         3659\n28      Wyndham                      -1.821427         3792\n29        Yarra                      -6.507968         4106",
      "text/html": "<div>\n<style scoped>\n    .dataframe tbody tr th:only-of-type {\n        vertical-align: middle;\n    }\n\n    .dataframe tbody tr th {\n        vertical-align: top;\n    }\n\n    .dataframe thead th {\n        text-align: right;\n    }\n</style>\n<table border=\"1\" class=\"dataframe\">\n  <thead>\n    <tr style=\"text-align: right;\">\n      <th></th>\n      <th>LGA_Name</th>\n      <th>Percent change in house price</th>\n      <th>Total Sales</th>\n    </tr>\n  </thead>\n  <tbody>\n    <tr>\n      <th>0</th>\n      <td>Banyule</td>\n      <td>-11.610266</td>\n      <td>2285</td>\n    </tr>\n    <tr>\n      <th>1</th>\n      <td>Bayside</td>\n      <td>11.899379</td>\n      <td>2095</td>\n    </tr>\n    <tr>\n      <th>2</th>\n      <td>Boroondara</td>\n      <td>-6.213793</td>\n      <td>2388</td>\n    </tr>\n    <tr>\n      <th>3</th>\n      <td>Brimbank</td>\n      <td>1.093687</td>\n      <td>2251</td>\n    </tr>\n    <tr>\n      <th>4</th>\n      <td>Cardinia</td>\n      <td>-1.474852</td>\n      <td>2173</td>\n    </tr>\n    <tr>\n      <th>5</th>\n      <td>Casey</td>\n      <td>3.280064</td>\n      <td>5044</td>\n    </tr>\n    <tr>\n      <th>6</th>\n      <td>Darebin</td>\n      <td>-5.931583</td>\n      <td>2699</td>\n    </tr>\n    <tr>\n      <th>7</th>\n      <td>Frankston</td>\n      <td>-3.332706</td>\n      <td>2939</td>\n    </tr>\n    <tr>\n      <th>8</th>\n      <td>Glen</td>\n      <td>-14.238339</td>\n      <td>2552</td>\n    </tr>\n    <tr>\n      <th>9</th>\n      <td>Greater</td>\n      <td>-2.125233</td>\n      <td>2507</td>\n    </tr>\n    <tr>\n      <th>10</th>\n      <td>Hobsons</td>\n      <td>0.972562</td>\n      <td>2347</td>\n    </tr>\n    <tr>\n      <th>11</th>\n      <td>Hume</td>\n      <td>-3.848849</td>\n      <td>3986</td>\n    </tr>\n    <tr>\n      <th>12</th>\n      <td>Kingston</td>\n      <td>-10.483110</td>\n      <td>2909</td>\n    </tr>\n    <tr>\n      <th>13</th>\n      <td>Knox</td>\n      <td>4.718328</td>\n      <td>2520</td>\n    </tr>\n    <tr>\n      <th>14</th>\n      <td>Manningham</td>\n      <td>-3.998614</td>\n      <td>1845</td>\n    </tr>\n    <tr>\n      <th>15</th>\n      <td>Maribyrnong</td>\n      <td>0.411944</td>\n      <td>1243</td>\n    </tr>\n    <tr>\n      <th>16</th>\n      <td>Maroondah</td>\n      <td>1.221407</td>\n      <td>1864</td>\n    </tr>\n    <tr>\n      <th>17</th>\n      <td>Melbourne</td>\n      <td>-5.434380</td>\n      <td>3461</td>\n    </tr>\n    <tr>\n      <th>18</th>\n      <td>Melton</td>\n      <td>3.140718</td>\n      <td>1768</td>\n    </tr>\n    <tr>\n      <th>19</th>\n      <td>Monash</td>\n      <td>6.188759</td>\n      <td>2370</td>\n    </tr>\n    <tr>\n      <th>20</th>\n      <td>Moonee</td>\n      <td>-6.223026</td>\n      <td>1894</td>\n    </tr>\n    <tr>\n      <th>21</th>\n      <td>Moreland</td>\n      <td>-5.352872</td>\n      <td>2814</td>\n    </tr>\n    <tr>\n      <th>22</th>\n      <td>Mornington</td>\n      <td>3.143202</td>\n      <td>3464</td>\n    </tr>\n    <tr>\n      <th>23</th>\n      <td>Nillumbik</td>\n      <td>-7.102871</td>\n      <td>1742</td>\n    </tr>\n    <tr>\n      <th>24</th>\n      <td>Port</td>\n      <td>-1.073704</td>\n      <td>3250</td>\n    </tr>\n    <tr>\n      <th>25</th>\n      <td>Stonnington</td>\n      <td>18.775694</td>\n      <td>1746</td>\n    </tr>\n    <tr>\n      <th>26</th>\n      <td>Whitehorse</td>\n      <td>-10.878944</td>\n      <td>3067</td>\n    </tr>\n    <tr>\n      <th>27</th>\n      <td>Whittlesea</td>\n      <td>-4.102611</td>\n      <td>3659</td>\n    </tr>\n    <tr>\n      <th>28</th>\n      <td>Wyndham</td>\n      <td>-1.821427</td>\n      <td>3792</td>\n    </tr>\n    <tr>\n      <th>29</th>\n      <td>Yarra</td>\n      <td>-6.507968</td>\n      <td>4106</td>\n    </tr>\n  </tbody>\n</table>\n</div>"
     },
     "metadata": {},
     "execution_count": 11
    }
   ],
   "source": [
    "# Import percent change in LGA's median housing price file\n",
    "percent_change_file = (\"./Resources/percent_change_perLGA.csv\")\n",
    "percent_change_df = pd.read_csv(percent_change_file)\n",
    "percent_change_df"
   ]
  },
  {
   "cell_type": "code",
   "execution_count": 4,
   "metadata": {},
   "outputs": [],
   "source": [
    "crime_df = crime_df.rename(columns={\"Suburb\": \"LGA_Name\"})"
   ]
  },
  {
   "cell_type": "code",
   "execution_count": 5,
   "metadata": {},
   "outputs": [
    {
     "output_type": "execute_result",
     "data": {
      "text/plain": "Unnamed: 0                     870\nYear                           870\nYear ending                    870\nPolice Region                  870\nLGA_Name                       870\nIncidents Recorded             870\nRate per 100,000 population    830\ndtype: int64"
     },
     "metadata": {},
     "execution_count": 5
    }
   ],
   "source": [
    "crime_df.count()"
   ]
  },
  {
   "cell_type": "code",
   "execution_count": 6,
   "metadata": {},
   "outputs": [
    {
     "output_type": "execute_result",
     "data": {
      "text/plain": "Unnamed: 0                     830\nYear                           830\nYear ending                    830\nPolice Region                  830\nLGA_Name                       830\nIncidents Recorded             830\nRate per 100,000 population    830\ndtype: int64"
     },
     "metadata": {},
     "execution_count": 6
    }
   ],
   "source": [
    "crime_df = crime_df.dropna()\n",
    "crime_df.count()"
   ]
  },
  {
   "cell_type": "code",
   "execution_count": 7,
   "metadata": {},
   "outputs": [
    {
     "output_type": "execute_result",
     "data": {
      "text/plain": "   Unnamed: 0  Year Year ending       Police Region      LGA_Name  \\\n0          87  2019       March  1 North West Metro       Banyule   \n1          88  2019       March  1 North West Metro      Brimbank   \n2          89  2019       March  1 North West Metro       Darebin   \n3          90  2019       March  1 North West Metro   Hobsons Bay   \n4          91  2019       March  1 North West Metro          Hume   \n\n  Incidents Recorded Rate per 100,000 population  \n0             7,014                     5,328.5   \n1            14,673                     7,003.0   \n2            11,248                     6,850.9   \n3             4,849                     4,960.6   \n4            15,596                     6,680.1   ",
      "text/html": "<div>\n<style scoped>\n    .dataframe tbody tr th:only-of-type {\n        vertical-align: middle;\n    }\n\n    .dataframe tbody tr th {\n        vertical-align: top;\n    }\n\n    .dataframe thead th {\n        text-align: right;\n    }\n</style>\n<table border=\"1\" class=\"dataframe\">\n  <thead>\n    <tr style=\"text-align: right;\">\n      <th></th>\n      <th>Unnamed: 0</th>\n      <th>Year</th>\n      <th>Year ending</th>\n      <th>Police Region</th>\n      <th>LGA_Name</th>\n      <th>Incidents Recorded</th>\n      <th>Rate per 100,000 population</th>\n    </tr>\n  </thead>\n  <tbody>\n    <tr>\n      <th>0</th>\n      <td>87</td>\n      <td>2019</td>\n      <td>March</td>\n      <td>1 North West Metro</td>\n      <td>Banyule</td>\n      <td>7,014</td>\n      <td>5,328.5</td>\n    </tr>\n    <tr>\n      <th>1</th>\n      <td>88</td>\n      <td>2019</td>\n      <td>March</td>\n      <td>1 North West Metro</td>\n      <td>Brimbank</td>\n      <td>14,673</td>\n      <td>7,003.0</td>\n    </tr>\n    <tr>\n      <th>2</th>\n      <td>89</td>\n      <td>2019</td>\n      <td>March</td>\n      <td>1 North West Metro</td>\n      <td>Darebin</td>\n      <td>11,248</td>\n      <td>6,850.9</td>\n    </tr>\n    <tr>\n      <th>3</th>\n      <td>90</td>\n      <td>2019</td>\n      <td>March</td>\n      <td>1 North West Metro</td>\n      <td>Hobsons Bay</td>\n      <td>4,849</td>\n      <td>4,960.6</td>\n    </tr>\n    <tr>\n      <th>4</th>\n      <td>91</td>\n      <td>2019</td>\n      <td>March</td>\n      <td>1 North West Metro</td>\n      <td>Hume</td>\n      <td>15,596</td>\n      <td>6,680.1</td>\n    </tr>\n  </tbody>\n</table>\n</div>"
     },
     "metadata": {},
     "execution_count": 7
    }
   ],
   "source": [
    "# Retrieve just 2019 data\n",
    "latest_crime_df = crime_df.loc[crime_df[\"Year\"] == 2019]\n",
    "latest_crime_df.reset_index(inplace=True, drop=True)\n",
    "latest_crime_df.head()"
   ]
  },
  {
   "cell_type": "code",
   "execution_count": 17,
   "metadata": {},
   "outputs": [
    {
     "output_type": "execute_result",
     "data": {
      "text/plain": "                    Rate per 100,000 population\nLGA_Name                                       \n Alpine                                3,113.8 \n Ararat                                7,691.0 \n Ballarat                              7,426.1 \n Banyule                               5,328.5 \n Bass Coast                            4,911.9 \n...                                         ...\n Wyndham                               4,238.3 \n Yarra                                11,018.3 \n Yarra Ranges                          3,617.2 \n Yarriambiack                          4,820.0 \nTotal          6,602.5 4,854.9 5,563.3 6,159.6 \n\n[80 rows x 1 columns]",
      "text/html": "<div>\n<style scoped>\n    .dataframe tbody tr th:only-of-type {\n        vertical-align: middle;\n    }\n\n    .dataframe tbody tr th {\n        vertical-align: top;\n    }\n\n    .dataframe thead th {\n        text-align: right;\n    }\n</style>\n<table border=\"1\" class=\"dataframe\">\n  <thead>\n    <tr style=\"text-align: right;\">\n      <th></th>\n      <th>Rate per 100,000 population</th>\n    </tr>\n    <tr>\n      <th>LGA_Name</th>\n      <th></th>\n    </tr>\n  </thead>\n  <tbody>\n    <tr>\n      <th>Alpine</th>\n      <td>3,113.8</td>\n    </tr>\n    <tr>\n      <th>Ararat</th>\n      <td>7,691.0</td>\n    </tr>\n    <tr>\n      <th>Ballarat</th>\n      <td>7,426.1</td>\n    </tr>\n    <tr>\n      <th>Banyule</th>\n      <td>5,328.5</td>\n    </tr>\n    <tr>\n      <th>Bass Coast</th>\n      <td>4,911.9</td>\n    </tr>\n    <tr>\n      <th>...</th>\n      <td>...</td>\n    </tr>\n    <tr>\n      <th>Wyndham</th>\n      <td>4,238.3</td>\n    </tr>\n    <tr>\n      <th>Yarra</th>\n      <td>11,018.3</td>\n    </tr>\n    <tr>\n      <th>Yarra Ranges</th>\n      <td>3,617.2</td>\n    </tr>\n    <tr>\n      <th>Yarriambiack</th>\n      <td>4,820.0</td>\n    </tr>\n    <tr>\n      <th>Total</th>\n      <td>6,602.5 4,854.9 5,563.3 6,159.6</td>\n    </tr>\n  </tbody>\n</table>\n<p>80 rows × 1 columns</p>\n</div>"
     },
     "metadata": {},
     "execution_count": 17
    }
   ],
   "source": [
    "# Retrieve just relevant columns\n",
    "latest_crime_df = latest_crime_df[[\"LGA_Name\", \"Rate per 100,000 population\"]]\n",
    "\n",
    "# Split up data into groups based on LGA_Name\n",
    "grouped_crime_df = latest_crime_df.groupby([\"LGA_Name\"])\n",
    "\n",
    "\n",
    "latest_grouped_crime_df = grouped_crime_df[\"Rate per 100,000 population\"].sum()\n",
    "\n",
    "# Convert numpy object to pandas dataframe\n",
    "latest_grouped_crime_df = pd.DataFrame(latest_grouped_crime_df)\n",
    "\n",
    "latest_grouped_crime_df"
   ]
  },
  {
   "cell_type": "code",
   "execution_count": 18,
   "metadata": {},
   "outputs": [
    {
     "output_type": "execute_result",
     "data": {
      "text/plain": "Empty DataFrame\nColumns: [LGA_Name, Rate per 100,000 population, Percent change in house price, Total Sales]\nIndex: []",
      "text/html": "<div>\n<style scoped>\n    .dataframe tbody tr th:only-of-type {\n        vertical-align: middle;\n    }\n\n    .dataframe tbody tr th {\n        vertical-align: top;\n    }\n\n    .dataframe thead th {\n        text-align: right;\n    }\n</style>\n<table border=\"1\" class=\"dataframe\">\n  <thead>\n    <tr style=\"text-align: right;\">\n      <th></th>\n      <th>LGA_Name</th>\n      <th>Rate per 100,000 population</th>\n      <th>Percent change in house price</th>\n      <th>Total Sales</th>\n    </tr>\n  </thead>\n  <tbody>\n  </tbody>\n</table>\n</div>"
     },
     "metadata": {},
     "execution_count": 18
    }
   ],
   "source": [
    "# Merge both dataframes\n",
    "merged_crime_lga = pd.merge(latest_grouped_crime_df, percent_change_df, on=\"LGA_Name\", how=\"inner\")\n",
    "merged_crime_lga"
   ]
  },
  {
   "cell_type": "code",
   "execution_count": 19,
   "metadata": {},
   "outputs": [
    {
     "output_type": "execute_result",
     "data": {
      "text/plain": "LGA_Name                         0\nRate per 100,000 population      0\nPercent change in house price    0\nTotal Sales                      0\ndtype: int64"
     },
     "metadata": {},
     "execution_count": 19
    }
   ],
   "source": [
    "merged_crime_lga.count()"
   ]
  },
  {
   "cell_type": "code",
   "execution_count": null,
   "metadata": {},
   "outputs": [],
   "source": []
  }
 ]
}